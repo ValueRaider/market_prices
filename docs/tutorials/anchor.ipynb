{
 "cells": [
  {
   "cell_type": "markdown",
   "metadata": {},
   "source": [
    "# Anchor tutorial"
   ]
  },
  {
   "cell_type": "markdown",
   "metadata": {},
   "source": [
    "#### Sections\n",
    "* [Anchors](#Anchors)\n",
    "* [`anchor` \"open\"](#anchor-\"open\")\n",
    "    * [Interrogating indices with `.pt` accessor](#Interrogating-indices-with-.pt-accessor)\n",
    "        * [Trading status](#Trading-status)\n",
    "        * [Number of trading minutes](#Number-of-trading-minutes)\n",
    "        * [Intervals' lengths](#Intervals'-lengths)\n",
    "    * [`force`](#force)\n",
    "        * [Force to period end with `openend`](#Force-to-period-end-with-openend)\n",
    "    * [Indices overlapping next session](#Indices-overlapping-next-session)\n",
    "* [`anchor` \"workback\"](#anchor-\"workback\")\n",
    "* [Multiple calendars](#Multiple-calendars)\n",
    "    * [`anchor` \"open\" with multiple calendars](#anchor-\"open\"-with-multiple-calendars)\n",
    "        * [`.pt` accessor methods](#.pt-accessor-methods)\n",
    "        * [Calendars with breaks](#Calendars-with-breaks)\n",
    "            * [Data source does not observe the break](#Data-source-does-not-observe-the-break)\n",
    "            * [Indices of trading indexes of different calendars overlap](#Indices-of-trading-indexes-of-different-calendars-overlap)\n",
    "    * [`anchor` \"workback\" with multiple calendars](#anchor-\"workback\"-with-multiple-calendars)\n",
    "    * [`openend`](#openend)\n",
    "* [Daily prices](#Daily-prices)\n",
    "* [Takeaways](#Takeaways)"
   ]
  },
  {
   "cell_type": "markdown",
   "metadata": {},
   "source": [
    "#### Notes\n",
    "* The cell **outputs** shown in this tutorial are based on executing the cells at **2022-05-13 09:39 UTC** (05:39 New York). Simply rerun the cells to bring any dynamic output up to date."
   ]
  },
  {
   "cell_type": "markdown",
   "metadata": {},
   "source": [
    "## Setup"
   ]
  },
  {
   "cell_type": "markdown",
   "metadata": {},
   "source": [
    "Run the following cell to import tutorial dependencies."
   ]
  },
  {
   "cell_type": "code",
   "execution_count": 2,
   "metadata": {},
   "outputs": [],
   "source": [
    "from market_prices import PricesYahoo\n",
    "import pandas as pd\n",
    "from market_prices.support import tutorial_helpers as th"
   ]
  },
  {
   "cell_type": "markdown",
   "metadata": {},
   "source": [
    "Run the following cell to define values used in the first part of this tutorial."
   ]
  },
  {
   "cell_type": "code",
   "execution_count": 3,
   "metadata": {},
   "outputs": [],
   "source": [
    "_prices_mix = PricesYahoo(\"MSFT, 9988.HK, AZN.L\")\n",
    "xnys = _prices_mix.calendars[\"MSFT\"]\n",
    "xhkg = _prices_mix.calendars[\"9988.HK\"]\n",
    "xlon = _prices_mix.calendars[\"AZN.L\"]\n",
    "_calendars = [xnys, xhkg, xlon]\n",
    "_session_length = [\n",
    "    pd.Timedelta(hours=6, minutes=30),\n",
    "    pd.Timedelta(hours=6, minutes=30),\n",
    "    pd.Timedelta(hours=8, minutes=30),\n",
    "]\n",
    "# get sessions for which price data available at all base intervals\n",
    "_sessions_range = th.get_sessions_range_for_bi(\n",
    "    _prices_mix, _prices_mix.bis.T1\n",
    ")\n",
    "start_session, end_session = th.get_conforming_sessions(\n",
    "    _calendars, _session_length, *_sessions_range, 2\n",
    ")\n",
    "\n",
    "# get sessions for which intraday price data available only at H1 base iterval.\n",
    "_sessions_range = th.get_sessions_range_for_bi(\n",
    "    _prices_mix, _prices_mix.bis.H1\n",
    ")\n",
    "start_session_h1, end_session_h1 = th.get_conforming_sessions(\n",
    "    _calendars, _session_length, *_sessions_range, 2\n",
    ")\n",
    "session_h1 = end_session_h1"
   ]
  },
  {
   "cell_type": "markdown",
   "metadata": {},
   "source": [
    "## Anchors\n",
    "The [intervals tutorial](./intervals.ipynb) explained how intraday price data is served as a table with each indice representing an interval of time. There are no gaps between the indices during any period when an exchange associated with any symbol is open. But what should be the origin from which the indices are evaluated? Or put another way, where should the indices be anchored?\n",
    "\n",
    "This tutorial:\n",
    "* explains the **`anchor`** options:\n",
    "    * **\"open\"** to anchor indices on each session's open (all indices have the same length).\n",
    "    * **\"workback\"** to anchor an indice on the period end and work back (all indices cover the same number of 'trading minutes').\n",
    "* shows the use of **`.pt accessor`** methods to interrogate whether indices cover times when an exchange is open, closed or both.\n",
    "* shows how the **`force`** option can be used to curtail indices to reflect only trading periods.\n",
    "* shows how the **`openend`** option determines the final indice when the period end is an unaligned session close.\n",
    "\n",
    "## `anchor` \"open\"\n",
    "By default `market_prices` anchors data on each session open. This behaviour can be explicitly requested by passing the `get` method's  `anchor` parameter as \"open\"."
   ]
  },
  {
   "cell_type": "code",
   "execution_count": 4,
   "metadata": {},
   "outputs": [
    {
     "name": "stdout",
     "output_type": "stream",
     "text": [
      "start_session=Timestamp('2022-04-19 00:00:00')\n",
      "end_session=Timestamp('2022-04-20 00:00:00')\n",
      "\n"
     ]
    },
    {
     "data": {
      "text/html": [
       "<div>\n",
       "<style scoped>\n",
       "    .dataframe tbody tr th:only-of-type {\n",
       "        vertical-align: middle;\n",
       "    }\n",
       "\n",
       "    .dataframe tbody tr th {\n",
       "        vertical-align: top;\n",
       "    }\n",
       "\n",
       "    .dataframe thead tr th {\n",
       "        text-align: left;\n",
       "    }\n",
       "</style>\n",
       "<table border=\"1\" class=\"dataframe\">\n",
       "  <thead>\n",
       "    <tr>\n",
       "      <th>symbol</th>\n",
       "      <th colspan=\"5\" halign=\"left\">MSFT</th>\n",
       "    </tr>\n",
       "    <tr>\n",
       "      <th></th>\n",
       "      <th>open</th>\n",
       "      <th>high</th>\n",
       "      <th>low</th>\n",
       "      <th>close</th>\n",
       "      <th>volume</th>\n",
       "    </tr>\n",
       "  </thead>\n",
       "  <tbody>\n",
       "    <tr>\n",
       "      <th>[2022-04-19 09:30:00, 2022-04-19 10:00:00)</th>\n",
       "      <td>279.720001</td>\n",
       "      <td>282.420013</td>\n",
       "      <td>278.410004</td>\n",
       "      <td>282.420013</td>\n",
       "      <td>3538466.0</td>\n",
       "    </tr>\n",
       "    <tr>\n",
       "      <th>[2022-04-19 10:00:00, 2022-04-19 10:30:00)</th>\n",
       "      <td>282.399994</td>\n",
       "      <td>284.369385</td>\n",
       "      <td>282.059998</td>\n",
       "      <td>283.329987</td>\n",
       "      <td>1738630.0</td>\n",
       "    </tr>\n",
       "    <tr>\n",
       "      <th>[2022-04-19 10:30:00, 2022-04-19 11:00:00)</th>\n",
       "      <td>283.359985</td>\n",
       "      <td>284.750000</td>\n",
       "      <td>283.230011</td>\n",
       "      <td>283.929993</td>\n",
       "      <td>1274094.0</td>\n",
       "    </tr>\n",
       "    <tr>\n",
       "      <th>[2022-04-19 11:00:00, 2022-04-19 11:30:00)</th>\n",
       "      <td>283.880005</td>\n",
       "      <td>284.662201</td>\n",
       "      <td>283.600006</td>\n",
       "      <td>284.420013</td>\n",
       "      <td>1236148.0</td>\n",
       "    </tr>\n",
       "    <tr>\n",
       "      <th>[2022-04-19 11:30:00, 2022-04-19 12:00:00)</th>\n",
       "      <td>284.410004</td>\n",
       "      <td>284.820007</td>\n",
       "      <td>283.899994</td>\n",
       "      <td>284.359985</td>\n",
       "      <td>838443.0</td>\n",
       "    </tr>\n",
       "    <tr>\n",
       "      <th>[2022-04-19 12:00:00, 2022-04-19 12:30:00)</th>\n",
       "      <td>284.269989</td>\n",
       "      <td>284.269989</td>\n",
       "      <td>283.519989</td>\n",
       "      <td>283.587799</td>\n",
       "      <td>699286.0</td>\n",
       "    </tr>\n",
       "    <tr>\n",
       "      <th>[2022-04-19 12:30:00, 2022-04-19 13:00:00)</th>\n",
       "      <td>283.600006</td>\n",
       "      <td>283.989990</td>\n",
       "      <td>283.290009</td>\n",
       "      <td>283.809998</td>\n",
       "      <td>810317.0</td>\n",
       "    </tr>\n",
       "    <tr>\n",
       "      <th>[2022-04-19 13:00:00, 2022-04-19 13:30:00)</th>\n",
       "      <td>283.780304</td>\n",
       "      <td>284.059998</td>\n",
       "      <td>283.149994</td>\n",
       "      <td>283.200012</td>\n",
       "      <td>788386.0</td>\n",
       "    </tr>\n",
       "    <tr>\n",
       "      <th>[2022-04-19 13:30:00, 2022-04-19 14:00:00)</th>\n",
       "      <td>283.179993</td>\n",
       "      <td>284.019989</td>\n",
       "      <td>282.980011</td>\n",
       "      <td>283.549988</td>\n",
       "      <td>1007906.0</td>\n",
       "    </tr>\n",
       "    <tr>\n",
       "      <th>[2022-04-19 14:00:00, 2022-04-19 14:30:00)</th>\n",
       "      <td>283.545013</td>\n",
       "      <td>283.839996</td>\n",
       "      <td>282.910004</td>\n",
       "      <td>283.519989</td>\n",
       "      <td>967876.0</td>\n",
       "    </tr>\n",
       "    <tr>\n",
       "      <th>[2022-04-19 14:30:00, 2022-04-19 15:00:00)</th>\n",
       "      <td>283.519989</td>\n",
       "      <td>284.359985</td>\n",
       "      <td>283.179993</td>\n",
       "      <td>284.260010</td>\n",
       "      <td>878248.0</td>\n",
       "    </tr>\n",
       "    <tr>\n",
       "      <th>[2022-04-19 15:00:00, 2022-04-19 15:30:00)</th>\n",
       "      <td>284.279999</td>\n",
       "      <td>285.582092</td>\n",
       "      <td>284.049988</td>\n",
       "      <td>285.250000</td>\n",
       "      <td>1281596.0</td>\n",
       "    </tr>\n",
       "    <tr>\n",
       "      <th>[2022-04-19 15:30:00, 2022-04-19 16:00:00)</th>\n",
       "      <td>285.279999</td>\n",
       "      <td>286.170013</td>\n",
       "      <td>284.500000</td>\n",
       "      <td>285.380005</td>\n",
       "      <td>3282886.0</td>\n",
       "    </tr>\n",
       "    <tr>\n",
       "      <th>[2022-04-20 09:30:00, 2022-04-20 10:00:00)</th>\n",
       "      <td>289.399994</td>\n",
       "      <td>289.700012</td>\n",
       "      <td>285.980011</td>\n",
       "      <td>286.399994</td>\n",
       "      <td>3810859.0</td>\n",
       "    </tr>\n",
       "    <tr>\n",
       "      <th>[2022-04-20 10:00:00, 2022-04-20 10:30:00)</th>\n",
       "      <td>286.380005</td>\n",
       "      <td>288.390015</td>\n",
       "      <td>285.799988</td>\n",
       "      <td>288.100006</td>\n",
       "      <td>1912616.0</td>\n",
       "    </tr>\n",
       "    <tr>\n",
       "      <th>[2022-04-20 10:30:00, 2022-04-20 11:00:00)</th>\n",
       "      <td>288.149994</td>\n",
       "      <td>288.890015</td>\n",
       "      <td>287.589996</td>\n",
       "      <td>288.084991</td>\n",
       "      <td>1198312.0</td>\n",
       "    </tr>\n",
       "    <tr>\n",
       "      <th>[2022-04-20 11:00:00, 2022-04-20 11:30:00)</th>\n",
       "      <td>288.079987</td>\n",
       "      <td>288.130005</td>\n",
       "      <td>286.220001</td>\n",
       "      <td>286.510010</td>\n",
       "      <td>1423247.0</td>\n",
       "    </tr>\n",
       "    <tr>\n",
       "      <th>[2022-04-20 11:30:00, 2022-04-20 12:00:00)</th>\n",
       "      <td>286.519989</td>\n",
       "      <td>287.600006</td>\n",
       "      <td>286.339996</td>\n",
       "      <td>287.170013</td>\n",
       "      <td>1098033.0</td>\n",
       "    </tr>\n",
       "    <tr>\n",
       "      <th>[2022-04-20 12:00:00, 2022-04-20 12:30:00)</th>\n",
       "      <td>287.209991</td>\n",
       "      <td>287.380005</td>\n",
       "      <td>285.370209</td>\n",
       "      <td>285.750000</td>\n",
       "      <td>1045505.0</td>\n",
       "    </tr>\n",
       "    <tr>\n",
       "      <th>[2022-04-20 12:30:00, 2022-04-20 13:00:00)</th>\n",
       "      <td>285.740997</td>\n",
       "      <td>287.239990</td>\n",
       "      <td>285.679993</td>\n",
       "      <td>286.480011</td>\n",
       "      <td>834098.0</td>\n",
       "    </tr>\n",
       "    <tr>\n",
       "      <th>[2022-04-20 13:00:00, 2022-04-20 13:30:00)</th>\n",
       "      <td>286.459991</td>\n",
       "      <td>287.369995</td>\n",
       "      <td>286.220001</td>\n",
       "      <td>286.929993</td>\n",
       "      <td>810220.0</td>\n",
       "    </tr>\n",
       "    <tr>\n",
       "      <th>[2022-04-20 13:30:00, 2022-04-20 14:00:00)</th>\n",
       "      <td>286.880005</td>\n",
       "      <td>288.010010</td>\n",
       "      <td>286.750000</td>\n",
       "      <td>287.570007</td>\n",
       "      <td>789662.0</td>\n",
       "    </tr>\n",
       "    <tr>\n",
       "      <th>[2022-04-20 14:00:00, 2022-04-20 14:30:00)</th>\n",
       "      <td>287.549988</td>\n",
       "      <td>287.980011</td>\n",
       "      <td>286.929993</td>\n",
       "      <td>286.950012</td>\n",
       "      <td>823393.0</td>\n",
       "    </tr>\n",
       "    <tr>\n",
       "      <th>[2022-04-20 14:30:00, 2022-04-20 15:00:00)</th>\n",
       "      <td>286.959991</td>\n",
       "      <td>287.183014</td>\n",
       "      <td>285.519989</td>\n",
       "      <td>286.089996</td>\n",
       "      <td>1017355.0</td>\n",
       "    </tr>\n",
       "    <tr>\n",
       "      <th>[2022-04-20 15:00:00, 2022-04-20 15:30:00)</th>\n",
       "      <td>286.100006</td>\n",
       "      <td>287.399994</td>\n",
       "      <td>286.029999</td>\n",
       "      <td>287.029999</td>\n",
       "      <td>1212654.0</td>\n",
       "    </tr>\n",
       "    <tr>\n",
       "      <th>[2022-04-20 15:30:00, 2022-04-20 16:00:00)</th>\n",
       "      <td>287.109985</td>\n",
       "      <td>288.119904</td>\n",
       "      <td>286.049988</td>\n",
       "      <td>286.309998</td>\n",
       "      <td>3366341.0</td>\n",
       "    </tr>\n",
       "  </tbody>\n",
       "</table>\n",
       "</div>"
      ],
      "text/plain": [
       "symbol                                            MSFT              \\\n",
       "                                                  open        high   \n",
       "[2022-04-19 09:30:00, 2022-04-19 10:00:00)  279.720001  282.420013   \n",
       "[2022-04-19 10:00:00, 2022-04-19 10:30:00)  282.399994  284.369385   \n",
       "[2022-04-19 10:30:00, 2022-04-19 11:00:00)  283.359985  284.750000   \n",
       "[2022-04-19 11:00:00, 2022-04-19 11:30:00)  283.880005  284.662201   \n",
       "[2022-04-19 11:30:00, 2022-04-19 12:00:00)  284.410004  284.820007   \n",
       "[2022-04-19 12:00:00, 2022-04-19 12:30:00)  284.269989  284.269989   \n",
       "[2022-04-19 12:30:00, 2022-04-19 13:00:00)  283.600006  283.989990   \n",
       "[2022-04-19 13:00:00, 2022-04-19 13:30:00)  283.780304  284.059998   \n",
       "[2022-04-19 13:30:00, 2022-04-19 14:00:00)  283.179993  284.019989   \n",
       "[2022-04-19 14:00:00, 2022-04-19 14:30:00)  283.545013  283.839996   \n",
       "[2022-04-19 14:30:00, 2022-04-19 15:00:00)  283.519989  284.359985   \n",
       "[2022-04-19 15:00:00, 2022-04-19 15:30:00)  284.279999  285.582092   \n",
       "[2022-04-19 15:30:00, 2022-04-19 16:00:00)  285.279999  286.170013   \n",
       "[2022-04-20 09:30:00, 2022-04-20 10:00:00)  289.399994  289.700012   \n",
       "[2022-04-20 10:00:00, 2022-04-20 10:30:00)  286.380005  288.390015   \n",
       "[2022-04-20 10:30:00, 2022-04-20 11:00:00)  288.149994  288.890015   \n",
       "[2022-04-20 11:00:00, 2022-04-20 11:30:00)  288.079987  288.130005   \n",
       "[2022-04-20 11:30:00, 2022-04-20 12:00:00)  286.519989  287.600006   \n",
       "[2022-04-20 12:00:00, 2022-04-20 12:30:00)  287.209991  287.380005   \n",
       "[2022-04-20 12:30:00, 2022-04-20 13:00:00)  285.740997  287.239990   \n",
       "[2022-04-20 13:00:00, 2022-04-20 13:30:00)  286.459991  287.369995   \n",
       "[2022-04-20 13:30:00, 2022-04-20 14:00:00)  286.880005  288.010010   \n",
       "[2022-04-20 14:00:00, 2022-04-20 14:30:00)  287.549988  287.980011   \n",
       "[2022-04-20 14:30:00, 2022-04-20 15:00:00)  286.959991  287.183014   \n",
       "[2022-04-20 15:00:00, 2022-04-20 15:30:00)  286.100006  287.399994   \n",
       "[2022-04-20 15:30:00, 2022-04-20 16:00:00)  287.109985  288.119904   \n",
       "\n",
       "symbol                                                                         \n",
       "                                                   low       close     volume  \n",
       "[2022-04-19 09:30:00, 2022-04-19 10:00:00)  278.410004  282.420013  3538466.0  \n",
       "[2022-04-19 10:00:00, 2022-04-19 10:30:00)  282.059998  283.329987  1738630.0  \n",
       "[2022-04-19 10:30:00, 2022-04-19 11:00:00)  283.230011  283.929993  1274094.0  \n",
       "[2022-04-19 11:00:00, 2022-04-19 11:30:00)  283.600006  284.420013  1236148.0  \n",
       "[2022-04-19 11:30:00, 2022-04-19 12:00:00)  283.899994  284.359985   838443.0  \n",
       "[2022-04-19 12:00:00, 2022-04-19 12:30:00)  283.519989  283.587799   699286.0  \n",
       "[2022-04-19 12:30:00, 2022-04-19 13:00:00)  283.290009  283.809998   810317.0  \n",
       "[2022-04-19 13:00:00, 2022-04-19 13:30:00)  283.149994  283.200012   788386.0  \n",
       "[2022-04-19 13:30:00, 2022-04-19 14:00:00)  282.980011  283.549988  1007906.0  \n",
       "[2022-04-19 14:00:00, 2022-04-19 14:30:00)  282.910004  283.519989   967876.0  \n",
       "[2022-04-19 14:30:00, 2022-04-19 15:00:00)  283.179993  284.260010   878248.0  \n",
       "[2022-04-19 15:00:00, 2022-04-19 15:30:00)  284.049988  285.250000  1281596.0  \n",
       "[2022-04-19 15:30:00, 2022-04-19 16:00:00)  284.500000  285.380005  3282886.0  \n",
       "[2022-04-20 09:30:00, 2022-04-20 10:00:00)  285.980011  286.399994  3810859.0  \n",
       "[2022-04-20 10:00:00, 2022-04-20 10:30:00)  285.799988  288.100006  1912616.0  \n",
       "[2022-04-20 10:30:00, 2022-04-20 11:00:00)  287.589996  288.084991  1198312.0  \n",
       "[2022-04-20 11:00:00, 2022-04-20 11:30:00)  286.220001  286.510010  1423247.0  \n",
       "[2022-04-20 11:30:00, 2022-04-20 12:00:00)  286.339996  287.170013  1098033.0  \n",
       "[2022-04-20 12:00:00, 2022-04-20 12:30:00)  285.370209  285.750000  1045505.0  \n",
       "[2022-04-20 12:30:00, 2022-04-20 13:00:00)  285.679993  286.480011   834098.0  \n",
       "[2022-04-20 13:00:00, 2022-04-20 13:30:00)  286.220001  286.929993   810220.0  \n",
       "[2022-04-20 13:30:00, 2022-04-20 14:00:00)  286.750000  287.570007   789662.0  \n",
       "[2022-04-20 14:00:00, 2022-04-20 14:30:00)  286.929993  286.950012   823393.0  \n",
       "[2022-04-20 14:30:00, 2022-04-20 15:00:00)  285.519989  286.089996  1017355.0  \n",
       "[2022-04-20 15:00:00, 2022-04-20 15:30:00)  286.029999  287.029999  1212654.0  \n",
       "[2022-04-20 15:30:00, 2022-04-20 16:00:00)  286.049988  286.309998  3366341.0  "
      ]
     },
     "execution_count": 4,
     "metadata": {},
     "output_type": "execute_result"
    }
   ],
   "source": [
    "prices = PricesYahoo(\"MSFT\")  # Prices for Microsoft's NYSE listing.\n",
    "print(f\"{start_session=}\\n{end_session=}\\n\")  # for reference\n",
    "\n",
    "df_30 = prices.get(\"30T\", start_session, end_session, anchor=\"open\")\n",
    "df_30"
   ]
  },
  {
   "cell_type": "markdown",
   "metadata": {},
   "source": [
    "The table offer prices for the stock Microsoft over two consecutive sessions at 30 minute intervals. The first indice begins on the first session's open, at 09.30 (local time). The intervals are then contiguous through to the close of the first session at 16.00. The next indice then offers the first interval of the second session, begining on the second session's 09.30 open. The following indices are then again contiguous through to the second session's 16.00 close.\n",
    "\n",
    "The NYSE does not have a session break, although some exchanges pause trading over lunch. This effectively splits each session into a morning (am) and an afternoon (pm) subsession. In this case anchoring \"open\" has the effect of anchoring am subsession indices to the am open and anchoring the pm subsession indices to the pm open, as if they were separate sessions. (See [Calendars with breaks](#Calendars-with-breaks) section for some specific cases where indices covering afternoon subsessions are necessarily anchored to the morning open.)\n",
    "\n",
    "Consider the following prices for Alibaba's lising on the Hong Kong exchange (symbol '9988.HK')."
   ]
  },
  {
   "cell_type": "code",
   "execution_count": 5,
   "metadata": {},
   "outputs": [
    {
     "data": {
      "text/html": [
       "<div>\n",
       "<style scoped>\n",
       "    .dataframe tbody tr th:only-of-type {\n",
       "        vertical-align: middle;\n",
       "    }\n",
       "\n",
       "    .dataframe tbody tr th {\n",
       "        vertical-align: top;\n",
       "    }\n",
       "\n",
       "    .dataframe thead tr th {\n",
       "        text-align: left;\n",
       "    }\n",
       "</style>\n",
       "<table border=\"1\" class=\"dataframe\">\n",
       "  <thead>\n",
       "    <tr>\n",
       "      <th>symbol</th>\n",
       "      <th colspan=\"5\" halign=\"left\">9988.HK</th>\n",
       "    </tr>\n",
       "    <tr>\n",
       "      <th></th>\n",
       "      <th>open</th>\n",
       "      <th>high</th>\n",
       "      <th>low</th>\n",
       "      <th>close</th>\n",
       "      <th>volume</th>\n",
       "    </tr>\n",
       "  </thead>\n",
       "  <tbody>\n",
       "    <tr>\n",
       "      <th>[2022-04-20 09:30:00, 2022-04-20 10:00:00)</th>\n",
       "      <td>91.199997</td>\n",
       "      <td>91.900002</td>\n",
       "      <td>90.599998</td>\n",
       "      <td>91.349998</td>\n",
       "      <td>1901362.0</td>\n",
       "    </tr>\n",
       "    <tr>\n",
       "      <th>[2022-04-20 10:00:00, 2022-04-20 10:30:00)</th>\n",
       "      <td>91.349998</td>\n",
       "      <td>91.500000</td>\n",
       "      <td>90.750000</td>\n",
       "      <td>90.800003</td>\n",
       "      <td>1360453.0</td>\n",
       "    </tr>\n",
       "    <tr>\n",
       "      <th>[2022-04-20 10:30:00, 2022-04-20 11:00:00)</th>\n",
       "      <td>90.800003</td>\n",
       "      <td>91.250000</td>\n",
       "      <td>90.500000</td>\n",
       "      <td>91.099998</td>\n",
       "      <td>1590994.0</td>\n",
       "    </tr>\n",
       "    <tr>\n",
       "      <th>[2022-04-20 11:00:00, 2022-04-20 11:30:00)</th>\n",
       "      <td>91.099998</td>\n",
       "      <td>92.199997</td>\n",
       "      <td>91.050003</td>\n",
       "      <td>92.000000</td>\n",
       "      <td>1634839.0</td>\n",
       "    </tr>\n",
       "    <tr>\n",
       "      <th>[2022-04-20 11:30:00, 2022-04-20 12:00:00)</th>\n",
       "      <td>92.000000</td>\n",
       "      <td>92.949997</td>\n",
       "      <td>91.949997</td>\n",
       "      <td>92.599998</td>\n",
       "      <td>1359203.0</td>\n",
       "    </tr>\n",
       "    <tr>\n",
       "      <th>[2022-04-20 13:00:00, 2022-04-20 13:30:00)</th>\n",
       "      <td>92.650002</td>\n",
       "      <td>92.750000</td>\n",
       "      <td>91.500000</td>\n",
       "      <td>91.650002</td>\n",
       "      <td>1371977.0</td>\n",
       "    </tr>\n",
       "    <tr>\n",
       "      <th>[2022-04-20 13:30:00, 2022-04-20 14:00:00)</th>\n",
       "      <td>91.699997</td>\n",
       "      <td>91.900002</td>\n",
       "      <td>91.050003</td>\n",
       "      <td>91.150002</td>\n",
       "      <td>1052866.0</td>\n",
       "    </tr>\n",
       "    <tr>\n",
       "      <th>[2022-04-20 14:00:00, 2022-04-20 14:30:00)</th>\n",
       "      <td>91.150002</td>\n",
       "      <td>91.349998</td>\n",
       "      <td>90.550003</td>\n",
       "      <td>90.550003</td>\n",
       "      <td>1116742.0</td>\n",
       "    </tr>\n",
       "    <tr>\n",
       "      <th>[2022-04-20 14:30:00, 2022-04-20 15:00:00)</th>\n",
       "      <td>90.500000</td>\n",
       "      <td>91.050003</td>\n",
       "      <td>90.300003</td>\n",
       "      <td>90.650002</td>\n",
       "      <td>1623748.0</td>\n",
       "    </tr>\n",
       "    <tr>\n",
       "      <th>[2022-04-20 15:00:00, 2022-04-20 15:30:00)</th>\n",
       "      <td>90.650002</td>\n",
       "      <td>91.150002</td>\n",
       "      <td>90.550003</td>\n",
       "      <td>91.150002</td>\n",
       "      <td>1635377.0</td>\n",
       "    </tr>\n",
       "    <tr>\n",
       "      <th>[2022-04-20 15:30:00, 2022-04-20 16:00:00)</th>\n",
       "      <td>91.099998</td>\n",
       "      <td>91.300003</td>\n",
       "      <td>90.599998</td>\n",
       "      <td>90.650002</td>\n",
       "      <td>2491765.0</td>\n",
       "    </tr>\n",
       "  </tbody>\n",
       "</table>\n",
       "</div>"
      ],
      "text/plain": [
       "symbol                                        9988.HK                        \\\n",
       "                                                 open       high        low   \n",
       "[2022-04-20 09:30:00, 2022-04-20 10:00:00)  91.199997  91.900002  90.599998   \n",
       "[2022-04-20 10:00:00, 2022-04-20 10:30:00)  91.349998  91.500000  90.750000   \n",
       "[2022-04-20 10:30:00, 2022-04-20 11:00:00)  90.800003  91.250000  90.500000   \n",
       "[2022-04-20 11:00:00, 2022-04-20 11:30:00)  91.099998  92.199997  91.050003   \n",
       "[2022-04-20 11:30:00, 2022-04-20 12:00:00)  92.000000  92.949997  91.949997   \n",
       "[2022-04-20 13:00:00, 2022-04-20 13:30:00)  92.650002  92.750000  91.500000   \n",
       "[2022-04-20 13:30:00, 2022-04-20 14:00:00)  91.699997  91.900002  91.050003   \n",
       "[2022-04-20 14:00:00, 2022-04-20 14:30:00)  91.150002  91.349998  90.550003   \n",
       "[2022-04-20 14:30:00, 2022-04-20 15:00:00)  90.500000  91.050003  90.300003   \n",
       "[2022-04-20 15:00:00, 2022-04-20 15:30:00)  90.650002  91.150002  90.550003   \n",
       "[2022-04-20 15:30:00, 2022-04-20 16:00:00)  91.099998  91.300003  90.599998   \n",
       "\n",
       "symbol                                                            \n",
       "                                                close     volume  \n",
       "[2022-04-20 09:30:00, 2022-04-20 10:00:00)  91.349998  1901362.0  \n",
       "[2022-04-20 10:00:00, 2022-04-20 10:30:00)  90.800003  1360453.0  \n",
       "[2022-04-20 10:30:00, 2022-04-20 11:00:00)  91.099998  1590994.0  \n",
       "[2022-04-20 11:00:00, 2022-04-20 11:30:00)  92.000000  1634839.0  \n",
       "[2022-04-20 11:30:00, 2022-04-20 12:00:00)  92.599998  1359203.0  \n",
       "[2022-04-20 13:00:00, 2022-04-20 13:30:00)  91.650002  1371977.0  \n",
       "[2022-04-20 13:30:00, 2022-04-20 14:00:00)  91.150002  1052866.0  \n",
       "[2022-04-20 14:00:00, 2022-04-20 14:30:00)  90.550003  1116742.0  \n",
       "[2022-04-20 14:30:00, 2022-04-20 15:00:00)  90.650002  1623748.0  \n",
       "[2022-04-20 15:00:00, 2022-04-20 15:30:00)  91.150002  1635377.0  \n",
       "[2022-04-20 15:30:00, 2022-04-20 16:00:00)  90.650002  2491765.0  "
      ]
     },
     "execution_count": 5,
     "metadata": {},
     "output_type": "execute_result"
    }
   ],
   "source": [
    "prices_hk = PricesYahoo(\"9988.HK\")\n",
    "session = end_session\n",
    "prices_hk.get(\"30T\", session, session, anchor=\"open\")"
   ]
  },
  {
   "cell_type": "markdown",
   "metadata": {},
   "source": [
    "The prices are for a single session. The Hong Kong exchange opens at 09.30 (local time) and has a morning session that runs through to 12:00. The afternoon session then opens at 13:00 and runs through to 16.00. The 30 minute interval above ensures that indices are aligned with both the am and pm closes, such that the break from 12.00 through 13.00 is manifested by the absense of indices over this period."
   ]
  },
  {
   "cell_type": "markdown",
   "metadata": {},
   "source": [
    "In both the above examples the indices align with the session\\subsession closes and all indices represent only periods during which the symbols were trading. Put another way, no indice included a non-trading period.\n",
    "\n",
    "However, when the interval is such that the indices do not align with a (sub)session close, anchoring \"open\" can introduce non-trading periods into the intervals.\n",
    "\n",
    "Going back to the MSFT example, with the interval changed to 90 minutes..."
   ]
  },
  {
   "cell_type": "code",
   "execution_count": 6,
   "metadata": {},
   "outputs": [
    {
     "data": {
      "text/html": [
       "<div>\n",
       "<style scoped>\n",
       "    .dataframe tbody tr th:only-of-type {\n",
       "        vertical-align: middle;\n",
       "    }\n",
       "\n",
       "    .dataframe tbody tr th {\n",
       "        vertical-align: top;\n",
       "    }\n",
       "\n",
       "    .dataframe thead tr th {\n",
       "        text-align: left;\n",
       "    }\n",
       "</style>\n",
       "<table border=\"1\" class=\"dataframe\">\n",
       "  <thead>\n",
       "    <tr>\n",
       "      <th>symbol</th>\n",
       "      <th colspan=\"5\" halign=\"left\">MSFT</th>\n",
       "    </tr>\n",
       "    <tr>\n",
       "      <th></th>\n",
       "      <th>open</th>\n",
       "      <th>high</th>\n",
       "      <th>low</th>\n",
       "      <th>close</th>\n",
       "      <th>volume</th>\n",
       "    </tr>\n",
       "  </thead>\n",
       "  <tbody>\n",
       "    <tr>\n",
       "      <th>[2022-04-19 09:30:00, 2022-04-19 11:00:00)</th>\n",
       "      <td>279.720001</td>\n",
       "      <td>284.750000</td>\n",
       "      <td>278.410004</td>\n",
       "      <td>283.929993</td>\n",
       "      <td>6551190.0</td>\n",
       "    </tr>\n",
       "    <tr>\n",
       "      <th>[2022-04-19 11:00:00, 2022-04-19 12:30:00)</th>\n",
       "      <td>283.880005</td>\n",
       "      <td>284.820007</td>\n",
       "      <td>283.519989</td>\n",
       "      <td>283.587799</td>\n",
       "      <td>2773877.0</td>\n",
       "    </tr>\n",
       "    <tr>\n",
       "      <th>[2022-04-19 12:30:00, 2022-04-19 14:00:00)</th>\n",
       "      <td>283.600006</td>\n",
       "      <td>284.059998</td>\n",
       "      <td>282.980011</td>\n",
       "      <td>283.549988</td>\n",
       "      <td>2606609.0</td>\n",
       "    </tr>\n",
       "    <tr>\n",
       "      <th>[2022-04-19 14:00:00, 2022-04-19 15:30:00)</th>\n",
       "      <td>283.545013</td>\n",
       "      <td>285.582092</td>\n",
       "      <td>282.910004</td>\n",
       "      <td>285.250000</td>\n",
       "      <td>3127720.0</td>\n",
       "    </tr>\n",
       "    <tr>\n",
       "      <th>[2022-04-19 15:30:00, 2022-04-19 17:00:00)</th>\n",
       "      <td>285.279999</td>\n",
       "      <td>286.170013</td>\n",
       "      <td>284.500000</td>\n",
       "      <td>285.380005</td>\n",
       "      <td>3282886.0</td>\n",
       "    </tr>\n",
       "    <tr>\n",
       "      <th>[2022-04-20 09:30:00, 2022-04-20 11:00:00)</th>\n",
       "      <td>289.399994</td>\n",
       "      <td>289.700012</td>\n",
       "      <td>285.799988</td>\n",
       "      <td>288.084991</td>\n",
       "      <td>6921787.0</td>\n",
       "    </tr>\n",
       "    <tr>\n",
       "      <th>[2022-04-20 11:00:00, 2022-04-20 12:30:00)</th>\n",
       "      <td>288.079987</td>\n",
       "      <td>288.130005</td>\n",
       "      <td>285.370209</td>\n",
       "      <td>285.750000</td>\n",
       "      <td>3566785.0</td>\n",
       "    </tr>\n",
       "    <tr>\n",
       "      <th>[2022-04-20 12:30:00, 2022-04-20 14:00:00)</th>\n",
       "      <td>285.740997</td>\n",
       "      <td>288.010010</td>\n",
       "      <td>285.679993</td>\n",
       "      <td>287.570007</td>\n",
       "      <td>2433980.0</td>\n",
       "    </tr>\n",
       "    <tr>\n",
       "      <th>[2022-04-20 14:00:00, 2022-04-20 15:30:00)</th>\n",
       "      <td>287.549988</td>\n",
       "      <td>287.980011</td>\n",
       "      <td>285.519989</td>\n",
       "      <td>287.029999</td>\n",
       "      <td>3053402.0</td>\n",
       "    </tr>\n",
       "    <tr>\n",
       "      <th>[2022-04-20 15:30:00, 2022-04-20 17:00:00)</th>\n",
       "      <td>287.109985</td>\n",
       "      <td>288.119904</td>\n",
       "      <td>286.049988</td>\n",
       "      <td>286.309998</td>\n",
       "      <td>3366341.0</td>\n",
       "    </tr>\n",
       "  </tbody>\n",
       "</table>\n",
       "</div>"
      ],
      "text/plain": [
       "symbol                                            MSFT              \\\n",
       "                                                  open        high   \n",
       "[2022-04-19 09:30:00, 2022-04-19 11:00:00)  279.720001  284.750000   \n",
       "[2022-04-19 11:00:00, 2022-04-19 12:30:00)  283.880005  284.820007   \n",
       "[2022-04-19 12:30:00, 2022-04-19 14:00:00)  283.600006  284.059998   \n",
       "[2022-04-19 14:00:00, 2022-04-19 15:30:00)  283.545013  285.582092   \n",
       "[2022-04-19 15:30:00, 2022-04-19 17:00:00)  285.279999  286.170013   \n",
       "[2022-04-20 09:30:00, 2022-04-20 11:00:00)  289.399994  289.700012   \n",
       "[2022-04-20 11:00:00, 2022-04-20 12:30:00)  288.079987  288.130005   \n",
       "[2022-04-20 12:30:00, 2022-04-20 14:00:00)  285.740997  288.010010   \n",
       "[2022-04-20 14:00:00, 2022-04-20 15:30:00)  287.549988  287.980011   \n",
       "[2022-04-20 15:30:00, 2022-04-20 17:00:00)  287.109985  288.119904   \n",
       "\n",
       "symbol                                                                         \n",
       "                                                   low       close     volume  \n",
       "[2022-04-19 09:30:00, 2022-04-19 11:00:00)  278.410004  283.929993  6551190.0  \n",
       "[2022-04-19 11:00:00, 2022-04-19 12:30:00)  283.519989  283.587799  2773877.0  \n",
       "[2022-04-19 12:30:00, 2022-04-19 14:00:00)  282.980011  283.549988  2606609.0  \n",
       "[2022-04-19 14:00:00, 2022-04-19 15:30:00)  282.910004  285.250000  3127720.0  \n",
       "[2022-04-19 15:30:00, 2022-04-19 17:00:00)  284.500000  285.380005  3282886.0  \n",
       "[2022-04-20 09:30:00, 2022-04-20 11:00:00)  285.799988  288.084991  6921787.0  \n",
       "[2022-04-20 11:00:00, 2022-04-20 12:30:00)  285.370209  285.750000  3566785.0  \n",
       "[2022-04-20 12:30:00, 2022-04-20 14:00:00)  285.679993  287.570007  2433980.0  \n",
       "[2022-04-20 14:00:00, 2022-04-20 15:30:00)  285.519989  287.029999  3053402.0  \n",
       "[2022-04-20 15:30:00, 2022-04-20 17:00:00)  286.049988  286.309998  3366341.0  "
      ]
     },
     "execution_count": 6,
     "metadata": {},
     "output_type": "execute_result"
    }
   ],
   "source": [
    "df_90 = prices.get(\"90T\", start_session, end_session, anchor=\"open\")\n",
    "df_90"
   ]
  },
  {
   "cell_type": "markdown",
   "metadata": {},
   "source": [
    "The first indice again has a left side on the first session's open and indices are still contiguous through to the first session's close. However, given that the indices at this interval do not align with the 16.00 close, the last indice of the first session runs all the way through to 17.00, one hour after the close. The same is true of the last indice of the second session. These indices therefore include a one hour non-trading period following the sessions' closes."
   ]
  },
  {
   "cell_type": "markdown",
   "metadata": {},
   "source": [
    "The same effect can be seen for the Hong Kong market if the interval is changed to 40 mintues. In this case the indices no longer align with either the morning or the afternoon subsession closes."
   ]
  },
  {
   "cell_type": "code",
   "execution_count": 7,
   "metadata": {},
   "outputs": [
    {
     "data": {
      "text/html": [
       "<div>\n",
       "<style scoped>\n",
       "    .dataframe tbody tr th:only-of-type {\n",
       "        vertical-align: middle;\n",
       "    }\n",
       "\n",
       "    .dataframe tbody tr th {\n",
       "        vertical-align: top;\n",
       "    }\n",
       "\n",
       "    .dataframe thead tr th {\n",
       "        text-align: left;\n",
       "    }\n",
       "</style>\n",
       "<table border=\"1\" class=\"dataframe\">\n",
       "  <thead>\n",
       "    <tr>\n",
       "      <th>symbol</th>\n",
       "      <th colspan=\"5\" halign=\"left\">9988.HK</th>\n",
       "    </tr>\n",
       "    <tr>\n",
       "      <th></th>\n",
       "      <th>open</th>\n",
       "      <th>high</th>\n",
       "      <th>low</th>\n",
       "      <th>close</th>\n",
       "      <th>volume</th>\n",
       "    </tr>\n",
       "  </thead>\n",
       "  <tbody>\n",
       "    <tr>\n",
       "      <th>[2022-04-20 09:30:00, 2022-04-20 10:10:00)</th>\n",
       "      <td>91.199997</td>\n",
       "      <td>91.900002</td>\n",
       "      <td>90.599998</td>\n",
       "      <td>90.900002</td>\n",
       "      <td>2494538.0</td>\n",
       "    </tr>\n",
       "    <tr>\n",
       "      <th>[2022-04-20 10:10:00, 2022-04-20 10:50:00)</th>\n",
       "      <td>90.900002</td>\n",
       "      <td>91.250000</td>\n",
       "      <td>90.500000</td>\n",
       "      <td>91.150002</td>\n",
       "      <td>1958569.0</td>\n",
       "    </tr>\n",
       "    <tr>\n",
       "      <th>[2022-04-20 10:50:00, 2022-04-20 11:30:00)</th>\n",
       "      <td>91.199997</td>\n",
       "      <td>92.199997</td>\n",
       "      <td>90.849998</td>\n",
       "      <td>92.000000</td>\n",
       "      <td>2034541.0</td>\n",
       "    </tr>\n",
       "    <tr>\n",
       "      <th>[2022-04-20 11:30:00, 2022-04-20 12:10:00)</th>\n",
       "      <td>92.000000</td>\n",
       "      <td>92.949997</td>\n",
       "      <td>91.949997</td>\n",
       "      <td>92.599998</td>\n",
       "      <td>1359203.0</td>\n",
       "    </tr>\n",
       "    <tr>\n",
       "      <th>[2022-04-20 13:00:00, 2022-04-20 13:40:00)</th>\n",
       "      <td>92.650002</td>\n",
       "      <td>92.750000</td>\n",
       "      <td>91.500000</td>\n",
       "      <td>91.699997</td>\n",
       "      <td>1571339.0</td>\n",
       "    </tr>\n",
       "    <tr>\n",
       "      <th>[2022-04-20 13:40:00, 2022-04-20 14:20:00)</th>\n",
       "      <td>91.699997</td>\n",
       "      <td>91.900002</td>\n",
       "      <td>90.900002</td>\n",
       "      <td>90.900002</td>\n",
       "      <td>1469246.0</td>\n",
       "    </tr>\n",
       "    <tr>\n",
       "      <th>[2022-04-20 14:20:00, 2022-04-20 15:00:00)</th>\n",
       "      <td>90.900002</td>\n",
       "      <td>91.050003</td>\n",
       "      <td>90.300003</td>\n",
       "      <td>90.650002</td>\n",
       "      <td>2124748.0</td>\n",
       "    </tr>\n",
       "    <tr>\n",
       "      <th>[2022-04-20 15:00:00, 2022-04-20 15:40:00)</th>\n",
       "      <td>90.650002</td>\n",
       "      <td>91.300003</td>\n",
       "      <td>90.550003</td>\n",
       "      <td>91.150002</td>\n",
       "      <td>2500419.0</td>\n",
       "    </tr>\n",
       "    <tr>\n",
       "      <th>[2022-04-20 15:40:00, 2022-04-20 16:20:00)</th>\n",
       "      <td>91.150002</td>\n",
       "      <td>91.300003</td>\n",
       "      <td>90.599998</td>\n",
       "      <td>90.650002</td>\n",
       "      <td>1626723.0</td>\n",
       "    </tr>\n",
       "  </tbody>\n",
       "</table>\n",
       "</div>"
      ],
      "text/plain": [
       "symbol                                        9988.HK                        \\\n",
       "                                                 open       high        low   \n",
       "[2022-04-20 09:30:00, 2022-04-20 10:10:00)  91.199997  91.900002  90.599998   \n",
       "[2022-04-20 10:10:00, 2022-04-20 10:50:00)  90.900002  91.250000  90.500000   \n",
       "[2022-04-20 10:50:00, 2022-04-20 11:30:00)  91.199997  92.199997  90.849998   \n",
       "[2022-04-20 11:30:00, 2022-04-20 12:10:00)  92.000000  92.949997  91.949997   \n",
       "[2022-04-20 13:00:00, 2022-04-20 13:40:00)  92.650002  92.750000  91.500000   \n",
       "[2022-04-20 13:40:00, 2022-04-20 14:20:00)  91.699997  91.900002  90.900002   \n",
       "[2022-04-20 14:20:00, 2022-04-20 15:00:00)  90.900002  91.050003  90.300003   \n",
       "[2022-04-20 15:00:00, 2022-04-20 15:40:00)  90.650002  91.300003  90.550003   \n",
       "[2022-04-20 15:40:00, 2022-04-20 16:20:00)  91.150002  91.300003  90.599998   \n",
       "\n",
       "symbol                                                            \n",
       "                                                close     volume  \n",
       "[2022-04-20 09:30:00, 2022-04-20 10:10:00)  90.900002  2494538.0  \n",
       "[2022-04-20 10:10:00, 2022-04-20 10:50:00)  91.150002  1958569.0  \n",
       "[2022-04-20 10:50:00, 2022-04-20 11:30:00)  92.000000  2034541.0  \n",
       "[2022-04-20 11:30:00, 2022-04-20 12:10:00)  92.599998  1359203.0  \n",
       "[2022-04-20 13:00:00, 2022-04-20 13:40:00)  91.699997  1571339.0  \n",
       "[2022-04-20 13:40:00, 2022-04-20 14:20:00)  90.900002  1469246.0  \n",
       "[2022-04-20 14:20:00, 2022-04-20 15:00:00)  90.650002  2124748.0  \n",
       "[2022-04-20 15:00:00, 2022-04-20 15:40:00)  91.150002  2500419.0  \n",
       "[2022-04-20 15:40:00, 2022-04-20 16:20:00)  90.650002  1626723.0  "
      ]
     },
     "execution_count": 7,
     "metadata": {},
     "output_type": "execute_result"
    }
   ],
   "source": [
    "df_40_hk = prices_hk.get(\"40T\", session, session, anchor=\"open\")\n",
    "df_40_hk"
   ]
  },
  {
   "cell_type": "markdown",
   "metadata": {},
   "source": [
    "Now the last indice of the am session runs to 12.10, 10 minutes after the 12.00 close. The following indice correctly has a left side that conincides with the pm open. The final indice can be seen to also be unaligned with the 16.00 close."
   ]
  },
  {
   "cell_type": "markdown",
   "metadata": {},
   "source": [
    "Take this away...\n",
    "\n",
    "* **Anchoring \"open\" maintains the `interval` throughout**, albeit with the consequence of **including non-trading periods after (sub)session closes whenever the indices do not otherwise align with the (sub)session close.**"
   ]
  },
  {
   "cell_type": "markdown",
   "metadata": {},
   "source": [
    "### Interrogating indices with `.pt` accessor\n",
    "\n",
    "Non-trading periods can be investigated with a host of .pt price table accessor methods (the [pt_accessor tutorial](./pt_accessor.ipynb) includes further methods not covered here)."
   ]
  },
  {
   "cell_type": "markdown",
   "metadata": {},
   "source": [
    "#### Trading status"
   ]
  },
  {
   "cell_type": "markdown",
   "metadata": {},
   "source": [
    "`.pt.indices_all_trading` queries if all indices cover *only* trading periods *for a specific calendar*. Comparing the return for the 30\\90 minute MSFT tables shows how the unaligned indices at 90 minutes introduces non-trading periods into some indices..."
   ]
  },
  {
   "cell_type": "code",
   "execution_count": 8,
   "metadata": {},
   "outputs": [
    {
     "data": {
      "text/plain": [
       "True"
      ]
     },
     "execution_count": 8,
     "metadata": {},
     "output_type": "execute_result"
    }
   ],
   "source": [
    "df_30.pt.indices_all_trading(xnys)"
   ]
  },
  {
   "cell_type": "code",
   "execution_count": 9,
   "metadata": {},
   "outputs": [
    {
     "data": {
      "text/plain": [
       "False"
      ]
     },
     "execution_count": 9,
     "metadata": {},
     "output_type": "execute_result"
    }
   ],
   "source": [
    "df_90.pt.indices_all_trading(xnys)"
   ]
  },
  {
   "cell_type": "markdown",
   "metadata": {},
   "source": [
    "`.pt.indices_partial_trading` allows for querying those indices that specifically cover both trading and non-trading periods, i.e. in this case the last indices of each session..."
   ]
  },
  {
   "cell_type": "code",
   "execution_count": 10,
   "metadata": {},
   "outputs": [
    {
     "data": {
      "text/plain": [
       "IntervalIndex([[2022-04-19 15:30:00, 2022-04-19 17:00:00), [2022-04-20 15:30:00, 2022-04-20 17:00:00)], dtype='interval[datetime64[ns, America/New_York], left]')"
      ]
     },
     "execution_count": 10,
     "metadata": {},
     "output_type": "execute_result"
    }
   ],
   "source": [
    "df_90.pt.indices_partial_trading(xnys)"
   ]
  },
  {
   "cell_type": "markdown",
   "metadata": {},
   "source": [
    "And for the unaligned Hong Kong 40 minute prices..."
   ]
  },
  {
   "cell_type": "code",
   "execution_count": 11,
   "metadata": {},
   "outputs": [
    {
     "data": {
      "text/plain": [
       "IntervalIndex([[2022-04-20 11:30:00, 2022-04-20 12:10:00), [2022-04-20 15:40:00, 2022-04-20 16:20:00)], dtype='interval[datetime64[ns, Asia/Hong_Kong], left]')"
      ]
     },
     "execution_count": 11,
     "metadata": {},
     "output_type": "execute_result"
    }
   ],
   "source": [
    "df_40_hk.pt.indices_partial_trading(xhkg)"
   ]
  },
  {
   "cell_type": "markdown",
   "metadata": {},
   "source": [
    "For each partial trading indice `.pt.indices_partial_trading_info` details which part(s) of the indice represent non-trading periods. The return is a dictionary with keys as partial indices and values as a `pd.IntervalIndex` comprising one or more `pd.Interval` that each describe a distinct non-trading period within the indice."
   ]
  },
  {
   "cell_type": "code",
   "execution_count": 12,
   "metadata": {},
   "outputs": [
    {
     "data": {
      "text/plain": [
       "{Interval('2022-04-19 15:30:00', '2022-04-19 17:00:00', closed='left'): IntervalIndex([[2022-04-19 16:00:00, 2022-04-19 17:00:00)], dtype='interval[datetime64[ns, America/New_York], left]'),\n",
       " Interval('2022-04-20 15:30:00', '2022-04-20 17:00:00', closed='left'): IntervalIndex([[2022-04-20 16:00:00, 2022-04-20 17:00:00)], dtype='interval[datetime64[ns, America/New_York], left]')}"
      ]
     },
     "execution_count": 12,
     "metadata": {},
     "output_type": "execute_result"
    }
   ],
   "source": [
    "df_90.pt.indices_partial_trading_info(xnys)"
   ]
  },
  {
   "cell_type": "code",
   "execution_count": 13,
   "metadata": {},
   "outputs": [
    {
     "data": {
      "text/plain": [
       "{Interval('2022-04-20 11:30:00', '2022-04-20 12:10:00', closed='left'): IntervalIndex([[2022-04-20 12:00:00, 2022-04-20 12:10:00)], dtype='interval[datetime64[ns, Asia/Hong_Kong], left]'),\n",
       " Interval('2022-04-20 15:40:00', '2022-04-20 16:20:00', closed='left'): IntervalIndex([[2022-04-20 16:00:00, 2022-04-20 16:20:00)], dtype='interval[datetime64[ns, Asia/Hong_Kong], left]')}"
      ]
     },
     "execution_count": 13,
     "metadata": {},
     "output_type": "execute_result"
    }
   ],
   "source": [
    "df_40_hk.pt.indices_partial_trading_info(xhkg)"
   ]
  },
  {
   "cell_type": "markdown",
   "metadata": {},
   "source": [
    "`.pt.indices_trading` queries which indices cover only trading periods (i.e. include no non-trading periods)."
   ]
  },
  {
   "cell_type": "code",
   "execution_count": 14,
   "metadata": {},
   "outputs": [
    {
     "data": {
      "text/plain": [
       "IntervalIndex([[2022-04-19 09:30:00, 2022-04-19 11:00:00), [2022-04-19 11:00:00, 2022-04-19 12:30:00), [2022-04-19 12:30:00, 2022-04-19 14:00:00), [2022-04-19 14:00:00, 2022-04-19 15:30:00), [2022-04-20 09:30:00, 2022-04-20 11:00:00), [2022-04-20 11:00:00, 2022-04-20 12:30:00), [2022-04-20 12:30:00, 2022-04-20 14:00:00), [2022-04-20 14:00:00, 2022-04-20 15:30:00)], dtype='interval[datetime64[ns, America/New_York], left]')"
      ]
     },
     "execution_count": 14,
     "metadata": {},
     "output_type": "execute_result"
    }
   ],
   "source": [
    "df_90.pt.indices_trading(xnys)"
   ]
  },
  {
   "cell_type": "markdown",
   "metadata": {},
   "source": [
    "`.pt.indices_non_trading` queries any indices that fully cover a non-trading period (i.e. no minute of the indices represent a trading minute). In this example the results are empty as all indices at least partially cover a trading period for the default calendar. (This property's use is better demonstrated later ([Multiple Calendars](#Multiple-calendars)) when the data set comprises symbols trading on different calendars.)"
   ]
  },
  {
   "cell_type": "code",
   "execution_count": 15,
   "metadata": {},
   "outputs": [
    {
     "data": {
      "text/plain": [
       "IntervalIndex([], dtype='interval[datetime64[ns, America/New_York], left]')"
      ]
     },
     "execution_count": 15,
     "metadata": {},
     "output_type": "execute_result"
    }
   ],
   "source": [
    "df_90.pt.indices_non_trading(xnys)"
   ]
  },
  {
   "cell_type": "code",
   "execution_count": 16,
   "metadata": {},
   "outputs": [
    {
     "data": {
      "text/plain": [
       "True"
      ]
     },
     "execution_count": 16,
     "metadata": {},
     "output_type": "execute_result"
    }
   ],
   "source": [
    "df_90.pt.indices_non_trading(xnys).empty"
   ]
  },
  {
   "cell_type": "markdown",
   "metadata": {},
   "source": [
    "`.pt.indices_trading_status` neatly expresses the status of each indice by the value of a `pd.Series`:\n",
    "* True indicates the indice fully covers a trading period.\n",
    "* N/A indicates a partial trading indice.\n",
    "* False indicates that indice fully covers a non-trading period."
   ]
  },
  {
   "cell_type": "code",
   "execution_count": 17,
   "metadata": {},
   "outputs": [
    {
     "data": {
      "text/plain": [
       "[2022-04-19 09:30:00, 2022-04-19 11:00:00)    True\n",
       "[2022-04-19 11:00:00, 2022-04-19 12:30:00)    True\n",
       "[2022-04-19 12:30:00, 2022-04-19 14:00:00)    True\n",
       "[2022-04-19 14:00:00, 2022-04-19 15:30:00)    True\n",
       "[2022-04-19 15:30:00, 2022-04-19 17:00:00)     NaN\n",
       "[2022-04-20 09:30:00, 2022-04-20 11:00:00)    True\n",
       "[2022-04-20 11:00:00, 2022-04-20 12:30:00)    True\n",
       "[2022-04-20 12:30:00, 2022-04-20 14:00:00)    True\n",
       "[2022-04-20 14:00:00, 2022-04-20 15:30:00)    True\n",
       "[2022-04-20 15:30:00, 2022-04-20 17:00:00)     NaN\n",
       "dtype: object"
      ]
     },
     "execution_count": 17,
     "metadata": {},
     "output_type": "execute_result"
    }
   ],
   "source": [
    "df_90.pt.indices_trading_status(xnys)"
   ]
  },
  {
   "cell_type": "code",
   "execution_count": 18,
   "metadata": {},
   "outputs": [
    {
     "data": {
      "text/plain": [
       "[2022-04-20 09:30:00, 2022-04-20 10:10:00)    True\n",
       "[2022-04-20 10:10:00, 2022-04-20 10:50:00)    True\n",
       "[2022-04-20 10:50:00, 2022-04-20 11:30:00)    True\n",
       "[2022-04-20 11:30:00, 2022-04-20 12:10:00)     NaN\n",
       "[2022-04-20 13:00:00, 2022-04-20 13:40:00)    True\n",
       "[2022-04-20 13:40:00, 2022-04-20 14:20:00)    True\n",
       "[2022-04-20 14:20:00, 2022-04-20 15:00:00)    True\n",
       "[2022-04-20 15:00:00, 2022-04-20 15:40:00)    True\n",
       "[2022-04-20 15:40:00, 2022-04-20 16:20:00)     NaN\n",
       "dtype: object"
      ]
     },
     "execution_count": 18,
     "metadata": {},
     "output_type": "execute_result"
    }
   ],
   "source": [
    "df_40_hk.pt.indices_trading_status(xhkg)"
   ]
  },
  {
   "cell_type": "markdown",
   "metadata": {},
   "source": [
    "#### Number of trading minutes\n",
    "Various `.pt` accessor methods consider the trading minutes contained by each interval.\n",
    "\n",
    "(In addition to the methods shown here, `pt.trading_minutes_interval` is demonstrated in the [anchor \"workback\"](#anchor-\"workback\") section.)\n",
    "\n",
    "`.pt.indices_trading_minutes` returns a `pd.Series` that shows the number of trading minutes associated with each indice."
   ]
  },
  {
   "cell_type": "code",
   "execution_count": 19,
   "metadata": {},
   "outputs": [
    {
     "data": {
      "text/plain": [
       "[2022-04-19 09:30:00, 2022-04-19 11:00:00)    90\n",
       "[2022-04-19 11:00:00, 2022-04-19 12:30:00)    90\n",
       "[2022-04-19 12:30:00, 2022-04-19 14:00:00)    90\n",
       "[2022-04-19 14:00:00, 2022-04-19 15:30:00)    90\n",
       "[2022-04-19 15:30:00, 2022-04-19 17:00:00)    30\n",
       "[2022-04-20 09:30:00, 2022-04-20 11:00:00)    90\n",
       "[2022-04-20 11:00:00, 2022-04-20 12:30:00)    90\n",
       "[2022-04-20 12:30:00, 2022-04-20 14:00:00)    90\n",
       "[2022-04-20 14:00:00, 2022-04-20 15:30:00)    90\n",
       "[2022-04-20 15:30:00, 2022-04-20 17:00:00)    30\n",
       "Name: trading_mins, dtype: int64"
      ]
     },
     "execution_count": 19,
     "metadata": {},
     "output_type": "execute_result"
    }
   ],
   "source": [
    "df_90.pt.indices_trading_minutes(xnys)"
   ]
  },
  {
   "cell_type": "code",
   "execution_count": 20,
   "metadata": {},
   "outputs": [
    {
     "data": {
      "text/plain": [
       "[2022-04-20 09:30:00, 2022-04-20 10:10:00)    40\n",
       "[2022-04-20 10:10:00, 2022-04-20 10:50:00)    40\n",
       "[2022-04-20 10:50:00, 2022-04-20 11:30:00)    40\n",
       "[2022-04-20 11:30:00, 2022-04-20 12:10:00)    30\n",
       "[2022-04-20 13:00:00, 2022-04-20 13:40:00)    40\n",
       "[2022-04-20 13:40:00, 2022-04-20 14:20:00)    40\n",
       "[2022-04-20 14:20:00, 2022-04-20 15:00:00)    40\n",
       "[2022-04-20 15:00:00, 2022-04-20 15:40:00)    40\n",
       "[2022-04-20 15:40:00, 2022-04-20 16:20:00)    20\n",
       "Name: trading_mins, dtype: int64"
      ]
     },
     "execution_count": 20,
     "metadata": {},
     "output_type": "execute_result"
    }
   ],
   "source": [
    "df_40_hk.pt.indices_trading_minutes(xhkg)"
   ]
  },
  {
   "cell_type": "markdown",
   "metadata": {},
   "source": [
    "`.pt.indices_have_trading_minutes` queries if all indices have the same number of trading minutes."
   ]
  },
  {
   "cell_type": "code",
   "execution_count": 21,
   "metadata": {},
   "outputs": [
    {
     "data": {
      "text/plain": [
       "False"
      ]
     },
     "execution_count": 21,
     "metadata": {},
     "output_type": "execute_result"
    }
   ],
   "source": [
    "df_90.pt.indices_have_regular_trading_minutes(xnys)"
   ]
  },
  {
   "cell_type": "markdown",
   "metadata": {},
   "source": [
    "...although that for the 30 minute interval table"
   ]
  },
  {
   "cell_type": "code",
   "execution_count": 22,
   "metadata": {},
   "outputs": [
    {
     "data": {
      "text/plain": [
       "True"
      ]
     },
     "execution_count": 22,
     "metadata": {},
     "output_type": "execute_result"
    }
   ],
   "source": [
    "df_30.pt.indices_have_regular_trading_minutes(xnys)"
   ]
  },
  {
   "cell_type": "markdown",
   "metadata": {},
   "source": [
    "#### Intervals' lengths\n",
    "Some .pt accessor methods provide for querying the intervals' lengths (in terms of absolute minutes, rather than trading minutes).\n",
    "\n",
    "(In addition to the methods shown here, `pt.by_indice_length` is demonstrated in the [Indices overlapping](#Indices-overlapping-next-session) section.)\n",
    "\n",
    "`pt.has_regular_interval` queries if all indices have the same length."
   ]
  },
  {
   "cell_type": "code",
   "execution_count": 23,
   "metadata": {},
   "outputs": [
    {
     "data": {
      "text/plain": [
       "True"
      ]
     },
     "execution_count": 23,
     "metadata": {},
     "output_type": "execute_result"
    }
   ],
   "source": [
    "df_90.pt.has_regular_interval"
   ]
  },
  {
   "cell_type": "markdown",
   "metadata": {},
   "source": [
    "Lastly, `.pt.indices_length` returns a pd.Series indexed with all interval lengths and with values indicating the number of indices of each length. When prices are anchored \"open\" all indices will have the same length (unless [warned](#Indices-overlapping-next-session) otherwise) ..."
   ]
  },
  {
   "cell_type": "code",
   "execution_count": 24,
   "metadata": {},
   "outputs": [
    {
     "data": {
      "text/plain": [
       "0 days 01:30:00    10\n",
       "dtype: int64"
      ]
     },
     "execution_count": 24,
     "metadata": {},
     "output_type": "execute_result"
    }
   ],
   "source": [
    "df_90.pt.indices_length"
   ]
  },
  {
   "cell_type": "markdown",
   "metadata": {},
   "source": [
    "unless indices are forced..."
   ]
  },
  {
   "cell_type": "markdown",
   "metadata": {},
   "source": [
    "### `force`"
   ]
  },
  {
   "cell_type": "markdown",
   "metadata": {},
   "source": [
    "The `force` option can be passed to **curtail indices that include a single non-trading period so that they instead cover only the period during which at least one symbol was trading**.\n",
    "\n",
    "The effect can be seen by repeating the MSFT 90 minute example with `force` as True."
   ]
  },
  {
   "cell_type": "code",
   "execution_count": 25,
   "metadata": {},
   "outputs": [
    {
     "data": {
      "text/html": [
       "<div>\n",
       "<style scoped>\n",
       "    .dataframe tbody tr th:only-of-type {\n",
       "        vertical-align: middle;\n",
       "    }\n",
       "\n",
       "    .dataframe tbody tr th {\n",
       "        vertical-align: top;\n",
       "    }\n",
       "\n",
       "    .dataframe thead tr th {\n",
       "        text-align: left;\n",
       "    }\n",
       "</style>\n",
       "<table border=\"1\" class=\"dataframe\">\n",
       "  <thead>\n",
       "    <tr>\n",
       "      <th>symbol</th>\n",
       "      <th colspan=\"5\" halign=\"left\">MSFT</th>\n",
       "    </tr>\n",
       "    <tr>\n",
       "      <th></th>\n",
       "      <th>open</th>\n",
       "      <th>high</th>\n",
       "      <th>low</th>\n",
       "      <th>close</th>\n",
       "      <th>volume</th>\n",
       "    </tr>\n",
       "  </thead>\n",
       "  <tbody>\n",
       "    <tr>\n",
       "      <th>[2022-04-19 09:30:00, 2022-04-19 11:00:00)</th>\n",
       "      <td>279.720001</td>\n",
       "      <td>284.750000</td>\n",
       "      <td>278.410004</td>\n",
       "      <td>283.929993</td>\n",
       "      <td>6551190.0</td>\n",
       "    </tr>\n",
       "    <tr>\n",
       "      <th>[2022-04-19 11:00:00, 2022-04-19 12:30:00)</th>\n",
       "      <td>283.880005</td>\n",
       "      <td>284.820007</td>\n",
       "      <td>283.519989</td>\n",
       "      <td>283.587799</td>\n",
       "      <td>2773877.0</td>\n",
       "    </tr>\n",
       "    <tr>\n",
       "      <th>[2022-04-19 12:30:00, 2022-04-19 14:00:00)</th>\n",
       "      <td>283.600006</td>\n",
       "      <td>284.059998</td>\n",
       "      <td>282.980011</td>\n",
       "      <td>283.549988</td>\n",
       "      <td>2606609.0</td>\n",
       "    </tr>\n",
       "    <tr>\n",
       "      <th>[2022-04-19 14:00:00, 2022-04-19 15:30:00)</th>\n",
       "      <td>283.545013</td>\n",
       "      <td>285.582092</td>\n",
       "      <td>282.910004</td>\n",
       "      <td>285.250000</td>\n",
       "      <td>3127720.0</td>\n",
       "    </tr>\n",
       "    <tr>\n",
       "      <th>[2022-04-19 15:30:00, 2022-04-19 16:00:00)</th>\n",
       "      <td>285.279999</td>\n",
       "      <td>286.170013</td>\n",
       "      <td>284.500000</td>\n",
       "      <td>285.380005</td>\n",
       "      <td>3282886.0</td>\n",
       "    </tr>\n",
       "    <tr>\n",
       "      <th>[2022-04-20 09:30:00, 2022-04-20 11:00:00)</th>\n",
       "      <td>289.399994</td>\n",
       "      <td>289.700012</td>\n",
       "      <td>285.799988</td>\n",
       "      <td>288.084991</td>\n",
       "      <td>6921787.0</td>\n",
       "    </tr>\n",
       "    <tr>\n",
       "      <th>[2022-04-20 11:00:00, 2022-04-20 12:30:00)</th>\n",
       "      <td>288.079987</td>\n",
       "      <td>288.130005</td>\n",
       "      <td>285.370209</td>\n",
       "      <td>285.750000</td>\n",
       "      <td>3566785.0</td>\n",
       "    </tr>\n",
       "    <tr>\n",
       "      <th>[2022-04-20 12:30:00, 2022-04-20 14:00:00)</th>\n",
       "      <td>285.740997</td>\n",
       "      <td>288.010010</td>\n",
       "      <td>285.679993</td>\n",
       "      <td>287.570007</td>\n",
       "      <td>2433980.0</td>\n",
       "    </tr>\n",
       "    <tr>\n",
       "      <th>[2022-04-20 14:00:00, 2022-04-20 15:30:00)</th>\n",
       "      <td>287.549988</td>\n",
       "      <td>287.980011</td>\n",
       "      <td>285.519989</td>\n",
       "      <td>287.029999</td>\n",
       "      <td>3053402.0</td>\n",
       "    </tr>\n",
       "    <tr>\n",
       "      <th>[2022-04-20 15:30:00, 2022-04-20 16:00:00)</th>\n",
       "      <td>287.109985</td>\n",
       "      <td>288.119904</td>\n",
       "      <td>286.049988</td>\n",
       "      <td>286.309998</td>\n",
       "      <td>3366341.0</td>\n",
       "    </tr>\n",
       "  </tbody>\n",
       "</table>\n",
       "</div>"
      ],
      "text/plain": [
       "symbol                                            MSFT              \\\n",
       "                                                  open        high   \n",
       "[2022-04-19 09:30:00, 2022-04-19 11:00:00)  279.720001  284.750000   \n",
       "[2022-04-19 11:00:00, 2022-04-19 12:30:00)  283.880005  284.820007   \n",
       "[2022-04-19 12:30:00, 2022-04-19 14:00:00)  283.600006  284.059998   \n",
       "[2022-04-19 14:00:00, 2022-04-19 15:30:00)  283.545013  285.582092   \n",
       "[2022-04-19 15:30:00, 2022-04-19 16:00:00)  285.279999  286.170013   \n",
       "[2022-04-20 09:30:00, 2022-04-20 11:00:00)  289.399994  289.700012   \n",
       "[2022-04-20 11:00:00, 2022-04-20 12:30:00)  288.079987  288.130005   \n",
       "[2022-04-20 12:30:00, 2022-04-20 14:00:00)  285.740997  288.010010   \n",
       "[2022-04-20 14:00:00, 2022-04-20 15:30:00)  287.549988  287.980011   \n",
       "[2022-04-20 15:30:00, 2022-04-20 16:00:00)  287.109985  288.119904   \n",
       "\n",
       "symbol                                                                         \n",
       "                                                   low       close     volume  \n",
       "[2022-04-19 09:30:00, 2022-04-19 11:00:00)  278.410004  283.929993  6551190.0  \n",
       "[2022-04-19 11:00:00, 2022-04-19 12:30:00)  283.519989  283.587799  2773877.0  \n",
       "[2022-04-19 12:30:00, 2022-04-19 14:00:00)  282.980011  283.549988  2606609.0  \n",
       "[2022-04-19 14:00:00, 2022-04-19 15:30:00)  282.910004  285.250000  3127720.0  \n",
       "[2022-04-19 15:30:00, 2022-04-19 16:00:00)  284.500000  285.380005  3282886.0  \n",
       "[2022-04-20 09:30:00, 2022-04-20 11:00:00)  285.799988  288.084991  6921787.0  \n",
       "[2022-04-20 11:00:00, 2022-04-20 12:30:00)  285.370209  285.750000  3566785.0  \n",
       "[2022-04-20 12:30:00, 2022-04-20 14:00:00)  285.679993  287.570007  2433980.0  \n",
       "[2022-04-20 14:00:00, 2022-04-20 15:30:00)  285.519989  287.029999  3053402.0  \n",
       "[2022-04-20 15:30:00, 2022-04-20 16:00:00)  286.049988  286.309998  3366341.0  "
      ]
     },
     "execution_count": 25,
     "metadata": {},
     "output_type": "execute_result"
    }
   ],
   "source": [
    "df_90_f = prices.get(\n",
    "    \"90T\", start_session, end_session, anchor=\"open\", force=True\n",
    ")\n",
    "df_90_f"
   ]
  },
  {
   "cell_type": "markdown",
   "metadata": {},
   "source": [
    "The indices at the end of each session can now be seen to reflect the 16.00 close. A consequence of forcing is that the indices are no longer all of the same length..."
   ]
  },
  {
   "cell_type": "code",
   "execution_count": 26,
   "metadata": {},
   "outputs": [
    {
     "data": {
      "text/plain": [
       "False"
      ]
     },
     "execution_count": 26,
     "metadata": {},
     "output_type": "execute_result"
    }
   ],
   "source": [
    "df_90_f.pt.has_regular_interval"
   ]
  },
  {
   "cell_type": "code",
   "execution_count": 27,
   "metadata": {},
   "outputs": [
    {
     "data": {
      "text/plain": [
       "0 days 01:30:00    8\n",
       "0 days 00:30:00    2\n",
       "dtype: int64"
      ]
     },
     "execution_count": 27,
     "metadata": {},
     "output_type": "execute_result"
    }
   ],
   "source": [
    "df_90_f.pt.indices_length"
   ]
  },
  {
   "cell_type": "markdown",
   "metadata": {},
   "source": [
    "Although now they all only represent trading periods, i.e. there are no partial trading indices..."
   ]
  },
  {
   "cell_type": "code",
   "execution_count": 28,
   "metadata": {},
   "outputs": [
    {
     "data": {
      "text/plain": [
       "True"
      ]
     },
     "execution_count": 28,
     "metadata": {},
     "output_type": "execute_result"
    }
   ],
   "source": [
    "df_90_f.pt.indices_all_trading(xnys)"
   ]
  },
  {
   "cell_type": "code",
   "execution_count": 29,
   "metadata": {},
   "outputs": [
    {
     "data": {
      "text/plain": [
       "True"
      ]
     },
     "execution_count": 29,
     "metadata": {},
     "output_type": "execute_result"
    }
   ],
   "source": [
    "df_90_f.pt.indices_partial_trading(xnys).empty"
   ]
  },
  {
   "cell_type": "markdown",
   "metadata": {},
   "source": [
    "Forcing the previous 40 minute Hong Kong example shows how force will force the last indices of both the am and pm subsessions to their respective closes."
   ]
  },
  {
   "cell_type": "code",
   "execution_count": 30,
   "metadata": {},
   "outputs": [
    {
     "data": {
      "text/html": [
       "<div>\n",
       "<style scoped>\n",
       "    .dataframe tbody tr th:only-of-type {\n",
       "        vertical-align: middle;\n",
       "    }\n",
       "\n",
       "    .dataframe tbody tr th {\n",
       "        vertical-align: top;\n",
       "    }\n",
       "\n",
       "    .dataframe thead tr th {\n",
       "        text-align: left;\n",
       "    }\n",
       "</style>\n",
       "<table border=\"1\" class=\"dataframe\">\n",
       "  <thead>\n",
       "    <tr>\n",
       "      <th>symbol</th>\n",
       "      <th colspan=\"5\" halign=\"left\">9988.HK</th>\n",
       "    </tr>\n",
       "    <tr>\n",
       "      <th></th>\n",
       "      <th>open</th>\n",
       "      <th>high</th>\n",
       "      <th>low</th>\n",
       "      <th>close</th>\n",
       "      <th>volume</th>\n",
       "    </tr>\n",
       "  </thead>\n",
       "  <tbody>\n",
       "    <tr>\n",
       "      <th>[2022-04-20 09:30:00, 2022-04-20 10:10:00)</th>\n",
       "      <td>91.199997</td>\n",
       "      <td>91.900002</td>\n",
       "      <td>90.599998</td>\n",
       "      <td>90.900002</td>\n",
       "      <td>2494538.0</td>\n",
       "    </tr>\n",
       "    <tr>\n",
       "      <th>[2022-04-20 10:10:00, 2022-04-20 10:50:00)</th>\n",
       "      <td>90.900002</td>\n",
       "      <td>91.250000</td>\n",
       "      <td>90.500000</td>\n",
       "      <td>91.150002</td>\n",
       "      <td>1958569.0</td>\n",
       "    </tr>\n",
       "    <tr>\n",
       "      <th>[2022-04-20 10:50:00, 2022-04-20 11:30:00)</th>\n",
       "      <td>91.199997</td>\n",
       "      <td>92.199997</td>\n",
       "      <td>90.849998</td>\n",
       "      <td>92.000000</td>\n",
       "      <td>2034541.0</td>\n",
       "    </tr>\n",
       "    <tr>\n",
       "      <th>[2022-04-20 11:30:00, 2022-04-20 12:00:00)</th>\n",
       "      <td>92.000000</td>\n",
       "      <td>92.949997</td>\n",
       "      <td>91.949997</td>\n",
       "      <td>92.599998</td>\n",
       "      <td>1359203.0</td>\n",
       "    </tr>\n",
       "    <tr>\n",
       "      <th>[2022-04-20 13:00:00, 2022-04-20 13:40:00)</th>\n",
       "      <td>92.650002</td>\n",
       "      <td>92.750000</td>\n",
       "      <td>91.500000</td>\n",
       "      <td>91.699997</td>\n",
       "      <td>1571339.0</td>\n",
       "    </tr>\n",
       "    <tr>\n",
       "      <th>[2022-04-20 13:40:00, 2022-04-20 14:20:00)</th>\n",
       "      <td>91.699997</td>\n",
       "      <td>91.900002</td>\n",
       "      <td>90.900002</td>\n",
       "      <td>90.900002</td>\n",
       "      <td>1469246.0</td>\n",
       "    </tr>\n",
       "    <tr>\n",
       "      <th>[2022-04-20 14:20:00, 2022-04-20 15:00:00)</th>\n",
       "      <td>90.900002</td>\n",
       "      <td>91.050003</td>\n",
       "      <td>90.300003</td>\n",
       "      <td>90.650002</td>\n",
       "      <td>2124748.0</td>\n",
       "    </tr>\n",
       "    <tr>\n",
       "      <th>[2022-04-20 15:00:00, 2022-04-20 15:40:00)</th>\n",
       "      <td>90.650002</td>\n",
       "      <td>91.300003</td>\n",
       "      <td>90.550003</td>\n",
       "      <td>91.150002</td>\n",
       "      <td>2500419.0</td>\n",
       "    </tr>\n",
       "    <tr>\n",
       "      <th>[2022-04-20 15:40:00, 2022-04-20 16:00:00)</th>\n",
       "      <td>91.150002</td>\n",
       "      <td>91.300003</td>\n",
       "      <td>90.599998</td>\n",
       "      <td>90.650002</td>\n",
       "      <td>1626723.0</td>\n",
       "    </tr>\n",
       "  </tbody>\n",
       "</table>\n",
       "</div>"
      ],
      "text/plain": [
       "symbol                                        9988.HK                        \\\n",
       "                                                 open       high        low   \n",
       "[2022-04-20 09:30:00, 2022-04-20 10:10:00)  91.199997  91.900002  90.599998   \n",
       "[2022-04-20 10:10:00, 2022-04-20 10:50:00)  90.900002  91.250000  90.500000   \n",
       "[2022-04-20 10:50:00, 2022-04-20 11:30:00)  91.199997  92.199997  90.849998   \n",
       "[2022-04-20 11:30:00, 2022-04-20 12:00:00)  92.000000  92.949997  91.949997   \n",
       "[2022-04-20 13:00:00, 2022-04-20 13:40:00)  92.650002  92.750000  91.500000   \n",
       "[2022-04-20 13:40:00, 2022-04-20 14:20:00)  91.699997  91.900002  90.900002   \n",
       "[2022-04-20 14:20:00, 2022-04-20 15:00:00)  90.900002  91.050003  90.300003   \n",
       "[2022-04-20 15:00:00, 2022-04-20 15:40:00)  90.650002  91.300003  90.550003   \n",
       "[2022-04-20 15:40:00, 2022-04-20 16:00:00)  91.150002  91.300003  90.599998   \n",
       "\n",
       "symbol                                                            \n",
       "                                                close     volume  \n",
       "[2022-04-20 09:30:00, 2022-04-20 10:10:00)  90.900002  2494538.0  \n",
       "[2022-04-20 10:10:00, 2022-04-20 10:50:00)  91.150002  1958569.0  \n",
       "[2022-04-20 10:50:00, 2022-04-20 11:30:00)  92.000000  2034541.0  \n",
       "[2022-04-20 11:30:00, 2022-04-20 12:00:00)  92.599998  1359203.0  \n",
       "[2022-04-20 13:00:00, 2022-04-20 13:40:00)  91.699997  1571339.0  \n",
       "[2022-04-20 13:40:00, 2022-04-20 14:20:00)  90.900002  1469246.0  \n",
       "[2022-04-20 14:20:00, 2022-04-20 15:00:00)  90.650002  2124748.0  \n",
       "[2022-04-20 15:00:00, 2022-04-20 15:40:00)  91.150002  2500419.0  \n",
       "[2022-04-20 15:40:00, 2022-04-20 16:00:00)  90.650002  1626723.0  "
      ]
     },
     "execution_count": 30,
     "metadata": {},
     "output_type": "execute_result"
    }
   ],
   "source": [
    "df_40_hk_f = prices_hk.get(\n",
    "    \"40T\", session, session, anchor=\"open\", force=True\n",
    ")\n",
    "df_40_hk_f"
   ]
  },
  {
   "cell_type": "code",
   "execution_count": 31,
   "metadata": {},
   "outputs": [
    {
     "data": {
      "text/plain": [
       "0 days 00:40:00    7\n",
       "0 days 00:30:00    1\n",
       "0 days 00:20:00    1\n",
       "dtype: int64"
      ]
     },
     "execution_count": 31,
     "metadata": {},
     "output_type": "execute_result"
    }
   ],
   "source": [
    "df_40_hk_f.pt.indices_length"
   ]
  },
  {
   "cell_type": "markdown",
   "metadata": {},
   "source": [
    "Worth noting that the force option only effects the index, not the prices of the forced indices (as no symbol trades during the non-trading period being curtailed, the price data is unchanged)."
   ]
  },
  {
   "cell_type": "markdown",
   "metadata": {},
   "source": [
    "#### Force to period end with `openend`"
   ]
  },
  {
   "cell_type": "markdown",
   "metadata": {},
   "source": [
    "The Golden Rule (see [periods tutorial](./periods.ipynb)) dictates that prices should never be included for any period that lies before `start` or after `end`. However, the final *indice* can extend beyond `end` so long as this does not result in the incorporation of prices registered after `end`.\n",
    "\n",
    "Consider the following example which requests prices between the open and close of a single session."
   ]
  },
  {
   "cell_type": "code",
   "execution_count": 32,
   "metadata": {},
   "outputs": [
    {
     "data": {
      "text/plain": [
       "(Timestamp('2022-04-20 09:30:00-0400', tz='America/New_York'),\n",
       " Timestamp('2022-04-20 16:00:00-0400', tz='America/New_York'))"
      ]
     },
     "execution_count": 32,
     "metadata": {},
     "output_type": "execute_result"
    }
   ],
   "source": [
    "start, end = xnys.session_open_close(session)\n",
    "# put in terms of local tz for ease of reference\n",
    "start = start.astimezone(prices.tz_default)\n",
    "end = end.astimezone(prices.tz_default)\n",
    "# for reference\n",
    "start, end"
   ]
  },
  {
   "cell_type": "code",
   "execution_count": 33,
   "metadata": {},
   "outputs": [
    {
     "data": {
      "text/html": [
       "<div>\n",
       "<style scoped>\n",
       "    .dataframe tbody tr th:only-of-type {\n",
       "        vertical-align: middle;\n",
       "    }\n",
       "\n",
       "    .dataframe tbody tr th {\n",
       "        vertical-align: top;\n",
       "    }\n",
       "\n",
       "    .dataframe thead tr th {\n",
       "        text-align: left;\n",
       "    }\n",
       "</style>\n",
       "<table border=\"1\" class=\"dataframe\">\n",
       "  <thead>\n",
       "    <tr>\n",
       "      <th>symbol</th>\n",
       "      <th colspan=\"5\" halign=\"left\">MSFT</th>\n",
       "    </tr>\n",
       "    <tr>\n",
       "      <th></th>\n",
       "      <th>open</th>\n",
       "      <th>high</th>\n",
       "      <th>low</th>\n",
       "      <th>close</th>\n",
       "      <th>volume</th>\n",
       "    </tr>\n",
       "  </thead>\n",
       "  <tbody>\n",
       "    <tr>\n",
       "      <th>[2022-04-20 09:30:00, 2022-04-20 10:30:00)</th>\n",
       "      <td>289.399994</td>\n",
       "      <td>289.700012</td>\n",
       "      <td>285.799988</td>\n",
       "      <td>288.100006</td>\n",
       "      <td>5723475.0</td>\n",
       "    </tr>\n",
       "    <tr>\n",
       "      <th>[2022-04-20 10:30:00, 2022-04-20 11:30:00)</th>\n",
       "      <td>288.149994</td>\n",
       "      <td>288.890015</td>\n",
       "      <td>286.220001</td>\n",
       "      <td>286.510010</td>\n",
       "      <td>2621559.0</td>\n",
       "    </tr>\n",
       "    <tr>\n",
       "      <th>[2022-04-20 11:30:00, 2022-04-20 12:30:00)</th>\n",
       "      <td>286.519989</td>\n",
       "      <td>287.600006</td>\n",
       "      <td>285.370209</td>\n",
       "      <td>285.750000</td>\n",
       "      <td>2143538.0</td>\n",
       "    </tr>\n",
       "    <tr>\n",
       "      <th>[2022-04-20 12:30:00, 2022-04-20 13:30:00)</th>\n",
       "      <td>285.740997</td>\n",
       "      <td>287.369995</td>\n",
       "      <td>285.679993</td>\n",
       "      <td>286.929993</td>\n",
       "      <td>1644318.0</td>\n",
       "    </tr>\n",
       "    <tr>\n",
       "      <th>[2022-04-20 13:30:00, 2022-04-20 14:30:00)</th>\n",
       "      <td>286.880005</td>\n",
       "      <td>288.010010</td>\n",
       "      <td>286.750000</td>\n",
       "      <td>286.950012</td>\n",
       "      <td>1613055.0</td>\n",
       "    </tr>\n",
       "    <tr>\n",
       "      <th>[2022-04-20 14:30:00, 2022-04-20 15:30:00)</th>\n",
       "      <td>286.959991</td>\n",
       "      <td>287.399994</td>\n",
       "      <td>285.519989</td>\n",
       "      <td>287.029999</td>\n",
       "      <td>2230009.0</td>\n",
       "    </tr>\n",
       "    <tr>\n",
       "      <th>[2022-04-20 15:30:00, 2022-04-20 16:30:00)</th>\n",
       "      <td>287.109985</td>\n",
       "      <td>288.119904</td>\n",
       "      <td>286.049988</td>\n",
       "      <td>286.309998</td>\n",
       "      <td>3366341.0</td>\n",
       "    </tr>\n",
       "  </tbody>\n",
       "</table>\n",
       "</div>"
      ],
      "text/plain": [
       "symbol                                            MSFT              \\\n",
       "                                                  open        high   \n",
       "[2022-04-20 09:30:00, 2022-04-20 10:30:00)  289.399994  289.700012   \n",
       "[2022-04-20 10:30:00, 2022-04-20 11:30:00)  288.149994  288.890015   \n",
       "[2022-04-20 11:30:00, 2022-04-20 12:30:00)  286.519989  287.600006   \n",
       "[2022-04-20 12:30:00, 2022-04-20 13:30:00)  285.740997  287.369995   \n",
       "[2022-04-20 13:30:00, 2022-04-20 14:30:00)  286.880005  288.010010   \n",
       "[2022-04-20 14:30:00, 2022-04-20 15:30:00)  286.959991  287.399994   \n",
       "[2022-04-20 15:30:00, 2022-04-20 16:30:00)  287.109985  288.119904   \n",
       "\n",
       "symbol                                                                         \n",
       "                                                   low       close     volume  \n",
       "[2022-04-20 09:30:00, 2022-04-20 10:30:00)  285.799988  288.100006  5723475.0  \n",
       "[2022-04-20 10:30:00, 2022-04-20 11:30:00)  286.220001  286.510010  2621559.0  \n",
       "[2022-04-20 11:30:00, 2022-04-20 12:30:00)  285.370209  285.750000  2143538.0  \n",
       "[2022-04-20 12:30:00, 2022-04-20 13:30:00)  285.679993  286.929993  1644318.0  \n",
       "[2022-04-20 13:30:00, 2022-04-20 14:30:00)  286.750000  286.950012  1613055.0  \n",
       "[2022-04-20 14:30:00, 2022-04-20 15:30:00)  285.519989  287.029999  2230009.0  \n",
       "[2022-04-20 15:30:00, 2022-04-20 16:30:00)  286.049988  286.309998  3366341.0  "
      ]
     },
     "execution_count": 33,
     "metadata": {},
     "output_type": "execute_result"
    }
   ],
   "source": [
    "df_maintain = prices.get(\"1H\", start, end)\n",
    "df_maintain"
   ]
  },
  {
   "cell_type": "markdown",
   "metadata": {},
   "source": [
    "Although `end` was 16:00, the last indice runs to 16:30. The one hour interval results in the period end, 16:30, being unaligned with the indices. Such a period end is considered to be an **unaligned session close**. The `openend` option exists to choose **how to define the final indice when the period end is an unaligned session close**.\n",
    "\n",
    "The default `openend` is **\"maintain\"**. This maintains the `interval` by ensuring that the last indice has the same length as all the rest. This is what happened above."
   ]
  },
  {
   "cell_type": "code",
   "execution_count": 34,
   "metadata": {},
   "outputs": [
    {
     "data": {
      "text/plain": [
       "True"
      ]
     },
     "execution_count": 34,
     "metadata": {},
     "output_type": "execute_result"
    }
   ],
   "source": [
    "df_maintain.pt.has_regular_interval"
   ]
  },
  {
   "cell_type": "markdown",
   "metadata": {},
   "source": [
    "However, the only reason that the final indice above was allowed to extend beyond `end` is that no symbol traded during the period between the unaligned session close and the end of the indice that contained it. If a symbol does trade during this period then the table ends with the indice that preceeds the unaligned session close (examples of this behaviour are included to the [openend](#openend) section of [multiple calendars](#Multiple-calendars)).\n",
    "\n",
    "If representing the period end is more important than maintaining the interval then `openend` can be passed as **shorten** to shorten the final indice to represent only the period through to the session close."
   ]
  },
  {
   "cell_type": "code",
   "execution_count": 35,
   "metadata": {},
   "outputs": [
    {
     "data": {
      "text/html": [
       "<div>\n",
       "<style scoped>\n",
       "    .dataframe tbody tr th:only-of-type {\n",
       "        vertical-align: middle;\n",
       "    }\n",
       "\n",
       "    .dataframe tbody tr th {\n",
       "        vertical-align: top;\n",
       "    }\n",
       "\n",
       "    .dataframe thead tr th {\n",
       "        text-align: left;\n",
       "    }\n",
       "</style>\n",
       "<table border=\"1\" class=\"dataframe\">\n",
       "  <thead>\n",
       "    <tr>\n",
       "      <th>symbol</th>\n",
       "      <th colspan=\"5\" halign=\"left\">MSFT</th>\n",
       "    </tr>\n",
       "    <tr>\n",
       "      <th></th>\n",
       "      <th>open</th>\n",
       "      <th>high</th>\n",
       "      <th>low</th>\n",
       "      <th>close</th>\n",
       "      <th>volume</th>\n",
       "    </tr>\n",
       "  </thead>\n",
       "  <tbody>\n",
       "    <tr>\n",
       "      <th>[2022-04-20 09:30:00, 2022-04-20 10:30:00)</th>\n",
       "      <td>289.399994</td>\n",
       "      <td>289.700012</td>\n",
       "      <td>285.799988</td>\n",
       "      <td>288.100006</td>\n",
       "      <td>5723475.0</td>\n",
       "    </tr>\n",
       "    <tr>\n",
       "      <th>[2022-04-20 10:30:00, 2022-04-20 11:30:00)</th>\n",
       "      <td>288.149994</td>\n",
       "      <td>288.890015</td>\n",
       "      <td>286.220001</td>\n",
       "      <td>286.510010</td>\n",
       "      <td>2621559.0</td>\n",
       "    </tr>\n",
       "    <tr>\n",
       "      <th>[2022-04-20 11:30:00, 2022-04-20 12:30:00)</th>\n",
       "      <td>286.519989</td>\n",
       "      <td>287.600006</td>\n",
       "      <td>285.370209</td>\n",
       "      <td>285.750000</td>\n",
       "      <td>2143538.0</td>\n",
       "    </tr>\n",
       "    <tr>\n",
       "      <th>[2022-04-20 12:30:00, 2022-04-20 13:30:00)</th>\n",
       "      <td>285.740997</td>\n",
       "      <td>287.369995</td>\n",
       "      <td>285.679993</td>\n",
       "      <td>286.929993</td>\n",
       "      <td>1644318.0</td>\n",
       "    </tr>\n",
       "    <tr>\n",
       "      <th>[2022-04-20 13:30:00, 2022-04-20 14:30:00)</th>\n",
       "      <td>286.880005</td>\n",
       "      <td>288.010010</td>\n",
       "      <td>286.750000</td>\n",
       "      <td>286.950012</td>\n",
       "      <td>1613055.0</td>\n",
       "    </tr>\n",
       "    <tr>\n",
       "      <th>[2022-04-20 14:30:00, 2022-04-20 15:30:00)</th>\n",
       "      <td>286.959991</td>\n",
       "      <td>287.399994</td>\n",
       "      <td>285.519989</td>\n",
       "      <td>287.029999</td>\n",
       "      <td>2230009.0</td>\n",
       "    </tr>\n",
       "    <tr>\n",
       "      <th>[2022-04-20 15:30:00, 2022-04-20 16:00:00)</th>\n",
       "      <td>287.109985</td>\n",
       "      <td>288.119904</td>\n",
       "      <td>286.049988</td>\n",
       "      <td>286.309998</td>\n",
       "      <td>3366341.0</td>\n",
       "    </tr>\n",
       "  </tbody>\n",
       "</table>\n",
       "</div>"
      ],
      "text/plain": [
       "symbol                                            MSFT              \\\n",
       "                                                  open        high   \n",
       "[2022-04-20 09:30:00, 2022-04-20 10:30:00)  289.399994  289.700012   \n",
       "[2022-04-20 10:30:00, 2022-04-20 11:30:00)  288.149994  288.890015   \n",
       "[2022-04-20 11:30:00, 2022-04-20 12:30:00)  286.519989  287.600006   \n",
       "[2022-04-20 12:30:00, 2022-04-20 13:30:00)  285.740997  287.369995   \n",
       "[2022-04-20 13:30:00, 2022-04-20 14:30:00)  286.880005  288.010010   \n",
       "[2022-04-20 14:30:00, 2022-04-20 15:30:00)  286.959991  287.399994   \n",
       "[2022-04-20 15:30:00, 2022-04-20 16:00:00)  287.109985  288.119904   \n",
       "\n",
       "symbol                                                                         \n",
       "                                                   low       close     volume  \n",
       "[2022-04-20 09:30:00, 2022-04-20 10:30:00)  285.799988  288.100006  5723475.0  \n",
       "[2022-04-20 10:30:00, 2022-04-20 11:30:00)  286.220001  286.510010  2621559.0  \n",
       "[2022-04-20 11:30:00, 2022-04-20 12:30:00)  285.370209  285.750000  2143538.0  \n",
       "[2022-04-20 12:30:00, 2022-04-20 13:30:00)  285.679993  286.929993  1644318.0  \n",
       "[2022-04-20 13:30:00, 2022-04-20 14:30:00)  286.750000  286.950012  1613055.0  \n",
       "[2022-04-20 14:30:00, 2022-04-20 15:30:00)  285.519989  287.029999  2230009.0  \n",
       "[2022-04-20 15:30:00, 2022-04-20 16:00:00)  286.049988  286.309998  3366341.0  "
      ]
     },
     "execution_count": 35,
     "metadata": {},
     "output_type": "execute_result"
    }
   ],
   "source": [
    "df_shorten = prices.get(\"1H\", start, end, openend=\"shorten\")\n",
    "df_shorten"
   ]
  },
  {
   "cell_type": "markdown",
   "metadata": {},
   "source": [
    "Notice that the final indice now ends at 16:00 and hence is shorter than `interval`, covering only 30 minutes."
   ]
  },
  {
   "cell_type": "code",
   "execution_count": 36,
   "metadata": {},
   "outputs": [
    {
     "data": {
      "text/plain": [
       "False"
      ]
     },
     "execution_count": 36,
     "metadata": {},
     "output_type": "execute_result"
    }
   ],
   "source": [
    "df_shorten.pt.has_regular_interval"
   ]
  },
  {
   "cell_type": "markdown",
   "metadata": {},
   "source": [
    "Note that it's only possible for the period end to fall on an unaligned session close if the `anchor` is \"open\" (when [`anchor` is \"workback\"](#anchor-\"workback\") the period end is by definition aligned with the right of the last indice). Hence the name of the `openend` option - choose what to do with the end when the anchor is \"open\".\n",
    "\n",
    "The `openend` option is further explored in the [openend](#openend) section of [multiple calendars](#Multiple-calendars), including an example of when it's not possible to 'shorten' the final indice as a result of data availability."
   ]
  },
  {
   "cell_type": "markdown",
   "metadata": {},
   "source": [
    "### Indices overlapping next session"
   ]
  },
  {
   "cell_type": "markdown",
   "metadata": {},
   "source": [
    "If the `interval` is long relative to the gap between a session close and the next session open then it's possible for the last indice of a session to overlap the first indice of the next session. This is easily illustrated with a symbol that trades 24/7 and therefore has no gaps between consecutive sessions. Bitcoin for example.\n",
    "\n",
    "With an 8 hour interval the indices coincide with the sessions' closes and the intervals are all regular."
   ]
  },
  {
   "cell_type": "code",
   "execution_count": 37,
   "metadata": {},
   "outputs": [
    {
     "name": "stdout",
     "output_type": "stream",
     "text": [
      "start_session=Timestamp('2022-04-19 00:00:00')\n",
      "end_session=Timestamp('2022-04-20 00:00:00')\n",
      "\n"
     ]
    },
    {
     "data": {
      "text/html": [
       "<div>\n",
       "<style scoped>\n",
       "    .dataframe tbody tr th:only-of-type {\n",
       "        vertical-align: middle;\n",
       "    }\n",
       "\n",
       "    .dataframe tbody tr th {\n",
       "        vertical-align: top;\n",
       "    }\n",
       "\n",
       "    .dataframe thead tr th {\n",
       "        text-align: left;\n",
       "    }\n",
       "</style>\n",
       "<table border=\"1\" class=\"dataframe\">\n",
       "  <thead>\n",
       "    <tr>\n",
       "      <th>symbol</th>\n",
       "      <th colspan=\"5\" halign=\"left\">BTC-USD</th>\n",
       "    </tr>\n",
       "    <tr>\n",
       "      <th></th>\n",
       "      <th>open</th>\n",
       "      <th>high</th>\n",
       "      <th>low</th>\n",
       "      <th>close</th>\n",
       "      <th>volume</th>\n",
       "    </tr>\n",
       "  </thead>\n",
       "  <tbody>\n",
       "    <tr>\n",
       "      <th>[2022-04-19, 2022-04-19 08:00:00)</th>\n",
       "      <td>40828.175781</td>\n",
       "      <td>41146.886719</td>\n",
       "      <td>40618.632812</td>\n",
       "      <td>40674.910156</td>\n",
       "      <td>9.237709e+08</td>\n",
       "    </tr>\n",
       "    <tr>\n",
       "      <th>[2022-04-19 08:00:00, 2022-04-19 16:00:00)</th>\n",
       "      <td>40685.148438</td>\n",
       "      <td>41672.960938</td>\n",
       "      <td>40636.628906</td>\n",
       "      <td>41486.648438</td>\n",
       "      <td>2.339473e+09</td>\n",
       "    </tr>\n",
       "    <tr>\n",
       "      <th>[2022-04-19 16:00:00, 2022-04-20)</th>\n",
       "      <td>41467.316406</td>\n",
       "      <td>41525.679688</td>\n",
       "      <td>41239.843750</td>\n",
       "      <td>41502.281250</td>\n",
       "      <td>0.000000e+00</td>\n",
       "    </tr>\n",
       "    <tr>\n",
       "      <th>[2022-04-20, 2022-04-20 08:00:00)</th>\n",
       "      <td>41495.515625</td>\n",
       "      <td>41526.152344</td>\n",
       "      <td>41278.414062</td>\n",
       "      <td>41353.929688</td>\n",
       "      <td>7.351460e+08</td>\n",
       "    </tr>\n",
       "    <tr>\n",
       "      <th>[2022-04-20 08:00:00, 2022-04-20 16:00:00)</th>\n",
       "      <td>41355.664062</td>\n",
       "      <td>42126.300781</td>\n",
       "      <td>41141.402344</td>\n",
       "      <td>41273.136719</td>\n",
       "      <td>3.405101e+09</td>\n",
       "    </tr>\n",
       "    <tr>\n",
       "      <th>[2022-04-20 16:00:00, 2022-04-21)</th>\n",
       "      <td>41267.566406</td>\n",
       "      <td>41571.660156</td>\n",
       "      <td>40961.097656</td>\n",
       "      <td>41377.843750</td>\n",
       "      <td>1.670937e+09</td>\n",
       "    </tr>\n",
       "  </tbody>\n",
       "</table>\n",
       "</div>"
      ],
      "text/plain": [
       "symbol                                           BTC-USD                \\\n",
       "                                                    open          high   \n",
       "[2022-04-19, 2022-04-19 08:00:00)           40828.175781  41146.886719   \n",
       "[2022-04-19 08:00:00, 2022-04-19 16:00:00)  40685.148438  41672.960938   \n",
       "[2022-04-19 16:00:00, 2022-04-20)           41467.316406  41525.679688   \n",
       "[2022-04-20, 2022-04-20 08:00:00)           41495.515625  41526.152344   \n",
       "[2022-04-20 08:00:00, 2022-04-20 16:00:00)  41355.664062  42126.300781   \n",
       "[2022-04-20 16:00:00, 2022-04-21)           41267.566406  41571.660156   \n",
       "\n",
       "symbol                                                                  \\\n",
       "                                                     low         close   \n",
       "[2022-04-19, 2022-04-19 08:00:00)           40618.632812  40674.910156   \n",
       "[2022-04-19 08:00:00, 2022-04-19 16:00:00)  40636.628906  41486.648438   \n",
       "[2022-04-19 16:00:00, 2022-04-20)           41239.843750  41502.281250   \n",
       "[2022-04-20, 2022-04-20 08:00:00)           41278.414062  41353.929688   \n",
       "[2022-04-20 08:00:00, 2022-04-20 16:00:00)  41141.402344  41273.136719   \n",
       "[2022-04-20 16:00:00, 2022-04-21)           40961.097656  41377.843750   \n",
       "\n",
       "symbol                                                    \n",
       "                                                  volume  \n",
       "[2022-04-19, 2022-04-19 08:00:00)           9.237709e+08  \n",
       "[2022-04-19 08:00:00, 2022-04-19 16:00:00)  2.339473e+09  \n",
       "[2022-04-19 16:00:00, 2022-04-20)           0.000000e+00  \n",
       "[2022-04-20, 2022-04-20 08:00:00)           7.351460e+08  \n",
       "[2022-04-20 08:00:00, 2022-04-20 16:00:00)  3.405101e+09  \n",
       "[2022-04-20 16:00:00, 2022-04-21)           1.670937e+09  "
      ]
     },
     "execution_count": 37,
     "metadata": {},
     "output_type": "execute_result"
    }
   ],
   "source": [
    "prices_btc = PricesYahoo(\"BTC-USD\")\n",
    "print(f\"{start_session=}\\n{end_session=}\\n\")  # for reference\n",
    "\n",
    "df = prices_btc.get(\"8H\", start_session, end_session, anchor=\"open\")\n",
    "df"
   ]
  },
  {
   "cell_type": "code",
   "execution_count": 38,
   "metadata": {},
   "outputs": [
    {
     "data": {
      "text/plain": [
       "True"
      ]
     },
     "execution_count": 38,
     "metadata": {},
     "output_type": "execute_result"
    }
   ],
   "source": [
    "df.pt.has_regular_interval"
   ]
  },
  {
   "cell_type": "markdown",
   "metadata": {},
   "source": [
    "As bitcoin trades 24/7 and the interval is 8 hours, there are 3 indices for each of the two sessions (bitcoin is associated with the 24/7 calendar which has opens and closes as UTC midnight).\n",
    "\n",
    "Look at what happens if the interval is changed to 7 hours, which doesn't align with the close."
   ]
  },
  {
   "cell_type": "code",
   "execution_count": null,
   "metadata": {},
   "outputs": [],
   "source": [
    "df_ol = prices_btc.get(\"7H\", start_session, end_session, anchor=\"open\")"
   ]
  },
  {
   "cell_type": "markdown",
   "metadata": {},
   "source": [
    "```\n",
    "IntervalIrregularWarning: \n",
    "PriceTable interval is irregular. One or more indices were curtailed to prevent the last indice assigned to a (sub)session from overlapping with the first indice of the following (sub)session.\n",
    "Use .pt.indices_length and .pt.by_indice_length to interrogate.\n",
    "  warnings.warn(errors.IntervalIrregularWarning())\n",
    "```"
   ]
  },
  {
   "cell_type": "code",
   "execution_count": 40,
   "metadata": {},
   "outputs": [
    {
     "data": {
      "text/html": [
       "<div>\n",
       "<style scoped>\n",
       "    .dataframe tbody tr th:only-of-type {\n",
       "        vertical-align: middle;\n",
       "    }\n",
       "\n",
       "    .dataframe tbody tr th {\n",
       "        vertical-align: top;\n",
       "    }\n",
       "\n",
       "    .dataframe thead tr th {\n",
       "        text-align: left;\n",
       "    }\n",
       "</style>\n",
       "<table border=\"1\" class=\"dataframe\">\n",
       "  <thead>\n",
       "    <tr>\n",
       "      <th>symbol</th>\n",
       "      <th colspan=\"5\" halign=\"left\">BTC-USD</th>\n",
       "    </tr>\n",
       "    <tr>\n",
       "      <th></th>\n",
       "      <th>open</th>\n",
       "      <th>high</th>\n",
       "      <th>low</th>\n",
       "      <th>close</th>\n",
       "      <th>volume</th>\n",
       "    </tr>\n",
       "  </thead>\n",
       "  <tbody>\n",
       "    <tr>\n",
       "      <th>[2022-04-19, 2022-04-19 07:00:00)</th>\n",
       "      <td>40828.175781</td>\n",
       "      <td>41146.886719</td>\n",
       "      <td>40648.042969</td>\n",
       "      <td>40732.976562</td>\n",
       "      <td>9.237709e+08</td>\n",
       "    </tr>\n",
       "    <tr>\n",
       "      <th>[2022-04-19 07:00:00, 2022-04-19 14:00:00)</th>\n",
       "      <td>40719.832031</td>\n",
       "      <td>41392.675781</td>\n",
       "      <td>40618.632812</td>\n",
       "      <td>41392.675781</td>\n",
       "      <td>1.097351e+09</td>\n",
       "    </tr>\n",
       "    <tr>\n",
       "      <th>[2022-04-19 14:00:00, 2022-04-19 21:00:00)</th>\n",
       "      <td>41432.988281</td>\n",
       "      <td>41672.960938</td>\n",
       "      <td>41239.843750</td>\n",
       "      <td>41293.839844</td>\n",
       "      <td>1.242122e+09</td>\n",
       "    </tr>\n",
       "    <tr>\n",
       "      <th>[2022-04-19 21:00:00, 2022-04-20)</th>\n",
       "      <td>41300.472656</td>\n",
       "      <td>41510.414062</td>\n",
       "      <td>41274.035156</td>\n",
       "      <td>41502.281250</td>\n",
       "      <td>0.000000e+00</td>\n",
       "    </tr>\n",
       "    <tr>\n",
       "      <th>[2022-04-20, 2022-04-20 07:00:00)</th>\n",
       "      <td>41495.515625</td>\n",
       "      <td>41514.226562</td>\n",
       "      <td>41278.414062</td>\n",
       "      <td>41441.253906</td>\n",
       "      <td>4.293530e+08</td>\n",
       "    </tr>\n",
       "    <tr>\n",
       "      <th>[2022-04-20 07:00:00, 2022-04-20 14:00:00)</th>\n",
       "      <td>41444.296875</td>\n",
       "      <td>42126.300781</td>\n",
       "      <td>41332.937500</td>\n",
       "      <td>41612.906250</td>\n",
       "      <td>3.207594e+09</td>\n",
       "    </tr>\n",
       "    <tr>\n",
       "      <th>[2022-04-20 14:00:00, 2022-04-20 21:00:00)</th>\n",
       "      <td>41594.031250</td>\n",
       "      <td>41711.167969</td>\n",
       "      <td>40961.097656</td>\n",
       "      <td>41405.281250</td>\n",
       "      <td>1.653217e+09</td>\n",
       "    </tr>\n",
       "  </tbody>\n",
       "</table>\n",
       "</div>"
      ],
      "text/plain": [
       "symbol                                           BTC-USD                \\\n",
       "                                                    open          high   \n",
       "[2022-04-19, 2022-04-19 07:00:00)           40828.175781  41146.886719   \n",
       "[2022-04-19 07:00:00, 2022-04-19 14:00:00)  40719.832031  41392.675781   \n",
       "[2022-04-19 14:00:00, 2022-04-19 21:00:00)  41432.988281  41672.960938   \n",
       "[2022-04-19 21:00:00, 2022-04-20)           41300.472656  41510.414062   \n",
       "[2022-04-20, 2022-04-20 07:00:00)           41495.515625  41514.226562   \n",
       "[2022-04-20 07:00:00, 2022-04-20 14:00:00)  41444.296875  42126.300781   \n",
       "[2022-04-20 14:00:00, 2022-04-20 21:00:00)  41594.031250  41711.167969   \n",
       "\n",
       "symbol                                                                  \\\n",
       "                                                     low         close   \n",
       "[2022-04-19, 2022-04-19 07:00:00)           40648.042969  40732.976562   \n",
       "[2022-04-19 07:00:00, 2022-04-19 14:00:00)  40618.632812  41392.675781   \n",
       "[2022-04-19 14:00:00, 2022-04-19 21:00:00)  41239.843750  41293.839844   \n",
       "[2022-04-19 21:00:00, 2022-04-20)           41274.035156  41502.281250   \n",
       "[2022-04-20, 2022-04-20 07:00:00)           41278.414062  41441.253906   \n",
       "[2022-04-20 07:00:00, 2022-04-20 14:00:00)  41332.937500  41612.906250   \n",
       "[2022-04-20 14:00:00, 2022-04-20 21:00:00)  40961.097656  41405.281250   \n",
       "\n",
       "symbol                                                    \n",
       "                                                  volume  \n",
       "[2022-04-19, 2022-04-19 07:00:00)           9.237709e+08  \n",
       "[2022-04-19 07:00:00, 2022-04-19 14:00:00)  1.097351e+09  \n",
       "[2022-04-19 14:00:00, 2022-04-19 21:00:00)  1.242122e+09  \n",
       "[2022-04-19 21:00:00, 2022-04-20)           0.000000e+00  \n",
       "[2022-04-20, 2022-04-20 07:00:00)           4.293530e+08  \n",
       "[2022-04-20 07:00:00, 2022-04-20 14:00:00)  3.207594e+09  \n",
       "[2022-04-20 14:00:00, 2022-04-20 21:00:00)  1.653217e+09  "
      ]
     },
     "execution_count": 40,
     "metadata": {},
     "output_type": "execute_result"
    }
   ],
   "source": [
    "df_ol"
   ]
  },
  {
   "cell_type": "markdown",
   "metadata": {},
   "source": [
    "An `IntervalIrregularWarning` was raised advising that one or more indices had to be curtailed to prevent them overlapping with the next indices. This is raised to avoid the user implicitly expecting all intervals to be regular.\n",
    "\n",
    "As suggested by the warning, `.pt` accessor methods can be used to interrogate what's going on.\n",
    "\n",
    "`pt.has_regular_interval` indicates that the interval is indeed irregular... "
   ]
  },
  {
   "cell_type": "code",
   "execution_count": 41,
   "metadata": {},
   "outputs": [
    {
     "data": {
      "text/plain": [
       "False"
      ]
     },
     "execution_count": 41,
     "metadata": {},
     "output_type": "execute_result"
    }
   ],
   "source": [
    "df_ol.pt.has_regular_interval"
   ]
  },
  {
   "cell_type": "markdown",
   "metadata": {},
   "source": [
    "`pt.indices_length` shows that whilst most indices are the requested 7 hours, one has been curtailed to 3 hours."
   ]
  },
  {
   "cell_type": "code",
   "execution_count": 42,
   "metadata": {},
   "outputs": [
    {
     "data": {
      "text/plain": [
       "0 days 07:00:00    6\n",
       "0 days 03:00:00    1\n",
       "dtype: int64"
      ]
     },
     "execution_count": 42,
     "metadata": {},
     "output_type": "execute_result"
    }
   ],
   "source": [
    "df_ol.pt.indices_length"
   ]
  },
  {
   "cell_type": "markdown",
   "metadata": {},
   "source": [
    "We can also refer to `pt.by_indice_length` which returns a geneartor that iterates through 2-tuples that each offer an interval length and a `pd.DataFrame` comprised of all the indices of that interval length."
   ]
  },
  {
   "cell_type": "code",
   "execution_count": 43,
   "metadata": {},
   "outputs": [
    {
     "name": "stdout",
     "output_type": "stream",
     "text": [
      "0 days 03:00:00\n"
     ]
    },
    {
     "data": {
      "text/html": [
       "<div>\n",
       "<style scoped>\n",
       "    .dataframe tbody tr th:only-of-type {\n",
       "        vertical-align: middle;\n",
       "    }\n",
       "\n",
       "    .dataframe tbody tr th {\n",
       "        vertical-align: top;\n",
       "    }\n",
       "\n",
       "    .dataframe thead tr th {\n",
       "        text-align: left;\n",
       "    }\n",
       "</style>\n",
       "<table border=\"1\" class=\"dataframe\">\n",
       "  <thead>\n",
       "    <tr>\n",
       "      <th>symbol</th>\n",
       "      <th colspan=\"5\" halign=\"left\">BTC-USD</th>\n",
       "    </tr>\n",
       "    <tr>\n",
       "      <th></th>\n",
       "      <th>open</th>\n",
       "      <th>high</th>\n",
       "      <th>low</th>\n",
       "      <th>close</th>\n",
       "      <th>volume</th>\n",
       "    </tr>\n",
       "  </thead>\n",
       "  <tbody>\n",
       "    <tr>\n",
       "      <th>[2022-04-19 21:00:00, 2022-04-20)</th>\n",
       "      <td>41300.472656</td>\n",
       "      <td>41510.414062</td>\n",
       "      <td>41274.035156</td>\n",
       "      <td>41502.28125</td>\n",
       "      <td>0.0</td>\n",
       "    </tr>\n",
       "  </tbody>\n",
       "</table>\n",
       "</div>"
      ],
      "text/plain": [
       "symbol                                  BTC-USD                              \\\n",
       "                                           open          high           low   \n",
       "[2022-04-19 21:00:00, 2022-04-20)  41300.472656  41510.414062  41274.035156   \n",
       "\n",
       "symbol                                                 \n",
       "                                         close volume  \n",
       "[2022-04-19 21:00:00, 2022-04-20)  41502.28125    0.0  "
      ]
     },
     "execution_count": 43,
     "metadata": {},
     "output_type": "execute_result"
    }
   ],
   "source": [
    "gen = df_ol.pt.by_indice_length\n",
    "interval, df = next(gen)\n",
    "print(interval)\n",
    "df"
   ]
  },
  {
   "cell_type": "markdown",
   "metadata": {},
   "source": [
    "The first iteration shows us the indice with 3 hour duration, i.e. the indice at the end of the first session which had to be curtailed in order to not overlap the first indice of the second session.\n",
    "\n",
    "The next iteration gives all the indices with the 7 hour intervals."
   ]
  },
  {
   "cell_type": "code",
   "execution_count": 44,
   "metadata": {},
   "outputs": [
    {
     "name": "stdout",
     "output_type": "stream",
     "text": [
      "0 days 07:00:00\n"
     ]
    },
    {
     "data": {
      "text/html": [
       "<div>\n",
       "<style scoped>\n",
       "    .dataframe tbody tr th:only-of-type {\n",
       "        vertical-align: middle;\n",
       "    }\n",
       "\n",
       "    .dataframe tbody tr th {\n",
       "        vertical-align: top;\n",
       "    }\n",
       "\n",
       "    .dataframe thead tr th {\n",
       "        text-align: left;\n",
       "    }\n",
       "</style>\n",
       "<table border=\"1\" class=\"dataframe\">\n",
       "  <thead>\n",
       "    <tr>\n",
       "      <th>symbol</th>\n",
       "      <th colspan=\"5\" halign=\"left\">BTC-USD</th>\n",
       "    </tr>\n",
       "    <tr>\n",
       "      <th></th>\n",
       "      <th>open</th>\n",
       "      <th>high</th>\n",
       "      <th>low</th>\n",
       "      <th>close</th>\n",
       "      <th>volume</th>\n",
       "    </tr>\n",
       "  </thead>\n",
       "  <tbody>\n",
       "    <tr>\n",
       "      <th>[2022-04-19, 2022-04-19 07:00:00)</th>\n",
       "      <td>40828.175781</td>\n",
       "      <td>41146.886719</td>\n",
       "      <td>40648.042969</td>\n",
       "      <td>40732.976562</td>\n",
       "      <td>9.237709e+08</td>\n",
       "    </tr>\n",
       "    <tr>\n",
       "      <th>[2022-04-19 07:00:00, 2022-04-19 14:00:00)</th>\n",
       "      <td>40719.832031</td>\n",
       "      <td>41392.675781</td>\n",
       "      <td>40618.632812</td>\n",
       "      <td>41392.675781</td>\n",
       "      <td>1.097351e+09</td>\n",
       "    </tr>\n",
       "    <tr>\n",
       "      <th>[2022-04-19 14:00:00, 2022-04-19 21:00:00)</th>\n",
       "      <td>41432.988281</td>\n",
       "      <td>41672.960938</td>\n",
       "      <td>41239.843750</td>\n",
       "      <td>41293.839844</td>\n",
       "      <td>1.242122e+09</td>\n",
       "    </tr>\n",
       "    <tr>\n",
       "      <th>[2022-04-20, 2022-04-20 07:00:00)</th>\n",
       "      <td>41495.515625</td>\n",
       "      <td>41514.226562</td>\n",
       "      <td>41278.414062</td>\n",
       "      <td>41441.253906</td>\n",
       "      <td>4.293530e+08</td>\n",
       "    </tr>\n",
       "    <tr>\n",
       "      <th>[2022-04-20 07:00:00, 2022-04-20 14:00:00)</th>\n",
       "      <td>41444.296875</td>\n",
       "      <td>42126.300781</td>\n",
       "      <td>41332.937500</td>\n",
       "      <td>41612.906250</td>\n",
       "      <td>3.207594e+09</td>\n",
       "    </tr>\n",
       "    <tr>\n",
       "      <th>[2022-04-20 14:00:00, 2022-04-20 21:00:00)</th>\n",
       "      <td>41594.031250</td>\n",
       "      <td>41711.167969</td>\n",
       "      <td>40961.097656</td>\n",
       "      <td>41405.281250</td>\n",
       "      <td>1.653217e+09</td>\n",
       "    </tr>\n",
       "  </tbody>\n",
       "</table>\n",
       "</div>"
      ],
      "text/plain": [
       "symbol                                           BTC-USD                \\\n",
       "                                                    open          high   \n",
       "[2022-04-19, 2022-04-19 07:00:00)           40828.175781  41146.886719   \n",
       "[2022-04-19 07:00:00, 2022-04-19 14:00:00)  40719.832031  41392.675781   \n",
       "[2022-04-19 14:00:00, 2022-04-19 21:00:00)  41432.988281  41672.960938   \n",
       "[2022-04-20, 2022-04-20 07:00:00)           41495.515625  41514.226562   \n",
       "[2022-04-20 07:00:00, 2022-04-20 14:00:00)  41444.296875  42126.300781   \n",
       "[2022-04-20 14:00:00, 2022-04-20 21:00:00)  41594.031250  41711.167969   \n",
       "\n",
       "symbol                                                                  \\\n",
       "                                                     low         close   \n",
       "[2022-04-19, 2022-04-19 07:00:00)           40648.042969  40732.976562   \n",
       "[2022-04-19 07:00:00, 2022-04-19 14:00:00)  40618.632812  41392.675781   \n",
       "[2022-04-19 14:00:00, 2022-04-19 21:00:00)  41239.843750  41293.839844   \n",
       "[2022-04-20, 2022-04-20 07:00:00)           41278.414062  41441.253906   \n",
       "[2022-04-20 07:00:00, 2022-04-20 14:00:00)  41332.937500  41612.906250   \n",
       "[2022-04-20 14:00:00, 2022-04-20 21:00:00)  40961.097656  41405.281250   \n",
       "\n",
       "symbol                                                    \n",
       "                                                  volume  \n",
       "[2022-04-19, 2022-04-19 07:00:00)           9.237709e+08  \n",
       "[2022-04-19 07:00:00, 2022-04-19 14:00:00)  1.097351e+09  \n",
       "[2022-04-19 14:00:00, 2022-04-19 21:00:00)  1.242122e+09  \n",
       "[2022-04-20, 2022-04-20 07:00:00)           4.293530e+08  \n",
       "[2022-04-20 07:00:00, 2022-04-20 14:00:00)  3.207594e+09  \n",
       "[2022-04-20 14:00:00, 2022-04-20 21:00:00)  1.653217e+09  "
      ]
     },
     "execution_count": 44,
     "metadata": {},
     "output_type": "execute_result"
    }
   ],
   "source": [
    "interval, df = next(gen)\n",
    "print(interval)\n",
    "df"
   ]
  },
  {
   "cell_type": "markdown",
   "metadata": {},
   "source": [
    "Overlapping indices can also be a common issue when symbols have a break. Going back to the prices of Alibaba, look at what happens when the interval is judiciously set to 106 minutes..."
   ]
  },
  {
   "cell_type": "code",
   "execution_count": null,
   "metadata": {},
   "outputs": [],
   "source": [
    "df_106 = prices_hk.get(\"106T\", session, session, anchor=\"open\")"
   ]
  },
  {
   "cell_type": "markdown",
   "metadata": {},
   "source": [
    "```\n",
    "IntervalIrregularWarning: \n",
    "PriceTable interval is irregular. One or more indices were curtailed to prevent the last indice assigned to a (sub)session from overlapping with the first indice of the following (sub)session.\n",
    "Use .pt.indices_length and .pt.by_indice_length to interrogate.\n",
    "  warnings.warn(errors.IntervalIrregularWarning())\n",
    "```"
   ]
  },
  {
   "cell_type": "code",
   "execution_count": 46,
   "metadata": {},
   "outputs": [
    {
     "data": {
      "text/html": [
       "<div>\n",
       "<style scoped>\n",
       "    .dataframe tbody tr th:only-of-type {\n",
       "        vertical-align: middle;\n",
       "    }\n",
       "\n",
       "    .dataframe tbody tr th {\n",
       "        vertical-align: top;\n",
       "    }\n",
       "\n",
       "    .dataframe thead tr th {\n",
       "        text-align: left;\n",
       "    }\n",
       "</style>\n",
       "<table border=\"1\" class=\"dataframe\">\n",
       "  <thead>\n",
       "    <tr>\n",
       "      <th>symbol</th>\n",
       "      <th colspan=\"5\" halign=\"left\">9988.HK</th>\n",
       "    </tr>\n",
       "    <tr>\n",
       "      <th></th>\n",
       "      <th>open</th>\n",
       "      <th>high</th>\n",
       "      <th>low</th>\n",
       "      <th>close</th>\n",
       "      <th>volume</th>\n",
       "    </tr>\n",
       "  </thead>\n",
       "  <tbody>\n",
       "    <tr>\n",
       "      <th>[2022-04-20 09:30:00, 2022-04-20 11:16:00)</th>\n",
       "      <td>91.199997</td>\n",
       "      <td>92.050003</td>\n",
       "      <td>90.500000</td>\n",
       "      <td>92.050003</td>\n",
       "      <td>6132298.0</td>\n",
       "    </tr>\n",
       "    <tr>\n",
       "      <th>[2022-04-20 11:16:00, 2022-04-20 13:00:00)</th>\n",
       "      <td>92.000000</td>\n",
       "      <td>92.949997</td>\n",
       "      <td>91.800003</td>\n",
       "      <td>92.599998</td>\n",
       "      <td>2269680.0</td>\n",
       "    </tr>\n",
       "    <tr>\n",
       "      <th>[2022-04-20 13:00:00, 2022-04-20 14:46:00)</th>\n",
       "      <td>92.650002</td>\n",
       "      <td>92.750000</td>\n",
       "      <td>90.300003</td>\n",
       "      <td>90.800003</td>\n",
       "      <td>4587665.0</td>\n",
       "    </tr>\n",
       "    <tr>\n",
       "      <th>[2022-04-20 14:46:00, 2022-04-20 16:32:00)</th>\n",
       "      <td>90.849998</td>\n",
       "      <td>91.300003</td>\n",
       "      <td>90.550003</td>\n",
       "      <td>90.650002</td>\n",
       "      <td>5443951.0</td>\n",
       "    </tr>\n",
       "  </tbody>\n",
       "</table>\n",
       "</div>"
      ],
      "text/plain": [
       "symbol                                        9988.HK                        \\\n",
       "                                                 open       high        low   \n",
       "[2022-04-20 09:30:00, 2022-04-20 11:16:00)  91.199997  92.050003  90.500000   \n",
       "[2022-04-20 11:16:00, 2022-04-20 13:00:00)  92.000000  92.949997  91.800003   \n",
       "[2022-04-20 13:00:00, 2022-04-20 14:46:00)  92.650002  92.750000  90.300003   \n",
       "[2022-04-20 14:46:00, 2022-04-20 16:32:00)  90.849998  91.300003  90.550003   \n",
       "\n",
       "symbol                                                            \n",
       "                                                close     volume  \n",
       "[2022-04-20 09:30:00, 2022-04-20 11:16:00)  92.050003  6132298.0  \n",
       "[2022-04-20 11:16:00, 2022-04-20 13:00:00)  92.599998  2269680.0  \n",
       "[2022-04-20 13:00:00, 2022-04-20 14:46:00)  90.800003  4587665.0  \n",
       "[2022-04-20 14:46:00, 2022-04-20 16:32:00)  90.650002  5443951.0  "
      ]
     },
     "execution_count": 46,
     "metadata": {},
     "output_type": "execute_result"
    }
   ],
   "source": [
    "df_106"
   ]
  },
  {
   "cell_type": "markdown",
   "metadata": {},
   "source": [
    "106 minutes is just long enough for the last indice of the am session (closing 12:00) to overlap (by one minute) with the first indice of the pm session (opening 13:00).\n",
    "\n",
    "For what's its worth, in this case all intervals will be the same length if the interval is increased to a value that will reduce the am session to a single indice..."
   ]
  },
  {
   "cell_type": "code",
   "execution_count": 47,
   "metadata": {},
   "outputs": [
    {
     "data": {
      "text/html": [
       "<div>\n",
       "<style scoped>\n",
       "    .dataframe tbody tr th:only-of-type {\n",
       "        vertical-align: middle;\n",
       "    }\n",
       "\n",
       "    .dataframe tbody tr th {\n",
       "        vertical-align: top;\n",
       "    }\n",
       "\n",
       "    .dataframe thead tr th {\n",
       "        text-align: left;\n",
       "    }\n",
       "</style>\n",
       "<table border=\"1\" class=\"dataframe\">\n",
       "  <thead>\n",
       "    <tr>\n",
       "      <th>symbol</th>\n",
       "      <th colspan=\"5\" halign=\"left\">9988.HK</th>\n",
       "    </tr>\n",
       "    <tr>\n",
       "      <th></th>\n",
       "      <th>open</th>\n",
       "      <th>high</th>\n",
       "      <th>low</th>\n",
       "      <th>close</th>\n",
       "      <th>volume</th>\n",
       "    </tr>\n",
       "  </thead>\n",
       "  <tbody>\n",
       "    <tr>\n",
       "      <th>[2022-04-20 09:30:00, 2022-04-20 12:00:00)</th>\n",
       "      <td>91.199997</td>\n",
       "      <td>92.949997</td>\n",
       "      <td>90.500000</td>\n",
       "      <td>92.599998</td>\n",
       "      <td>7846851.0</td>\n",
       "    </tr>\n",
       "    <tr>\n",
       "      <th>[2022-04-20 13:00:00, 2022-04-20 15:30:00)</th>\n",
       "      <td>92.650002</td>\n",
       "      <td>92.750000</td>\n",
       "      <td>90.300003</td>\n",
       "      <td>91.150002</td>\n",
       "      <td>6800710.0</td>\n",
       "    </tr>\n",
       "    <tr>\n",
       "      <th>[2022-04-20 15:30:00, 2022-04-20 18:00:00)</th>\n",
       "      <td>91.099998</td>\n",
       "      <td>91.300003</td>\n",
       "      <td>90.599998</td>\n",
       "      <td>90.650002</td>\n",
       "      <td>2491765.0</td>\n",
       "    </tr>\n",
       "  </tbody>\n",
       "</table>\n",
       "</div>"
      ],
      "text/plain": [
       "symbol                                        9988.HK                        \\\n",
       "                                                 open       high        low   \n",
       "[2022-04-20 09:30:00, 2022-04-20 12:00:00)  91.199997  92.949997  90.500000   \n",
       "[2022-04-20 13:00:00, 2022-04-20 15:30:00)  92.650002  92.750000  90.300003   \n",
       "[2022-04-20 15:30:00, 2022-04-20 18:00:00)  91.099998  91.300003  90.599998   \n",
       "\n",
       "symbol                                                            \n",
       "                                                close     volume  \n",
       "[2022-04-20 09:30:00, 2022-04-20 12:00:00)  92.599998  7846851.0  \n",
       "[2022-04-20 13:00:00, 2022-04-20 15:30:00)  91.150002  6800710.0  \n",
       "[2022-04-20 15:30:00, 2022-04-20 18:00:00)  90.650002  2491765.0  "
      ]
     },
     "execution_count": 47,
     "metadata": {},
     "output_type": "execute_result"
    }
   ],
   "source": [
    "prices_hk.get(\"150T\", session, session, anchor=\"open\")"
   ]
  },
  {
   "cell_type": "markdown",
   "metadata": {},
   "source": [
    "## `anchor` \"workback\"\n",
    "\n",
    "Whilst prices are traditionally anchored on the 'open', `market_prices` also offers the \"workback\" option to **anchor the indices at the end of the evaluated period**. The indices are then evaluated by 'working back' the number of **trading minutes** represented by the `interval`.\n",
    "\n",
    "Using the MSFT prices, consider how indices at 90 minute intervals are evaluated when working back from the second session's close."
   ]
  },
  {
   "cell_type": "code",
   "execution_count": 48,
   "metadata": {},
   "outputs": [
    {
     "data": {
      "text/html": [
       "<div>\n",
       "<style scoped>\n",
       "    .dataframe tbody tr th:only-of-type {\n",
       "        vertical-align: middle;\n",
       "    }\n",
       "\n",
       "    .dataframe tbody tr th {\n",
       "        vertical-align: top;\n",
       "    }\n",
       "\n",
       "    .dataframe thead tr th {\n",
       "        text-align: left;\n",
       "    }\n",
       "</style>\n",
       "<table border=\"1\" class=\"dataframe\">\n",
       "  <thead>\n",
       "    <tr>\n",
       "      <th>symbol</th>\n",
       "      <th colspan=\"5\" halign=\"left\">MSFT</th>\n",
       "    </tr>\n",
       "    <tr>\n",
       "      <th></th>\n",
       "      <th>open</th>\n",
       "      <th>high</th>\n",
       "      <th>low</th>\n",
       "      <th>close</th>\n",
       "      <th>volume</th>\n",
       "    </tr>\n",
       "  </thead>\n",
       "  <tbody>\n",
       "    <tr>\n",
       "      <th>[2022-04-19 10:30:00, 2022-04-19 12:00:00)</th>\n",
       "      <td>283.359985</td>\n",
       "      <td>284.820007</td>\n",
       "      <td>283.230011</td>\n",
       "      <td>284.359985</td>\n",
       "      <td>3348685.0</td>\n",
       "    </tr>\n",
       "    <tr>\n",
       "      <th>[2022-04-19 12:00:00, 2022-04-19 13:30:00)</th>\n",
       "      <td>284.269989</td>\n",
       "      <td>284.269989</td>\n",
       "      <td>283.149994</td>\n",
       "      <td>283.200012</td>\n",
       "      <td>2297989.0</td>\n",
       "    </tr>\n",
       "    <tr>\n",
       "      <th>[2022-04-19 13:30:00, 2022-04-19 15:00:00)</th>\n",
       "      <td>283.179993</td>\n",
       "      <td>284.359985</td>\n",
       "      <td>282.910004</td>\n",
       "      <td>284.260010</td>\n",
       "      <td>2854030.0</td>\n",
       "    </tr>\n",
       "    <tr>\n",
       "      <th>[2022-04-19 15:00:00, 2022-04-20 10:00:00)</th>\n",
       "      <td>284.279999</td>\n",
       "      <td>289.700012</td>\n",
       "      <td>284.049988</td>\n",
       "      <td>286.399994</td>\n",
       "      <td>8375341.0</td>\n",
       "    </tr>\n",
       "    <tr>\n",
       "      <th>[2022-04-20 10:00:00, 2022-04-20 11:30:00)</th>\n",
       "      <td>286.380005</td>\n",
       "      <td>288.890015</td>\n",
       "      <td>285.799988</td>\n",
       "      <td>286.510010</td>\n",
       "      <td>4534175.0</td>\n",
       "    </tr>\n",
       "    <tr>\n",
       "      <th>[2022-04-20 11:30:00, 2022-04-20 13:00:00)</th>\n",
       "      <td>286.519989</td>\n",
       "      <td>287.600006</td>\n",
       "      <td>285.370209</td>\n",
       "      <td>286.480011</td>\n",
       "      <td>2977636.0</td>\n",
       "    </tr>\n",
       "    <tr>\n",
       "      <th>[2022-04-20 13:00:00, 2022-04-20 14:30:00)</th>\n",
       "      <td>286.459991</td>\n",
       "      <td>288.010010</td>\n",
       "      <td>286.220001</td>\n",
       "      <td>286.950012</td>\n",
       "      <td>2423275.0</td>\n",
       "    </tr>\n",
       "    <tr>\n",
       "      <th>[2022-04-20 14:30:00, 2022-04-20 16:00:00)</th>\n",
       "      <td>286.959991</td>\n",
       "      <td>288.119904</td>\n",
       "      <td>285.519989</td>\n",
       "      <td>286.309998</td>\n",
       "      <td>5596350.0</td>\n",
       "    </tr>\n",
       "  </tbody>\n",
       "</table>\n",
       "</div>"
      ],
      "text/plain": [
       "symbol                                            MSFT              \\\n",
       "                                                  open        high   \n",
       "[2022-04-19 10:30:00, 2022-04-19 12:00:00)  283.359985  284.820007   \n",
       "[2022-04-19 12:00:00, 2022-04-19 13:30:00)  284.269989  284.269989   \n",
       "[2022-04-19 13:30:00, 2022-04-19 15:00:00)  283.179993  284.359985   \n",
       "[2022-04-19 15:00:00, 2022-04-20 10:00:00)  284.279999  289.700012   \n",
       "[2022-04-20 10:00:00, 2022-04-20 11:30:00)  286.380005  288.890015   \n",
       "[2022-04-20 11:30:00, 2022-04-20 13:00:00)  286.519989  287.600006   \n",
       "[2022-04-20 13:00:00, 2022-04-20 14:30:00)  286.459991  288.010010   \n",
       "[2022-04-20 14:30:00, 2022-04-20 16:00:00)  286.959991  288.119904   \n",
       "\n",
       "symbol                                                                         \n",
       "                                                   low       close     volume  \n",
       "[2022-04-19 10:30:00, 2022-04-19 12:00:00)  283.230011  284.359985  3348685.0  \n",
       "[2022-04-19 12:00:00, 2022-04-19 13:30:00)  283.149994  283.200012  2297989.0  \n",
       "[2022-04-19 13:30:00, 2022-04-19 15:00:00)  282.910004  284.260010  2854030.0  \n",
       "[2022-04-19 15:00:00, 2022-04-20 10:00:00)  284.049988  286.399994  8375341.0  \n",
       "[2022-04-20 10:00:00, 2022-04-20 11:30:00)  285.799988  286.510010  4534175.0  \n",
       "[2022-04-20 11:30:00, 2022-04-20 13:00:00)  285.370209  286.480011  2977636.0  \n",
       "[2022-04-20 13:00:00, 2022-04-20 14:30:00)  286.220001  286.950012  2423275.0  \n",
       "[2022-04-20 14:30:00, 2022-04-20 16:00:00)  285.519989  286.309998  5596350.0  "
      ]
     },
     "execution_count": 48,
     "metadata": {},
     "output_type": "execute_result"
    }
   ],
   "source": [
    "df_wb_90 = prices.get(\"90T\", start_session, end_session, anchor=\"workback\")\n",
    "df_wb_90"
   ]
  },
  {
   "cell_type": "markdown",
   "metadata": {},
   "source": [
    "Whereas when prices were anchored \"open\" the indices were unaligned with the last session close, now the right of the last indice coincides with the session end. Each preceeding indice represents the 90 trading minutes that preceed the following indice.\n",
    "\n",
    "The consequence of working back in terms of trading minutes is most salient where this results in indices 'crossing sessions', as occurs above in the 4th indice."
   ]
  },
  {
   "cell_type": "code",
   "execution_count": 49,
   "metadata": {},
   "outputs": [
    {
     "data": {
      "text/html": [
       "<div>\n",
       "<style scoped>\n",
       "    .dataframe tbody tr th:only-of-type {\n",
       "        vertical-align: middle;\n",
       "    }\n",
       "\n",
       "    .dataframe tbody tr th {\n",
       "        vertical-align: top;\n",
       "    }\n",
       "\n",
       "    .dataframe thead tr th {\n",
       "        text-align: left;\n",
       "    }\n",
       "</style>\n",
       "<table border=\"1\" class=\"dataframe\">\n",
       "  <thead>\n",
       "    <tr>\n",
       "      <th>symbol</th>\n",
       "      <th colspan=\"5\" halign=\"left\">MSFT</th>\n",
       "    </tr>\n",
       "    <tr>\n",
       "      <th></th>\n",
       "      <th>open</th>\n",
       "      <th>high</th>\n",
       "      <th>low</th>\n",
       "      <th>close</th>\n",
       "      <th>volume</th>\n",
       "    </tr>\n",
       "  </thead>\n",
       "  <tbody>\n",
       "    <tr>\n",
       "      <th>[2022-04-19 15:00:00, 2022-04-20 10:00:00)</th>\n",
       "      <td>284.279999</td>\n",
       "      <td>289.700012</td>\n",
       "      <td>284.049988</td>\n",
       "      <td>286.399994</td>\n",
       "      <td>8375341.0</td>\n",
       "    </tr>\n",
       "  </tbody>\n",
       "</table>\n",
       "</div>"
      ],
      "text/plain": [
       "symbol                                            MSFT              \\\n",
       "                                                  open        high   \n",
       "[2022-04-19 15:00:00, 2022-04-20 10:00:00)  284.279999  289.700012   \n",
       "\n",
       "symbol                                                                         \n",
       "                                                   low       close     volume  \n",
       "[2022-04-19 15:00:00, 2022-04-20 10:00:00)  284.049988  286.399994  8375341.0  "
      ]
     },
     "execution_count": 49,
     "metadata": {},
     "output_type": "execute_result"
    }
   ],
   "source": [
    "df_wb_90.iloc[[3]]"
   ]
  },
  {
   "cell_type": "markdown",
   "metadata": {},
   "source": [
    "This indice runs from 15:00 in the first session through to 10:00 in the second session. This is a huge interval in absolute terms, some 19 hours, when the interval was for only 90 minutes."
   ]
  },
  {
   "cell_type": "code",
   "execution_count": 50,
   "metadata": {},
   "outputs": [
    {
     "data": {
      "text/plain": [
       "0 days 01:30:00    7\n",
       "0 days 19:00:00    1\n",
       "dtype: int64"
      ]
     },
     "execution_count": 50,
     "metadata": {},
     "output_type": "execute_result"
    }
   ],
   "source": [
    "df_wb_90.pt.indices_length"
   ]
  },
  {
   "cell_type": "markdown",
   "metadata": {},
   "source": [
    "It's a massive partial trading indice that includes the full non-trading period between the first session's close and the second session's open."
   ]
  },
  {
   "cell_type": "code",
   "execution_count": 51,
   "metadata": {},
   "outputs": [
    {
     "data": {
      "text/plain": [
       "{Interval('2022-04-19 15:00:00', '2022-04-20 10:00:00', closed='left'): IntervalIndex([[2022-04-19 16:00:00, 2022-04-20 09:29:00)], dtype='interval[datetime64[ns, America/New_York], left]')}"
      ]
     },
     "execution_count": 51,
     "metadata": {},
     "output_type": "execute_result"
    }
   ],
   "source": [
    "df_wb_90.pt.indices_partial_trading_info(xnys)"
   ]
  },
  {
   "cell_type": "markdown",
   "metadata": {},
   "source": [
    "HOWEVER, this indice covers 90 trading minutes in the same way that ALL the other indices cover 90 trading minutes. In this case the 90 minutes comprise an hour from the first session, 15:00 through to the 16:00 close, and half an hour from the second session, from the 09:30 open through to 10:00.\n",
    "\n",
    "The .pt accessor methods that query trading minutes show this uniformity..."
   ]
  },
  {
   "cell_type": "code",
   "execution_count": 52,
   "metadata": {},
   "outputs": [
    {
     "data": {
      "text/plain": [
       "True"
      ]
     },
     "execution_count": 52,
     "metadata": {},
     "output_type": "execute_result"
    }
   ],
   "source": [
    "df_wb_90.pt.indices_have_regular_trading_minutes(xnys)"
   ]
  },
  {
   "cell_type": "markdown",
   "metadata": {},
   "source": [
    "If the table represents a constant number of trading minutes then the `.pt.trading_minutes_interval` will return that interval as a `TDInterval`."
   ]
  },
  {
   "cell_type": "code",
   "execution_count": 53,
   "metadata": {},
   "outputs": [
    {
     "data": {
      "text/plain": [
       "<TDInterval.T90: Timedelta('0 days 01:30:00')>"
      ]
     },
     "execution_count": 53,
     "metadata": {},
     "output_type": "execute_result"
    }
   ],
   "source": [
    "df_wb_90.pt.trading_minutes_interval(xnys)"
   ]
  },
  {
   "cell_type": "markdown",
   "metadata": {},
   "source": [
    "`.pt.indices_trading_minutes` shows that all the indices do indeed represent the same number of trading minutes."
   ]
  },
  {
   "cell_type": "code",
   "execution_count": 54,
   "metadata": {},
   "outputs": [
    {
     "data": {
      "text/plain": [
       "[2022-04-19 10:30:00, 2022-04-19 12:00:00)    90\n",
       "[2022-04-19 12:00:00, 2022-04-19 13:30:00)    90\n",
       "[2022-04-19 13:30:00, 2022-04-19 15:00:00)    90\n",
       "[2022-04-19 15:00:00, 2022-04-20 10:00:00)    90\n",
       "[2022-04-20 10:00:00, 2022-04-20 11:30:00)    90\n",
       "[2022-04-20 11:30:00, 2022-04-20 13:00:00)    90\n",
       "[2022-04-20 13:00:00, 2022-04-20 14:30:00)    90\n",
       "[2022-04-20 14:30:00, 2022-04-20 16:00:00)    90\n",
       "Name: trading_mins, dtype: int64"
      ]
     },
     "execution_count": 54,
     "metadata": {},
     "output_type": "execute_result"
    }
   ],
   "source": [
    "df_wb_90.pt.indices_trading_minutes(xnys)"
   ]
  },
  {
   "cell_type": "markdown",
   "metadata": {},
   "source": [
    "When a session has a break, anchoring \"workback\" can result in indices encompassing breaks in the same way that the indice above encompasses the gap between consecutive sessions."
   ]
  },
  {
   "cell_type": "code",
   "execution_count": 55,
   "metadata": {},
   "outputs": [
    {
     "data": {
      "text/html": [
       "<div>\n",
       "<style scoped>\n",
       "    .dataframe tbody tr th:only-of-type {\n",
       "        vertical-align: middle;\n",
       "    }\n",
       "\n",
       "    .dataframe tbody tr th {\n",
       "        vertical-align: top;\n",
       "    }\n",
       "\n",
       "    .dataframe thead tr th {\n",
       "        text-align: left;\n",
       "    }\n",
       "</style>\n",
       "<table border=\"1\" class=\"dataframe\">\n",
       "  <thead>\n",
       "    <tr>\n",
       "      <th>symbol</th>\n",
       "      <th colspan=\"5\" halign=\"left\">9988.HK</th>\n",
       "    </tr>\n",
       "    <tr>\n",
       "      <th></th>\n",
       "      <th>open</th>\n",
       "      <th>high</th>\n",
       "      <th>low</th>\n",
       "      <th>close</th>\n",
       "      <th>volume</th>\n",
       "    </tr>\n",
       "  </thead>\n",
       "  <tbody>\n",
       "    <tr>\n",
       "      <th>[2022-04-20 09:40:00, 2022-04-20 10:20:00)</th>\n",
       "      <td>91.400002</td>\n",
       "      <td>91.900002</td>\n",
       "      <td>90.750000</td>\n",
       "      <td>90.949997</td>\n",
       "      <td>2292926.0</td>\n",
       "    </tr>\n",
       "    <tr>\n",
       "      <th>[2022-04-20 10:20:00, 2022-04-20 11:00:00)</th>\n",
       "      <td>90.949997</td>\n",
       "      <td>91.250000</td>\n",
       "      <td>90.500000</td>\n",
       "      <td>91.099998</td>\n",
       "      <td>1875731.0</td>\n",
       "    </tr>\n",
       "    <tr>\n",
       "      <th>[2022-04-20 11:00:00, 2022-04-20 11:40:00)</th>\n",
       "      <td>91.099998</td>\n",
       "      <td>92.699997</td>\n",
       "      <td>91.050003</td>\n",
       "      <td>92.449997</td>\n",
       "      <td>2104439.0</td>\n",
       "    </tr>\n",
       "    <tr>\n",
       "      <th>[2022-04-20 11:40:00, 2022-04-20 13:20:00)</th>\n",
       "      <td>92.500000</td>\n",
       "      <td>92.949997</td>\n",
       "      <td>91.650002</td>\n",
       "      <td>91.699997</td>\n",
       "      <td>1815480.0</td>\n",
       "    </tr>\n",
       "    <tr>\n",
       "      <th>[2022-04-20 13:20:00, 2022-04-20 14:00:00)</th>\n",
       "      <td>91.650002</td>\n",
       "      <td>91.900002</td>\n",
       "      <td>91.050003</td>\n",
       "      <td>91.150002</td>\n",
       "      <td>1498966.0</td>\n",
       "    </tr>\n",
       "    <tr>\n",
       "      <th>[2022-04-20 14:00:00, 2022-04-20 14:40:00)</th>\n",
       "      <td>91.150002</td>\n",
       "      <td>91.349998</td>\n",
       "      <td>90.300003</td>\n",
       "      <td>90.650002</td>\n",
       "      <td>1826016.0</td>\n",
       "    </tr>\n",
       "    <tr>\n",
       "      <th>[2022-04-20 14:40:00, 2022-04-20 15:20:00)</th>\n",
       "      <td>90.599998</td>\n",
       "      <td>91.050003</td>\n",
       "      <td>90.550003</td>\n",
       "      <td>90.900002</td>\n",
       "      <td>1881642.0</td>\n",
       "    </tr>\n",
       "    <tr>\n",
       "      <th>[2022-04-20 15:20:00, 2022-04-20 16:00:00)</th>\n",
       "      <td>90.900002</td>\n",
       "      <td>91.300003</td>\n",
       "      <td>90.599998</td>\n",
       "      <td>90.650002</td>\n",
       "      <td>3159974.0</td>\n",
       "    </tr>\n",
       "  </tbody>\n",
       "</table>\n",
       "</div>"
      ],
      "text/plain": [
       "symbol                                        9988.HK                        \\\n",
       "                                                 open       high        low   \n",
       "[2022-04-20 09:40:00, 2022-04-20 10:20:00)  91.400002  91.900002  90.750000   \n",
       "[2022-04-20 10:20:00, 2022-04-20 11:00:00)  90.949997  91.250000  90.500000   \n",
       "[2022-04-20 11:00:00, 2022-04-20 11:40:00)  91.099998  92.699997  91.050003   \n",
       "[2022-04-20 11:40:00, 2022-04-20 13:20:00)  92.500000  92.949997  91.650002   \n",
       "[2022-04-20 13:20:00, 2022-04-20 14:00:00)  91.650002  91.900002  91.050003   \n",
       "[2022-04-20 14:00:00, 2022-04-20 14:40:00)  91.150002  91.349998  90.300003   \n",
       "[2022-04-20 14:40:00, 2022-04-20 15:20:00)  90.599998  91.050003  90.550003   \n",
       "[2022-04-20 15:20:00, 2022-04-20 16:00:00)  90.900002  91.300003  90.599998   \n",
       "\n",
       "symbol                                                            \n",
       "                                                close     volume  \n",
       "[2022-04-20 09:40:00, 2022-04-20 10:20:00)  90.949997  2292926.0  \n",
       "[2022-04-20 10:20:00, 2022-04-20 11:00:00)  91.099998  1875731.0  \n",
       "[2022-04-20 11:00:00, 2022-04-20 11:40:00)  92.449997  2104439.0  \n",
       "[2022-04-20 11:40:00, 2022-04-20 13:20:00)  91.699997  1815480.0  \n",
       "[2022-04-20 13:20:00, 2022-04-20 14:00:00)  91.150002  1498966.0  \n",
       "[2022-04-20 14:00:00, 2022-04-20 14:40:00)  90.650002  1826016.0  \n",
       "[2022-04-20 14:40:00, 2022-04-20 15:20:00)  90.900002  1881642.0  \n",
       "[2022-04-20 15:20:00, 2022-04-20 16:00:00)  90.650002  3159974.0  "
      ]
     },
     "execution_count": 55,
     "metadata": {},
     "output_type": "execute_result"
    }
   ],
   "source": [
    "df_wb_40_hk = prices_hk.get(\"40T\", session, session, anchor=\"workback\")\n",
    "df_wb_40_hk"
   ]
  },
  {
   "cell_type": "markdown",
   "metadata": {},
   "source": [
    "`.pt.indices_partial_trading_info` can be used here to identify the interval that encompassed the break."
   ]
  },
  {
   "cell_type": "code",
   "execution_count": 56,
   "metadata": {},
   "outputs": [
    {
     "data": {
      "text/plain": [
       "{Interval('2022-04-20 11:40:00', '2022-04-20 13:20:00', closed='left'): IntervalIndex([[2022-04-20 12:00:00, 2022-04-20 12:59:00)], dtype='interval[datetime64[ns, Asia/Hong_Kong], left]')}"
      ]
     },
     "execution_count": 56,
     "metadata": {},
     "output_type": "execute_result"
    }
   ],
   "source": [
    "df_wb_40_hk.pt.indices_partial_trading_info(xhkg)"
   ]
  },
  {
   "cell_type": "markdown",
   "metadata": {},
   "source": [
    "Also note that the first indice above does not cover the first session open (09:30). Doing so would require:\n",
    "* either the first indice to comprise only 10 minute of data, i.e. fewer trading minutes than the requested `interval`.\n",
    "* or the first indice to have a left side prior to requested `start` (in this case the session start). In accordance with the Golder Rule, price data is never included for periods outside of `start` or `end`."
   ]
  },
  {
   "cell_type": "markdown",
   "metadata": {},
   "source": [
    "\"workback\" is uesful for **ensuring that prices end on a specific timestamp**."
   ]
  },
  {
   "cell_type": "code",
   "execution_count": 57,
   "metadata": {},
   "outputs": [
    {
     "data": {
      "text/plain": [
       "Timestamp('2022-04-19 15:17:00-0400', tz='America/New_York')"
      ]
     },
     "execution_count": 57,
     "metadata": {},
     "output_type": "execute_result"
    }
   ],
   "source": [
    "# get a specific timestamp\n",
    "end = xnys.session_close(start_session) - pd.Timedelta(43, \"T\")\n",
    "end.tz_convert(prices.tz_default)"
   ]
  },
  {
   "cell_type": "code",
   "execution_count": 58,
   "metadata": {},
   "outputs": [
    {
     "data": {
      "text/html": [
       "<div>\n",
       "<style scoped>\n",
       "    .dataframe tbody tr th:only-of-type {\n",
       "        vertical-align: middle;\n",
       "    }\n",
       "\n",
       "    .dataframe tbody tr th {\n",
       "        vertical-align: top;\n",
       "    }\n",
       "\n",
       "    .dataframe thead tr th {\n",
       "        text-align: left;\n",
       "    }\n",
       "</style>\n",
       "<table border=\"1\" class=\"dataframe\">\n",
       "  <thead>\n",
       "    <tr>\n",
       "      <th>symbol</th>\n",
       "      <th colspan=\"5\" halign=\"left\">MSFT</th>\n",
       "    </tr>\n",
       "    <tr>\n",
       "      <th></th>\n",
       "      <th>open</th>\n",
       "      <th>high</th>\n",
       "      <th>low</th>\n",
       "      <th>close</th>\n",
       "      <th>volume</th>\n",
       "    </tr>\n",
       "  </thead>\n",
       "  <tbody>\n",
       "    <tr>\n",
       "      <th>[2022-04-19 11:17:00, 2022-04-19 11:47:00)</th>\n",
       "      <td>283.980011</td>\n",
       "      <td>284.600006</td>\n",
       "      <td>283.600006</td>\n",
       "      <td>284.429993</td>\n",
       "      <td>1020456.0</td>\n",
       "    </tr>\n",
       "    <tr>\n",
       "      <th>[2022-04-19 11:47:00, 2022-04-19 12:17:00)</th>\n",
       "      <td>284.440002</td>\n",
       "      <td>284.820007</td>\n",
       "      <td>283.690002</td>\n",
       "      <td>283.924988</td>\n",
       "      <td>760348.0</td>\n",
       "    </tr>\n",
       "    <tr>\n",
       "      <th>[2022-04-19 12:17:00, 2022-04-19 12:47:00)</th>\n",
       "      <td>283.910004</td>\n",
       "      <td>283.964996</td>\n",
       "      <td>283.290009</td>\n",
       "      <td>283.619995</td>\n",
       "      <td>728610.0</td>\n",
       "    </tr>\n",
       "    <tr>\n",
       "      <th>[2022-04-19 12:47:00, 2022-04-19 13:17:00)</th>\n",
       "      <td>283.609985</td>\n",
       "      <td>284.059998</td>\n",
       "      <td>283.320007</td>\n",
       "      <td>283.640106</td>\n",
       "      <td>782565.0</td>\n",
       "    </tr>\n",
       "    <tr>\n",
       "      <th>[2022-04-19 13:17:00, 2022-04-19 13:47:00)</th>\n",
       "      <td>283.667603</td>\n",
       "      <td>283.920013</td>\n",
       "      <td>282.980011</td>\n",
       "      <td>283.204010</td>\n",
       "      <td>875449.0</td>\n",
       "    </tr>\n",
       "    <tr>\n",
       "      <th>[2022-04-19 13:47:00, 2022-04-19 14:17:00)</th>\n",
       "      <td>283.200012</td>\n",
       "      <td>284.019989</td>\n",
       "      <td>282.970001</td>\n",
       "      <td>283.290009</td>\n",
       "      <td>1150876.0</td>\n",
       "    </tr>\n",
       "    <tr>\n",
       "      <th>[2022-04-19 14:17:00, 2022-04-19 14:47:00)</th>\n",
       "      <td>283.299988</td>\n",
       "      <td>283.859985</td>\n",
       "      <td>282.910004</td>\n",
       "      <td>283.774994</td>\n",
       "      <td>874043.0</td>\n",
       "    </tr>\n",
       "    <tr>\n",
       "      <th>[2022-04-19 14:47:00, 2022-04-19 15:17:00)</th>\n",
       "      <td>283.790009</td>\n",
       "      <td>285.369995</td>\n",
       "      <td>283.670013</td>\n",
       "      <td>285.350006</td>\n",
       "      <td>1046369.0</td>\n",
       "    </tr>\n",
       "  </tbody>\n",
       "</table>\n",
       "</div>"
      ],
      "text/plain": [
       "symbol                                            MSFT              \\\n",
       "                                                  open        high   \n",
       "[2022-04-19 11:17:00, 2022-04-19 11:47:00)  283.980011  284.600006   \n",
       "[2022-04-19 11:47:00, 2022-04-19 12:17:00)  284.440002  284.820007   \n",
       "[2022-04-19 12:17:00, 2022-04-19 12:47:00)  283.910004  283.964996   \n",
       "[2022-04-19 12:47:00, 2022-04-19 13:17:00)  283.609985  284.059998   \n",
       "[2022-04-19 13:17:00, 2022-04-19 13:47:00)  283.667603  283.920013   \n",
       "[2022-04-19 13:47:00, 2022-04-19 14:17:00)  283.200012  284.019989   \n",
       "[2022-04-19 14:17:00, 2022-04-19 14:47:00)  283.299988  283.859985   \n",
       "[2022-04-19 14:47:00, 2022-04-19 15:17:00)  283.790009  285.369995   \n",
       "\n",
       "symbol                                                                         \n",
       "                                                   low       close     volume  \n",
       "[2022-04-19 11:17:00, 2022-04-19 11:47:00)  283.600006  284.429993  1020456.0  \n",
       "[2022-04-19 11:47:00, 2022-04-19 12:17:00)  283.690002  283.924988   760348.0  \n",
       "[2022-04-19 12:17:00, 2022-04-19 12:47:00)  283.290009  283.619995   728610.0  \n",
       "[2022-04-19 12:47:00, 2022-04-19 13:17:00)  283.320007  283.640106   782565.0  \n",
       "[2022-04-19 13:17:00, 2022-04-19 13:47:00)  282.980011  283.204010   875449.0  \n",
       "[2022-04-19 13:47:00, 2022-04-19 14:17:00)  282.970001  283.290009  1150876.0  \n",
       "[2022-04-19 14:17:00, 2022-04-19 14:47:00)  282.910004  283.774994   874043.0  \n",
       "[2022-04-19 14:47:00, 2022-04-19 15:17:00)  283.670013  285.350006  1046369.0  "
      ]
     },
     "execution_count": 58,
     "metadata": {},
     "output_type": "execute_result"
    }
   ],
   "source": [
    "prices.get(\"30T\", end=end, hours=4, anchor=\"workback\")"
   ]
  },
  {
   "cell_type": "markdown",
   "metadata": {},
   "source": [
    "Compare the above with the output if anchor is \"open\""
   ]
  },
  {
   "cell_type": "code",
   "execution_count": 59,
   "metadata": {},
   "outputs": [
    {
     "data": {
      "text/html": [
       "<div>\n",
       "<style scoped>\n",
       "    .dataframe tbody tr th:only-of-type {\n",
       "        vertical-align: middle;\n",
       "    }\n",
       "\n",
       "    .dataframe tbody tr th {\n",
       "        vertical-align: top;\n",
       "    }\n",
       "\n",
       "    .dataframe thead tr th {\n",
       "        text-align: left;\n",
       "    }\n",
       "</style>\n",
       "<table border=\"1\" class=\"dataframe\">\n",
       "  <thead>\n",
       "    <tr>\n",
       "      <th>symbol</th>\n",
       "      <th colspan=\"5\" halign=\"left\">MSFT</th>\n",
       "    </tr>\n",
       "    <tr>\n",
       "      <th></th>\n",
       "      <th>open</th>\n",
       "      <th>high</th>\n",
       "      <th>low</th>\n",
       "      <th>close</th>\n",
       "      <th>volume</th>\n",
       "    </tr>\n",
       "  </thead>\n",
       "  <tbody>\n",
       "    <tr>\n",
       "      <th>[2022-04-19 11:00:00, 2022-04-19 11:30:00)</th>\n",
       "      <td>283.880005</td>\n",
       "      <td>284.662201</td>\n",
       "      <td>283.600006</td>\n",
       "      <td>284.420013</td>\n",
       "      <td>1236148.0</td>\n",
       "    </tr>\n",
       "    <tr>\n",
       "      <th>[2022-04-19 11:30:00, 2022-04-19 12:00:00)</th>\n",
       "      <td>284.410004</td>\n",
       "      <td>284.820007</td>\n",
       "      <td>283.899994</td>\n",
       "      <td>284.359985</td>\n",
       "      <td>838443.0</td>\n",
       "    </tr>\n",
       "    <tr>\n",
       "      <th>[2022-04-19 12:00:00, 2022-04-19 12:30:00)</th>\n",
       "      <td>284.269989</td>\n",
       "      <td>284.269989</td>\n",
       "      <td>283.519989</td>\n",
       "      <td>283.587799</td>\n",
       "      <td>699286.0</td>\n",
       "    </tr>\n",
       "    <tr>\n",
       "      <th>[2022-04-19 12:30:00, 2022-04-19 13:00:00)</th>\n",
       "      <td>283.600006</td>\n",
       "      <td>283.989990</td>\n",
       "      <td>283.290009</td>\n",
       "      <td>283.809998</td>\n",
       "      <td>810317.0</td>\n",
       "    </tr>\n",
       "    <tr>\n",
       "      <th>[2022-04-19 13:00:00, 2022-04-19 13:30:00)</th>\n",
       "      <td>283.780304</td>\n",
       "      <td>284.059998</td>\n",
       "      <td>283.149994</td>\n",
       "      <td>283.200012</td>\n",
       "      <td>788386.0</td>\n",
       "    </tr>\n",
       "    <tr>\n",
       "      <th>[2022-04-19 13:30:00, 2022-04-19 14:00:00)</th>\n",
       "      <td>283.179993</td>\n",
       "      <td>284.019989</td>\n",
       "      <td>282.980011</td>\n",
       "      <td>283.549988</td>\n",
       "      <td>1007906.0</td>\n",
       "    </tr>\n",
       "    <tr>\n",
       "      <th>[2022-04-19 14:00:00, 2022-04-19 14:30:00)</th>\n",
       "      <td>283.545013</td>\n",
       "      <td>283.839996</td>\n",
       "      <td>282.910004</td>\n",
       "      <td>283.519989</td>\n",
       "      <td>967876.0</td>\n",
       "    </tr>\n",
       "    <tr>\n",
       "      <th>[2022-04-19 14:30:00, 2022-04-19 15:00:00)</th>\n",
       "      <td>283.519989</td>\n",
       "      <td>284.359985</td>\n",
       "      <td>283.179993</td>\n",
       "      <td>284.260010</td>\n",
       "      <td>878248.0</td>\n",
       "    </tr>\n",
       "  </tbody>\n",
       "</table>\n",
       "</div>"
      ],
      "text/plain": [
       "symbol                                            MSFT              \\\n",
       "                                                  open        high   \n",
       "[2022-04-19 11:00:00, 2022-04-19 11:30:00)  283.880005  284.662201   \n",
       "[2022-04-19 11:30:00, 2022-04-19 12:00:00)  284.410004  284.820007   \n",
       "[2022-04-19 12:00:00, 2022-04-19 12:30:00)  284.269989  284.269989   \n",
       "[2022-04-19 12:30:00, 2022-04-19 13:00:00)  283.600006  283.989990   \n",
       "[2022-04-19 13:00:00, 2022-04-19 13:30:00)  283.780304  284.059998   \n",
       "[2022-04-19 13:30:00, 2022-04-19 14:00:00)  283.179993  284.019989   \n",
       "[2022-04-19 14:00:00, 2022-04-19 14:30:00)  283.545013  283.839996   \n",
       "[2022-04-19 14:30:00, 2022-04-19 15:00:00)  283.519989  284.359985   \n",
       "\n",
       "symbol                                                                         \n",
       "                                                   low       close     volume  \n",
       "[2022-04-19 11:00:00, 2022-04-19 11:30:00)  283.600006  284.420013  1236148.0  \n",
       "[2022-04-19 11:30:00, 2022-04-19 12:00:00)  283.899994  284.359985   838443.0  \n",
       "[2022-04-19 12:00:00, 2022-04-19 12:30:00)  283.519989  283.587799   699286.0  \n",
       "[2022-04-19 12:30:00, 2022-04-19 13:00:00)  283.290009  283.809998   810317.0  \n",
       "[2022-04-19 13:00:00, 2022-04-19 13:30:00)  283.149994  283.200012   788386.0  \n",
       "[2022-04-19 13:30:00, 2022-04-19 14:00:00)  282.980011  283.549988  1007906.0  \n",
       "[2022-04-19 14:00:00, 2022-04-19 14:30:00)  282.910004  283.519989   967876.0  \n",
       "[2022-04-19 14:30:00, 2022-04-19 15:00:00)  283.179993  284.260010   878248.0  "
      ]
     },
     "execution_count": 59,
     "metadata": {},
     "output_type": "execute_result"
    }
   ],
   "source": [
    "df = prices.get(\"30T\", end=end, hours=4, anchor=\"open\")\n",
    "df"
   ]
  },
  {
   "cell_type": "markdown",
   "metadata": {},
   "source": [
    "When anchor is \"open\" the last indice falls short of the required `end` as the indices are restricted to being anchored off the session open. In contrast \"workback\" allows for data to be included all the way up to `end`, making the price at `end` available..."
   ]
  },
  {
   "cell_type": "code",
   "execution_count": 60,
   "metadata": {},
   "outputs": [
    {
     "data": {
      "text/plain": [
       "284.260009765625"
      ]
     },
     "execution_count": 60,
     "metadata": {},
     "output_type": "execute_result"
    }
   ],
   "source": [
    "df.iloc[-1][(\"MSFT\", \"close\")]"
   ]
  },
  {
   "cell_type": "markdown",
   "metadata": {},
   "source": [
    "Last point, `force` cannot be passed when anchor is \"workback\" - which would defeat the object of having each interval representing the same number of trading minutes."
   ]
  },
  {
   "cell_type": "markdown",
   "metadata": {},
   "source": [
    "Take this away...\n",
    "\n",
    "When the anchor is \"workback\":\n",
    "* the right of the last indice will align with the period end.\n",
    "* **all indices will cover the same number of trading minutes** (as `interval`).\n",
    "* **non-tading periods between (sub)sessions will be included within indices** whenever the indices do not otherwise align with the sub(session) open.\n",
    "\n",
    "So, is it better to anchor prices on the \"open\" or \"workback\"? Depends what you're trying to do. `market_prices` just tries to make useful options available."
   ]
  },
  {
   "cell_type": "markdown",
   "metadata": {},
   "source": [
    "## Multiple calendars"
   ]
  },
  {
   "cell_type": "markdown",
   "metadata": {},
   "source": [
    "### `anchor` \"open\" with multiple calendars"
   ]
  },
  {
   "cell_type": "markdown",
   "metadata": {},
   "source": [
    "When symbols are associated with multiple calendars (see [prices](./prices.ipynb) tutorial) prices anchored \"open\" will be anchored to the sessions' opens of the calendar associated with the lead symbol. Consider the following prices for Microsoft, listed in New York, and AstraZeneca, listed in London."
   ]
  },
  {
   "cell_type": "code",
   "execution_count": 61,
   "metadata": {},
   "outputs": [
    {
     "name": "stdout",
     "output_type": "stream",
     "text": [
      "start_session=Timestamp('2022-04-19 00:00:00')\n",
      "end_session=Timestamp('2022-04-20 00:00:00')\n",
      "\n"
     ]
    },
    {
     "data": {
      "text/html": [
       "<div>\n",
       "<style scoped>\n",
       "    .dataframe tbody tr th:only-of-type {\n",
       "        vertical-align: middle;\n",
       "    }\n",
       "\n",
       "    .dataframe tbody tr th {\n",
       "        vertical-align: top;\n",
       "    }\n",
       "\n",
       "    .dataframe thead tr th {\n",
       "        text-align: left;\n",
       "    }\n",
       "</style>\n",
       "<table border=\"1\" class=\"dataframe\">\n",
       "  <thead>\n",
       "    <tr>\n",
       "      <th>symbol</th>\n",
       "      <th colspan=\"5\" halign=\"left\">MSFT</th>\n",
       "      <th colspan=\"5\" halign=\"left\">AZN.L</th>\n",
       "    </tr>\n",
       "    <tr>\n",
       "      <th></th>\n",
       "      <th>open</th>\n",
       "      <th>high</th>\n",
       "      <th>low</th>\n",
       "      <th>close</th>\n",
       "      <th>volume</th>\n",
       "      <th>open</th>\n",
       "      <th>high</th>\n",
       "      <th>low</th>\n",
       "      <th>close</th>\n",
       "      <th>volume</th>\n",
       "    </tr>\n",
       "  </thead>\n",
       "  <tbody>\n",
       "    <tr>\n",
       "      <th>[2022-04-19 08:00:00, 2022-04-19 09:00:00)</th>\n",
       "      <td>NaN</td>\n",
       "      <td>NaN</td>\n",
       "      <td>NaN</td>\n",
       "      <td>NaN</td>\n",
       "      <td>NaN</td>\n",
       "      <td>10452.000000</td>\n",
       "      <td>10550.00000</td>\n",
       "      <td>10430.0</td>\n",
       "      <td>10490.000000</td>\n",
       "      <td>118320.0</td>\n",
       "    </tr>\n",
       "    <tr>\n",
       "      <th>[2022-04-19 09:00:00, 2022-04-19 10:00:00)</th>\n",
       "      <td>NaN</td>\n",
       "      <td>NaN</td>\n",
       "      <td>NaN</td>\n",
       "      <td>NaN</td>\n",
       "      <td>NaN</td>\n",
       "      <td>10490.000000</td>\n",
       "      <td>10519.78418</td>\n",
       "      <td>10454.0</td>\n",
       "      <td>10458.839844</td>\n",
       "      <td>77431.0</td>\n",
       "    </tr>\n",
       "    <tr>\n",
       "      <th>[2022-04-19 10:00:00, 2022-04-19 11:00:00)</th>\n",
       "      <td>NaN</td>\n",
       "      <td>NaN</td>\n",
       "      <td>NaN</td>\n",
       "      <td>NaN</td>\n",
       "      <td>NaN</td>\n",
       "      <td>10458.000000</td>\n",
       "      <td>10490.00000</td>\n",
       "      <td>10428.0</td>\n",
       "      <td>10472.000000</td>\n",
       "      <td>90152.0</td>\n",
       "    </tr>\n",
       "    <tr>\n",
       "      <th>[2022-04-19 11:00:00, 2022-04-19 12:00:00)</th>\n",
       "      <td>NaN</td>\n",
       "      <td>NaN</td>\n",
       "      <td>NaN</td>\n",
       "      <td>NaN</td>\n",
       "      <td>NaN</td>\n",
       "      <td>10472.000000</td>\n",
       "      <td>10530.00000</td>\n",
       "      <td>10466.0</td>\n",
       "      <td>10502.000000</td>\n",
       "      <td>538560.0</td>\n",
       "    </tr>\n",
       "    <tr>\n",
       "      <th>[2022-04-19 12:00:00, 2022-04-19 13:00:00)</th>\n",
       "      <td>NaN</td>\n",
       "      <td>NaN</td>\n",
       "      <td>NaN</td>\n",
       "      <td>NaN</td>\n",
       "      <td>NaN</td>\n",
       "      <td>10500.000000</td>\n",
       "      <td>10530.00000</td>\n",
       "      <td>10478.0</td>\n",
       "      <td>10514.000000</td>\n",
       "      <td>84909.0</td>\n",
       "    </tr>\n",
       "    <tr>\n",
       "      <th>[2022-04-19 13:00:00, 2022-04-19 14:00:00)</th>\n",
       "      <td>NaN</td>\n",
       "      <td>NaN</td>\n",
       "      <td>NaN</td>\n",
       "      <td>NaN</td>\n",
       "      <td>NaN</td>\n",
       "      <td>10512.000000</td>\n",
       "      <td>10520.00000</td>\n",
       "      <td>10488.0</td>\n",
       "      <td>10514.000000</td>\n",
       "      <td>42506.0</td>\n",
       "    </tr>\n",
       "    <tr>\n",
       "      <th>[2022-04-19 14:00:00, 2022-04-19 15:00:00)</th>\n",
       "      <td>279.720001</td>\n",
       "      <td>282.420013</td>\n",
       "      <td>278.410004</td>\n",
       "      <td>282.420013</td>\n",
       "      <td>3538466.0</td>\n",
       "      <td>10514.000000</td>\n",
       "      <td>10544.00000</td>\n",
       "      <td>10484.0</td>\n",
       "      <td>10518.000000</td>\n",
       "      <td>147069.0</td>\n",
       "    </tr>\n",
       "    <tr>\n",
       "      <th>[2022-04-19 15:00:00, 2022-04-19 16:00:00)</th>\n",
       "      <td>282.399994</td>\n",
       "      <td>284.750000</td>\n",
       "      <td>282.059998</td>\n",
       "      <td>283.929993</td>\n",
       "      <td>3012724.0</td>\n",
       "      <td>10522.000000</td>\n",
       "      <td>10582.00000</td>\n",
       "      <td>10506.0</td>\n",
       "      <td>10518.000000</td>\n",
       "      <td>982489.0</td>\n",
       "    </tr>\n",
       "    <tr>\n",
       "      <th>[2022-04-19 16:00:00, 2022-04-19 17:00:00)</th>\n",
       "      <td>283.880005</td>\n",
       "      <td>284.820007</td>\n",
       "      <td>283.600006</td>\n",
       "      <td>284.359985</td>\n",
       "      <td>2074591.0</td>\n",
       "      <td>10520.000000</td>\n",
       "      <td>10530.00000</td>\n",
       "      <td>10502.0</td>\n",
       "      <td>10506.000000</td>\n",
       "      <td>100242.0</td>\n",
       "    </tr>\n",
       "    <tr>\n",
       "      <th>[2022-04-19 17:00:00, 2022-04-19 18:00:00)</th>\n",
       "      <td>284.269989</td>\n",
       "      <td>284.269989</td>\n",
       "      <td>283.290009</td>\n",
       "      <td>283.809998</td>\n",
       "      <td>1509603.0</td>\n",
       "      <td>NaN</td>\n",
       "      <td>NaN</td>\n",
       "      <td>NaN</td>\n",
       "      <td>NaN</td>\n",
       "      <td>NaN</td>\n",
       "    </tr>\n",
       "    <tr>\n",
       "      <th>[2022-04-19 18:00:00, 2022-04-19 19:00:00)</th>\n",
       "      <td>283.780304</td>\n",
       "      <td>284.059998</td>\n",
       "      <td>282.980011</td>\n",
       "      <td>283.549988</td>\n",
       "      <td>1796292.0</td>\n",
       "      <td>NaN</td>\n",
       "      <td>NaN</td>\n",
       "      <td>NaN</td>\n",
       "      <td>NaN</td>\n",
       "      <td>NaN</td>\n",
       "    </tr>\n",
       "    <tr>\n",
       "      <th>[2022-04-19 19:00:00, 2022-04-19 20:00:00)</th>\n",
       "      <td>283.545013</td>\n",
       "      <td>284.359985</td>\n",
       "      <td>282.910004</td>\n",
       "      <td>284.260010</td>\n",
       "      <td>1846124.0</td>\n",
       "      <td>NaN</td>\n",
       "      <td>NaN</td>\n",
       "      <td>NaN</td>\n",
       "      <td>NaN</td>\n",
       "      <td>NaN</td>\n",
       "    </tr>\n",
       "    <tr>\n",
       "      <th>[2022-04-19 20:00:00, 2022-04-19 21:00:00)</th>\n",
       "      <td>284.279999</td>\n",
       "      <td>286.170013</td>\n",
       "      <td>284.049988</td>\n",
       "      <td>285.380005</td>\n",
       "      <td>4564482.0</td>\n",
       "      <td>NaN</td>\n",
       "      <td>NaN</td>\n",
       "      <td>NaN</td>\n",
       "      <td>NaN</td>\n",
       "      <td>NaN</td>\n",
       "    </tr>\n",
       "    <tr>\n",
       "      <th>[2022-04-20 08:00:00, 2022-04-20 09:00:00)</th>\n",
       "      <td>NaN</td>\n",
       "      <td>NaN</td>\n",
       "      <td>NaN</td>\n",
       "      <td>NaN</td>\n",
       "      <td>NaN</td>\n",
       "      <td>10394.000000</td>\n",
       "      <td>10482.00000</td>\n",
       "      <td>10392.0</td>\n",
       "      <td>10444.000000</td>\n",
       "      <td>119879.0</td>\n",
       "    </tr>\n",
       "    <tr>\n",
       "      <th>[2022-04-20 09:00:00, 2022-04-20 10:00:00)</th>\n",
       "      <td>NaN</td>\n",
       "      <td>NaN</td>\n",
       "      <td>NaN</td>\n",
       "      <td>NaN</td>\n",
       "      <td>NaN</td>\n",
       "      <td>10448.000000</td>\n",
       "      <td>10480.00000</td>\n",
       "      <td>10432.0</td>\n",
       "      <td>10448.000000</td>\n",
       "      <td>97362.0</td>\n",
       "    </tr>\n",
       "    <tr>\n",
       "      <th>[2022-04-20 10:00:00, 2022-04-20 11:00:00)</th>\n",
       "      <td>NaN</td>\n",
       "      <td>NaN</td>\n",
       "      <td>NaN</td>\n",
       "      <td>NaN</td>\n",
       "      <td>NaN</td>\n",
       "      <td>10450.000000</td>\n",
       "      <td>10496.00000</td>\n",
       "      <td>10394.0</td>\n",
       "      <td>10488.000000</td>\n",
       "      <td>1079949.0</td>\n",
       "    </tr>\n",
       "    <tr>\n",
       "      <th>[2022-04-20 11:00:00, 2022-04-20 12:00:00)</th>\n",
       "      <td>NaN</td>\n",
       "      <td>NaN</td>\n",
       "      <td>NaN</td>\n",
       "      <td>NaN</td>\n",
       "      <td>NaN</td>\n",
       "      <td>10488.000000</td>\n",
       "      <td>10494.00000</td>\n",
       "      <td>10394.0</td>\n",
       "      <td>10456.000000</td>\n",
       "      <td>92050.0</td>\n",
       "    </tr>\n",
       "    <tr>\n",
       "      <th>[2022-04-20 12:00:00, 2022-04-20 13:00:00)</th>\n",
       "      <td>NaN</td>\n",
       "      <td>NaN</td>\n",
       "      <td>NaN</td>\n",
       "      <td>NaN</td>\n",
       "      <td>NaN</td>\n",
       "      <td>10456.908203</td>\n",
       "      <td>10458.00000</td>\n",
       "      <td>10418.0</td>\n",
       "      <td>10436.900391</td>\n",
       "      <td>60382.0</td>\n",
       "    </tr>\n",
       "    <tr>\n",
       "      <th>[2022-04-20 13:00:00, 2022-04-20 14:00:00)</th>\n",
       "      <td>NaN</td>\n",
       "      <td>NaN</td>\n",
       "      <td>NaN</td>\n",
       "      <td>NaN</td>\n",
       "      <td>NaN</td>\n",
       "      <td>10436.000000</td>\n",
       "      <td>10450.00000</td>\n",
       "      <td>10412.0</td>\n",
       "      <td>10442.000000</td>\n",
       "      <td>52245.0</td>\n",
       "    </tr>\n",
       "    <tr>\n",
       "      <th>[2022-04-20 14:00:00, 2022-04-20 15:00:00)</th>\n",
       "      <td>289.399994</td>\n",
       "      <td>289.700012</td>\n",
       "      <td>285.980011</td>\n",
       "      <td>286.399994</td>\n",
       "      <td>3810859.0</td>\n",
       "      <td>10444.000000</td>\n",
       "      <td>10446.00000</td>\n",
       "      <td>10392.0</td>\n",
       "      <td>10418.000000</td>\n",
       "      <td>598046.0</td>\n",
       "    </tr>\n",
       "    <tr>\n",
       "      <th>[2022-04-20 15:00:00, 2022-04-20 16:00:00)</th>\n",
       "      <td>286.380005</td>\n",
       "      <td>288.890015</td>\n",
       "      <td>285.799988</td>\n",
       "      <td>288.084991</td>\n",
       "      <td>3110928.0</td>\n",
       "      <td>10416.000000</td>\n",
       "      <td>10490.00000</td>\n",
       "      <td>10394.0</td>\n",
       "      <td>10458.000000</td>\n",
       "      <td>642820.0</td>\n",
       "    </tr>\n",
       "  </tbody>\n",
       "</table>\n",
       "</div>"
      ],
      "text/plain": [
       "symbol                                            MSFT              \\\n",
       "                                                  open        high   \n",
       "[2022-04-19 08:00:00, 2022-04-19 09:00:00)         NaN         NaN   \n",
       "[2022-04-19 09:00:00, 2022-04-19 10:00:00)         NaN         NaN   \n",
       "[2022-04-19 10:00:00, 2022-04-19 11:00:00)         NaN         NaN   \n",
       "[2022-04-19 11:00:00, 2022-04-19 12:00:00)         NaN         NaN   \n",
       "[2022-04-19 12:00:00, 2022-04-19 13:00:00)         NaN         NaN   \n",
       "[2022-04-19 13:00:00, 2022-04-19 14:00:00)         NaN         NaN   \n",
       "[2022-04-19 14:00:00, 2022-04-19 15:00:00)  279.720001  282.420013   \n",
       "[2022-04-19 15:00:00, 2022-04-19 16:00:00)  282.399994  284.750000   \n",
       "[2022-04-19 16:00:00, 2022-04-19 17:00:00)  283.880005  284.820007   \n",
       "[2022-04-19 17:00:00, 2022-04-19 18:00:00)  284.269989  284.269989   \n",
       "[2022-04-19 18:00:00, 2022-04-19 19:00:00)  283.780304  284.059998   \n",
       "[2022-04-19 19:00:00, 2022-04-19 20:00:00)  283.545013  284.359985   \n",
       "[2022-04-19 20:00:00, 2022-04-19 21:00:00)  284.279999  286.170013   \n",
       "[2022-04-20 08:00:00, 2022-04-20 09:00:00)         NaN         NaN   \n",
       "[2022-04-20 09:00:00, 2022-04-20 10:00:00)         NaN         NaN   \n",
       "[2022-04-20 10:00:00, 2022-04-20 11:00:00)         NaN         NaN   \n",
       "[2022-04-20 11:00:00, 2022-04-20 12:00:00)         NaN         NaN   \n",
       "[2022-04-20 12:00:00, 2022-04-20 13:00:00)         NaN         NaN   \n",
       "[2022-04-20 13:00:00, 2022-04-20 14:00:00)         NaN         NaN   \n",
       "[2022-04-20 14:00:00, 2022-04-20 15:00:00)  289.399994  289.700012   \n",
       "[2022-04-20 15:00:00, 2022-04-20 16:00:00)  286.380005  288.890015   \n",
       "\n",
       "symbol                                                                         \\\n",
       "                                                   low       close     volume   \n",
       "[2022-04-19 08:00:00, 2022-04-19 09:00:00)         NaN         NaN        NaN   \n",
       "[2022-04-19 09:00:00, 2022-04-19 10:00:00)         NaN         NaN        NaN   \n",
       "[2022-04-19 10:00:00, 2022-04-19 11:00:00)         NaN         NaN        NaN   \n",
       "[2022-04-19 11:00:00, 2022-04-19 12:00:00)         NaN         NaN        NaN   \n",
       "[2022-04-19 12:00:00, 2022-04-19 13:00:00)         NaN         NaN        NaN   \n",
       "[2022-04-19 13:00:00, 2022-04-19 14:00:00)         NaN         NaN        NaN   \n",
       "[2022-04-19 14:00:00, 2022-04-19 15:00:00)  278.410004  282.420013  3538466.0   \n",
       "[2022-04-19 15:00:00, 2022-04-19 16:00:00)  282.059998  283.929993  3012724.0   \n",
       "[2022-04-19 16:00:00, 2022-04-19 17:00:00)  283.600006  284.359985  2074591.0   \n",
       "[2022-04-19 17:00:00, 2022-04-19 18:00:00)  283.290009  283.809998  1509603.0   \n",
       "[2022-04-19 18:00:00, 2022-04-19 19:00:00)  282.980011  283.549988  1796292.0   \n",
       "[2022-04-19 19:00:00, 2022-04-19 20:00:00)  282.910004  284.260010  1846124.0   \n",
       "[2022-04-19 20:00:00, 2022-04-19 21:00:00)  284.049988  285.380005  4564482.0   \n",
       "[2022-04-20 08:00:00, 2022-04-20 09:00:00)         NaN         NaN        NaN   \n",
       "[2022-04-20 09:00:00, 2022-04-20 10:00:00)         NaN         NaN        NaN   \n",
       "[2022-04-20 10:00:00, 2022-04-20 11:00:00)         NaN         NaN        NaN   \n",
       "[2022-04-20 11:00:00, 2022-04-20 12:00:00)         NaN         NaN        NaN   \n",
       "[2022-04-20 12:00:00, 2022-04-20 13:00:00)         NaN         NaN        NaN   \n",
       "[2022-04-20 13:00:00, 2022-04-20 14:00:00)         NaN         NaN        NaN   \n",
       "[2022-04-20 14:00:00, 2022-04-20 15:00:00)  285.980011  286.399994  3810859.0   \n",
       "[2022-04-20 15:00:00, 2022-04-20 16:00:00)  285.799988  288.084991  3110928.0   \n",
       "\n",
       "symbol                                             AZN.L               \\\n",
       "                                                    open         high   \n",
       "[2022-04-19 08:00:00, 2022-04-19 09:00:00)  10452.000000  10550.00000   \n",
       "[2022-04-19 09:00:00, 2022-04-19 10:00:00)  10490.000000  10519.78418   \n",
       "[2022-04-19 10:00:00, 2022-04-19 11:00:00)  10458.000000  10490.00000   \n",
       "[2022-04-19 11:00:00, 2022-04-19 12:00:00)  10472.000000  10530.00000   \n",
       "[2022-04-19 12:00:00, 2022-04-19 13:00:00)  10500.000000  10530.00000   \n",
       "[2022-04-19 13:00:00, 2022-04-19 14:00:00)  10512.000000  10520.00000   \n",
       "[2022-04-19 14:00:00, 2022-04-19 15:00:00)  10514.000000  10544.00000   \n",
       "[2022-04-19 15:00:00, 2022-04-19 16:00:00)  10522.000000  10582.00000   \n",
       "[2022-04-19 16:00:00, 2022-04-19 17:00:00)  10520.000000  10530.00000   \n",
       "[2022-04-19 17:00:00, 2022-04-19 18:00:00)           NaN          NaN   \n",
       "[2022-04-19 18:00:00, 2022-04-19 19:00:00)           NaN          NaN   \n",
       "[2022-04-19 19:00:00, 2022-04-19 20:00:00)           NaN          NaN   \n",
       "[2022-04-19 20:00:00, 2022-04-19 21:00:00)           NaN          NaN   \n",
       "[2022-04-20 08:00:00, 2022-04-20 09:00:00)  10394.000000  10482.00000   \n",
       "[2022-04-20 09:00:00, 2022-04-20 10:00:00)  10448.000000  10480.00000   \n",
       "[2022-04-20 10:00:00, 2022-04-20 11:00:00)  10450.000000  10496.00000   \n",
       "[2022-04-20 11:00:00, 2022-04-20 12:00:00)  10488.000000  10494.00000   \n",
       "[2022-04-20 12:00:00, 2022-04-20 13:00:00)  10456.908203  10458.00000   \n",
       "[2022-04-20 13:00:00, 2022-04-20 14:00:00)  10436.000000  10450.00000   \n",
       "[2022-04-20 14:00:00, 2022-04-20 15:00:00)  10444.000000  10446.00000   \n",
       "[2022-04-20 15:00:00, 2022-04-20 16:00:00)  10416.000000  10490.00000   \n",
       "\n",
       "symbol                                                                        \n",
       "                                                low         close     volume  \n",
       "[2022-04-19 08:00:00, 2022-04-19 09:00:00)  10430.0  10490.000000   118320.0  \n",
       "[2022-04-19 09:00:00, 2022-04-19 10:00:00)  10454.0  10458.839844    77431.0  \n",
       "[2022-04-19 10:00:00, 2022-04-19 11:00:00)  10428.0  10472.000000    90152.0  \n",
       "[2022-04-19 11:00:00, 2022-04-19 12:00:00)  10466.0  10502.000000   538560.0  \n",
       "[2022-04-19 12:00:00, 2022-04-19 13:00:00)  10478.0  10514.000000    84909.0  \n",
       "[2022-04-19 13:00:00, 2022-04-19 14:00:00)  10488.0  10514.000000    42506.0  \n",
       "[2022-04-19 14:00:00, 2022-04-19 15:00:00)  10484.0  10518.000000   147069.0  \n",
       "[2022-04-19 15:00:00, 2022-04-19 16:00:00)  10506.0  10518.000000   982489.0  \n",
       "[2022-04-19 16:00:00, 2022-04-19 17:00:00)  10502.0  10506.000000   100242.0  \n",
       "[2022-04-19 17:00:00, 2022-04-19 18:00:00)      NaN           NaN        NaN  \n",
       "[2022-04-19 18:00:00, 2022-04-19 19:00:00)      NaN           NaN        NaN  \n",
       "[2022-04-19 19:00:00, 2022-04-19 20:00:00)      NaN           NaN        NaN  \n",
       "[2022-04-19 20:00:00, 2022-04-19 21:00:00)      NaN           NaN        NaN  \n",
       "[2022-04-20 08:00:00, 2022-04-20 09:00:00)  10392.0  10444.000000   119879.0  \n",
       "[2022-04-20 09:00:00, 2022-04-20 10:00:00)  10432.0  10448.000000    97362.0  \n",
       "[2022-04-20 10:00:00, 2022-04-20 11:00:00)  10394.0  10488.000000  1079949.0  \n",
       "[2022-04-20 11:00:00, 2022-04-20 12:00:00)  10394.0  10456.000000    92050.0  \n",
       "[2022-04-20 12:00:00, 2022-04-20 13:00:00)  10418.0  10436.900391    60382.0  \n",
       "[2022-04-20 13:00:00, 2022-04-20 14:00:00)  10412.0  10442.000000    52245.0  \n",
       "[2022-04-20 14:00:00, 2022-04-20 15:00:00)  10392.0  10418.000000   598046.0  \n",
       "[2022-04-20 15:00:00, 2022-04-20 16:00:00)  10394.0  10458.000000   642820.0  "
      ]
     },
     "execution_count": 61,
     "metadata": {},
     "output_type": "execute_result"
    }
   ],
   "source": [
    "prices_us_lon = PricesYahoo(\"MSFT AZN.L\")\n",
    "print(f\"{start_session=}\\n{end_session=}\\n\")  # for reference\n",
    "\n",
    "prices_us_lon.get(\"1H\", start_session, end_session, lead_symbol=\"AZN.L\")"
   ]
  },
  {
   "cell_type": "markdown",
   "metadata": {},
   "source": [
    "As AZN.L is the `lead_symbol` prices are anchored on the 08:00 London open (NB the output has defaulted to local London time). The New York Stock Exchange usually opens at 14:30 London time (13:30 over the few weeks that DST observance is not synchronised). The NYSE opens fall midway through an indice (usually the 14:00 - 15:00 indices, 13:00 - 14:00 indices if DST is not synchronised).\n",
    "\n",
    "If the same prices are requested with MSFT as the `lead_symbol` then each session's prices will instead be anchored on the New York opens."
   ]
  },
  {
   "cell_type": "code",
   "execution_count": 62,
   "metadata": {},
   "outputs": [
    {
     "data": {
      "text/html": [
       "<div>\n",
       "<style scoped>\n",
       "    .dataframe tbody tr th:only-of-type {\n",
       "        vertical-align: middle;\n",
       "    }\n",
       "\n",
       "    .dataframe tbody tr th {\n",
       "        vertical-align: top;\n",
       "    }\n",
       "\n",
       "    .dataframe thead tr th {\n",
       "        text-align: left;\n",
       "    }\n",
       "</style>\n",
       "<table border=\"1\" class=\"dataframe\">\n",
       "  <thead>\n",
       "    <tr>\n",
       "      <th>symbol</th>\n",
       "      <th colspan=\"5\" halign=\"left\">MSFT</th>\n",
       "      <th colspan=\"5\" halign=\"left\">AZN.L</th>\n",
       "    </tr>\n",
       "    <tr>\n",
       "      <th></th>\n",
       "      <th>open</th>\n",
       "      <th>high</th>\n",
       "      <th>low</th>\n",
       "      <th>close</th>\n",
       "      <th>volume</th>\n",
       "      <th>open</th>\n",
       "      <th>high</th>\n",
       "      <th>low</th>\n",
       "      <th>close</th>\n",
       "      <th>volume</th>\n",
       "    </tr>\n",
       "  </thead>\n",
       "  <tbody>\n",
       "    <tr>\n",
       "      <th>[2022-04-19 14:30:00, 2022-04-19 15:30:00)</th>\n",
       "      <td>279.720001</td>\n",
       "      <td>284.369385</td>\n",
       "      <td>278.410004</td>\n",
       "      <td>283.329987</td>\n",
       "      <td>5277096.0</td>\n",
       "      <td>10526.0</td>\n",
       "      <td>10580.0</td>\n",
       "      <td>10484.0</td>\n",
       "      <td>10580.000000</td>\n",
       "      <td>1020311.0</td>\n",
       "    </tr>\n",
       "    <tr>\n",
       "      <th>[2022-04-19 15:30:00, 2022-04-19 16:30:00)</th>\n",
       "      <td>283.359985</td>\n",
       "      <td>284.750000</td>\n",
       "      <td>283.230011</td>\n",
       "      <td>284.420013</td>\n",
       "      <td>2510242.0</td>\n",
       "      <td>10582.0</td>\n",
       "      <td>10582.0</td>\n",
       "      <td>10502.0</td>\n",
       "      <td>10506.000000</td>\n",
       "      <td>181770.0</td>\n",
       "    </tr>\n",
       "    <tr>\n",
       "      <th>[2022-04-19 16:30:00, 2022-04-19 17:30:00)</th>\n",
       "      <td>284.410004</td>\n",
       "      <td>284.820007</td>\n",
       "      <td>283.519989</td>\n",
       "      <td>283.587799</td>\n",
       "      <td>1537729.0</td>\n",
       "      <td>NaN</td>\n",
       "      <td>NaN</td>\n",
       "      <td>NaN</td>\n",
       "      <td>NaN</td>\n",
       "      <td>NaN</td>\n",
       "    </tr>\n",
       "    <tr>\n",
       "      <th>[2022-04-19 17:30:00, 2022-04-19 18:30:00)</th>\n",
       "      <td>283.600006</td>\n",
       "      <td>284.059998</td>\n",
       "      <td>283.149994</td>\n",
       "      <td>283.200012</td>\n",
       "      <td>1598703.0</td>\n",
       "      <td>NaN</td>\n",
       "      <td>NaN</td>\n",
       "      <td>NaN</td>\n",
       "      <td>NaN</td>\n",
       "      <td>NaN</td>\n",
       "    </tr>\n",
       "    <tr>\n",
       "      <th>[2022-04-19 18:30:00, 2022-04-19 19:30:00)</th>\n",
       "      <td>283.179993</td>\n",
       "      <td>284.019989</td>\n",
       "      <td>282.910004</td>\n",
       "      <td>283.519989</td>\n",
       "      <td>1975782.0</td>\n",
       "      <td>NaN</td>\n",
       "      <td>NaN</td>\n",
       "      <td>NaN</td>\n",
       "      <td>NaN</td>\n",
       "      <td>NaN</td>\n",
       "    </tr>\n",
       "    <tr>\n",
       "      <th>[2022-04-19 19:30:00, 2022-04-19 20:30:00)</th>\n",
       "      <td>283.519989</td>\n",
       "      <td>285.582092</td>\n",
       "      <td>283.179993</td>\n",
       "      <td>285.250000</td>\n",
       "      <td>2159844.0</td>\n",
       "      <td>NaN</td>\n",
       "      <td>NaN</td>\n",
       "      <td>NaN</td>\n",
       "      <td>NaN</td>\n",
       "      <td>NaN</td>\n",
       "    </tr>\n",
       "    <tr>\n",
       "      <th>[2022-04-19 20:30:00, 2022-04-19 21:30:00)</th>\n",
       "      <td>285.279999</td>\n",
       "      <td>286.170013</td>\n",
       "      <td>284.500000</td>\n",
       "      <td>285.380005</td>\n",
       "      <td>3282886.0</td>\n",
       "      <td>NaN</td>\n",
       "      <td>NaN</td>\n",
       "      <td>NaN</td>\n",
       "      <td>NaN</td>\n",
       "      <td>NaN</td>\n",
       "    </tr>\n",
       "    <tr>\n",
       "      <th>[2022-04-20 07:30:00, 2022-04-20 08:30:00)</th>\n",
       "      <td>NaN</td>\n",
       "      <td>NaN</td>\n",
       "      <td>NaN</td>\n",
       "      <td>NaN</td>\n",
       "      <td>NaN</td>\n",
       "      <td>10394.0</td>\n",
       "      <td>10482.0</td>\n",
       "      <td>10392.0</td>\n",
       "      <td>10418.000000</td>\n",
       "      <td>61124.0</td>\n",
       "    </tr>\n",
       "    <tr>\n",
       "      <th>[2022-04-20 08:30:00, 2022-04-20 09:30:00)</th>\n",
       "      <td>NaN</td>\n",
       "      <td>NaN</td>\n",
       "      <td>NaN</td>\n",
       "      <td>NaN</td>\n",
       "      <td>NaN</td>\n",
       "      <td>10416.0</td>\n",
       "      <td>10480.0</td>\n",
       "      <td>10410.0</td>\n",
       "      <td>10474.000000</td>\n",
       "      <td>104366.0</td>\n",
       "    </tr>\n",
       "    <tr>\n",
       "      <th>[2022-04-20 09:30:00, 2022-04-20 10:30:00)</th>\n",
       "      <td>NaN</td>\n",
       "      <td>NaN</td>\n",
       "      <td>NaN</td>\n",
       "      <td>NaN</td>\n",
       "      <td>NaN</td>\n",
       "      <td>10472.0</td>\n",
       "      <td>10484.0</td>\n",
       "      <td>10432.0</td>\n",
       "      <td>10472.000000</td>\n",
       "      <td>116116.0</td>\n",
       "    </tr>\n",
       "    <tr>\n",
       "      <th>[2022-04-20 10:30:00, 2022-04-20 11:30:00)</th>\n",
       "      <td>NaN</td>\n",
       "      <td>NaN</td>\n",
       "      <td>NaN</td>\n",
       "      <td>NaN</td>\n",
       "      <td>NaN</td>\n",
       "      <td>10476.0</td>\n",
       "      <td>10496.0</td>\n",
       "      <td>10394.0</td>\n",
       "      <td>10456.000000</td>\n",
       "      <td>1036083.0</td>\n",
       "    </tr>\n",
       "    <tr>\n",
       "      <th>[2022-04-20 11:30:00, 2022-04-20 12:30:00)</th>\n",
       "      <td>NaN</td>\n",
       "      <td>NaN</td>\n",
       "      <td>NaN</td>\n",
       "      <td>NaN</td>\n",
       "      <td>NaN</td>\n",
       "      <td>10454.0</td>\n",
       "      <td>10464.0</td>\n",
       "      <td>10394.0</td>\n",
       "      <td>10438.000000</td>\n",
       "      <td>87891.0</td>\n",
       "    </tr>\n",
       "    <tr>\n",
       "      <th>[2022-04-20 12:30:00, 2022-04-20 13:30:00)</th>\n",
       "      <td>NaN</td>\n",
       "      <td>NaN</td>\n",
       "      <td>NaN</td>\n",
       "      <td>NaN</td>\n",
       "      <td>NaN</td>\n",
       "      <td>10438.0</td>\n",
       "      <td>10450.0</td>\n",
       "      <td>10412.0</td>\n",
       "      <td>10428.908203</td>\n",
       "      <td>70868.0</td>\n",
       "    </tr>\n",
       "    <tr>\n",
       "      <th>[2022-04-20 13:30:00, 2022-04-20 14:30:00)</th>\n",
       "      <td>NaN</td>\n",
       "      <td>NaN</td>\n",
       "      <td>NaN</td>\n",
       "      <td>NaN</td>\n",
       "      <td>NaN</td>\n",
       "      <td>10432.0</td>\n",
       "      <td>10450.0</td>\n",
       "      <td>10394.0</td>\n",
       "      <td>10430.000000</td>\n",
       "      <td>492499.0</td>\n",
       "    </tr>\n",
       "    <tr>\n",
       "      <th>[2022-04-20 14:30:00, 2022-04-20 15:30:00)</th>\n",
       "      <td>289.399994</td>\n",
       "      <td>289.700012</td>\n",
       "      <td>285.799988</td>\n",
       "      <td>288.100006</td>\n",
       "      <td>5723475.0</td>\n",
       "      <td>10432.0</td>\n",
       "      <td>10464.0</td>\n",
       "      <td>10392.0</td>\n",
       "      <td>10460.000000</td>\n",
       "      <td>209706.0</td>\n",
       "    </tr>\n",
       "    <tr>\n",
       "      <th>[2022-04-20 15:30:00, 2022-04-20 16:30:00)</th>\n",
       "      <td>288.149994</td>\n",
       "      <td>288.890015</td>\n",
       "      <td>286.220001</td>\n",
       "      <td>286.510010</td>\n",
       "      <td>2621559.0</td>\n",
       "      <td>10460.0</td>\n",
       "      <td>10490.0</td>\n",
       "      <td>10394.0</td>\n",
       "      <td>10468.000000</td>\n",
       "      <td>644968.0</td>\n",
       "    </tr>\n",
       "    <tr>\n",
       "      <th>[2022-04-20 16:30:00, 2022-04-20 17:30:00)</th>\n",
       "      <td>286.519989</td>\n",
       "      <td>287.600006</td>\n",
       "      <td>285.370209</td>\n",
       "      <td>285.750000</td>\n",
       "      <td>2143538.0</td>\n",
       "      <td>NaN</td>\n",
       "      <td>NaN</td>\n",
       "      <td>NaN</td>\n",
       "      <td>NaN</td>\n",
       "      <td>NaN</td>\n",
       "    </tr>\n",
       "    <tr>\n",
       "      <th>[2022-04-20 17:30:00, 2022-04-20 18:30:00)</th>\n",
       "      <td>285.740997</td>\n",
       "      <td>287.369995</td>\n",
       "      <td>285.679993</td>\n",
       "      <td>286.929993</td>\n",
       "      <td>1644318.0</td>\n",
       "      <td>NaN</td>\n",
       "      <td>NaN</td>\n",
       "      <td>NaN</td>\n",
       "      <td>NaN</td>\n",
       "      <td>NaN</td>\n",
       "    </tr>\n",
       "    <tr>\n",
       "      <th>[2022-04-20 18:30:00, 2022-04-20 19:30:00)</th>\n",
       "      <td>286.880005</td>\n",
       "      <td>288.010010</td>\n",
       "      <td>286.750000</td>\n",
       "      <td>286.950012</td>\n",
       "      <td>1613055.0</td>\n",
       "      <td>NaN</td>\n",
       "      <td>NaN</td>\n",
       "      <td>NaN</td>\n",
       "      <td>NaN</td>\n",
       "      <td>NaN</td>\n",
       "    </tr>\n",
       "    <tr>\n",
       "      <th>[2022-04-20 19:30:00, 2022-04-20 20:30:00)</th>\n",
       "      <td>286.959991</td>\n",
       "      <td>287.399994</td>\n",
       "      <td>285.519989</td>\n",
       "      <td>287.029999</td>\n",
       "      <td>2230009.0</td>\n",
       "      <td>NaN</td>\n",
       "      <td>NaN</td>\n",
       "      <td>NaN</td>\n",
       "      <td>NaN</td>\n",
       "      <td>NaN</td>\n",
       "    </tr>\n",
       "    <tr>\n",
       "      <th>[2022-04-20 20:30:00, 2022-04-20 21:30:00)</th>\n",
       "      <td>287.109985</td>\n",
       "      <td>288.119904</td>\n",
       "      <td>286.049988</td>\n",
       "      <td>286.309998</td>\n",
       "      <td>3366341.0</td>\n",
       "      <td>NaN</td>\n",
       "      <td>NaN</td>\n",
       "      <td>NaN</td>\n",
       "      <td>NaN</td>\n",
       "      <td>NaN</td>\n",
       "    </tr>\n",
       "  </tbody>\n",
       "</table>\n",
       "</div>"
      ],
      "text/plain": [
       "symbol                                            MSFT              \\\n",
       "                                                  open        high   \n",
       "[2022-04-19 14:30:00, 2022-04-19 15:30:00)  279.720001  284.369385   \n",
       "[2022-04-19 15:30:00, 2022-04-19 16:30:00)  283.359985  284.750000   \n",
       "[2022-04-19 16:30:00, 2022-04-19 17:30:00)  284.410004  284.820007   \n",
       "[2022-04-19 17:30:00, 2022-04-19 18:30:00)  283.600006  284.059998   \n",
       "[2022-04-19 18:30:00, 2022-04-19 19:30:00)  283.179993  284.019989   \n",
       "[2022-04-19 19:30:00, 2022-04-19 20:30:00)  283.519989  285.582092   \n",
       "[2022-04-19 20:30:00, 2022-04-19 21:30:00)  285.279999  286.170013   \n",
       "[2022-04-20 07:30:00, 2022-04-20 08:30:00)         NaN         NaN   \n",
       "[2022-04-20 08:30:00, 2022-04-20 09:30:00)         NaN         NaN   \n",
       "[2022-04-20 09:30:00, 2022-04-20 10:30:00)         NaN         NaN   \n",
       "[2022-04-20 10:30:00, 2022-04-20 11:30:00)         NaN         NaN   \n",
       "[2022-04-20 11:30:00, 2022-04-20 12:30:00)         NaN         NaN   \n",
       "[2022-04-20 12:30:00, 2022-04-20 13:30:00)         NaN         NaN   \n",
       "[2022-04-20 13:30:00, 2022-04-20 14:30:00)         NaN         NaN   \n",
       "[2022-04-20 14:30:00, 2022-04-20 15:30:00)  289.399994  289.700012   \n",
       "[2022-04-20 15:30:00, 2022-04-20 16:30:00)  288.149994  288.890015   \n",
       "[2022-04-20 16:30:00, 2022-04-20 17:30:00)  286.519989  287.600006   \n",
       "[2022-04-20 17:30:00, 2022-04-20 18:30:00)  285.740997  287.369995   \n",
       "[2022-04-20 18:30:00, 2022-04-20 19:30:00)  286.880005  288.010010   \n",
       "[2022-04-20 19:30:00, 2022-04-20 20:30:00)  286.959991  287.399994   \n",
       "[2022-04-20 20:30:00, 2022-04-20 21:30:00)  287.109985  288.119904   \n",
       "\n",
       "symbol                                                                         \\\n",
       "                                                   low       close     volume   \n",
       "[2022-04-19 14:30:00, 2022-04-19 15:30:00)  278.410004  283.329987  5277096.0   \n",
       "[2022-04-19 15:30:00, 2022-04-19 16:30:00)  283.230011  284.420013  2510242.0   \n",
       "[2022-04-19 16:30:00, 2022-04-19 17:30:00)  283.519989  283.587799  1537729.0   \n",
       "[2022-04-19 17:30:00, 2022-04-19 18:30:00)  283.149994  283.200012  1598703.0   \n",
       "[2022-04-19 18:30:00, 2022-04-19 19:30:00)  282.910004  283.519989  1975782.0   \n",
       "[2022-04-19 19:30:00, 2022-04-19 20:30:00)  283.179993  285.250000  2159844.0   \n",
       "[2022-04-19 20:30:00, 2022-04-19 21:30:00)  284.500000  285.380005  3282886.0   \n",
       "[2022-04-20 07:30:00, 2022-04-20 08:30:00)         NaN         NaN        NaN   \n",
       "[2022-04-20 08:30:00, 2022-04-20 09:30:00)         NaN         NaN        NaN   \n",
       "[2022-04-20 09:30:00, 2022-04-20 10:30:00)         NaN         NaN        NaN   \n",
       "[2022-04-20 10:30:00, 2022-04-20 11:30:00)         NaN         NaN        NaN   \n",
       "[2022-04-20 11:30:00, 2022-04-20 12:30:00)         NaN         NaN        NaN   \n",
       "[2022-04-20 12:30:00, 2022-04-20 13:30:00)         NaN         NaN        NaN   \n",
       "[2022-04-20 13:30:00, 2022-04-20 14:30:00)         NaN         NaN        NaN   \n",
       "[2022-04-20 14:30:00, 2022-04-20 15:30:00)  285.799988  288.100006  5723475.0   \n",
       "[2022-04-20 15:30:00, 2022-04-20 16:30:00)  286.220001  286.510010  2621559.0   \n",
       "[2022-04-20 16:30:00, 2022-04-20 17:30:00)  285.370209  285.750000  2143538.0   \n",
       "[2022-04-20 17:30:00, 2022-04-20 18:30:00)  285.679993  286.929993  1644318.0   \n",
       "[2022-04-20 18:30:00, 2022-04-20 19:30:00)  286.750000  286.950012  1613055.0   \n",
       "[2022-04-20 19:30:00, 2022-04-20 20:30:00)  285.519989  287.029999  2230009.0   \n",
       "[2022-04-20 20:30:00, 2022-04-20 21:30:00)  286.049988  286.309998  3366341.0   \n",
       "\n",
       "symbol                                        AZN.L                    \\\n",
       "                                               open     high      low   \n",
       "[2022-04-19 14:30:00, 2022-04-19 15:30:00)  10526.0  10580.0  10484.0   \n",
       "[2022-04-19 15:30:00, 2022-04-19 16:30:00)  10582.0  10582.0  10502.0   \n",
       "[2022-04-19 16:30:00, 2022-04-19 17:30:00)      NaN      NaN      NaN   \n",
       "[2022-04-19 17:30:00, 2022-04-19 18:30:00)      NaN      NaN      NaN   \n",
       "[2022-04-19 18:30:00, 2022-04-19 19:30:00)      NaN      NaN      NaN   \n",
       "[2022-04-19 19:30:00, 2022-04-19 20:30:00)      NaN      NaN      NaN   \n",
       "[2022-04-19 20:30:00, 2022-04-19 21:30:00)      NaN      NaN      NaN   \n",
       "[2022-04-20 07:30:00, 2022-04-20 08:30:00)  10394.0  10482.0  10392.0   \n",
       "[2022-04-20 08:30:00, 2022-04-20 09:30:00)  10416.0  10480.0  10410.0   \n",
       "[2022-04-20 09:30:00, 2022-04-20 10:30:00)  10472.0  10484.0  10432.0   \n",
       "[2022-04-20 10:30:00, 2022-04-20 11:30:00)  10476.0  10496.0  10394.0   \n",
       "[2022-04-20 11:30:00, 2022-04-20 12:30:00)  10454.0  10464.0  10394.0   \n",
       "[2022-04-20 12:30:00, 2022-04-20 13:30:00)  10438.0  10450.0  10412.0   \n",
       "[2022-04-20 13:30:00, 2022-04-20 14:30:00)  10432.0  10450.0  10394.0   \n",
       "[2022-04-20 14:30:00, 2022-04-20 15:30:00)  10432.0  10464.0  10392.0   \n",
       "[2022-04-20 15:30:00, 2022-04-20 16:30:00)  10460.0  10490.0  10394.0   \n",
       "[2022-04-20 16:30:00, 2022-04-20 17:30:00)      NaN      NaN      NaN   \n",
       "[2022-04-20 17:30:00, 2022-04-20 18:30:00)      NaN      NaN      NaN   \n",
       "[2022-04-20 18:30:00, 2022-04-20 19:30:00)      NaN      NaN      NaN   \n",
       "[2022-04-20 19:30:00, 2022-04-20 20:30:00)      NaN      NaN      NaN   \n",
       "[2022-04-20 20:30:00, 2022-04-20 21:30:00)      NaN      NaN      NaN   \n",
       "\n",
       "symbol                                                               \n",
       "                                                   close     volume  \n",
       "[2022-04-19 14:30:00, 2022-04-19 15:30:00)  10580.000000  1020311.0  \n",
       "[2022-04-19 15:30:00, 2022-04-19 16:30:00)  10506.000000   181770.0  \n",
       "[2022-04-19 16:30:00, 2022-04-19 17:30:00)           NaN        NaN  \n",
       "[2022-04-19 17:30:00, 2022-04-19 18:30:00)           NaN        NaN  \n",
       "[2022-04-19 18:30:00, 2022-04-19 19:30:00)           NaN        NaN  \n",
       "[2022-04-19 19:30:00, 2022-04-19 20:30:00)           NaN        NaN  \n",
       "[2022-04-19 20:30:00, 2022-04-19 21:30:00)           NaN        NaN  \n",
       "[2022-04-20 07:30:00, 2022-04-20 08:30:00)  10418.000000    61124.0  \n",
       "[2022-04-20 08:30:00, 2022-04-20 09:30:00)  10474.000000   104366.0  \n",
       "[2022-04-20 09:30:00, 2022-04-20 10:30:00)  10472.000000   116116.0  \n",
       "[2022-04-20 10:30:00, 2022-04-20 11:30:00)  10456.000000  1036083.0  \n",
       "[2022-04-20 11:30:00, 2022-04-20 12:30:00)  10438.000000    87891.0  \n",
       "[2022-04-20 12:30:00, 2022-04-20 13:30:00)  10428.908203    70868.0  \n",
       "[2022-04-20 13:30:00, 2022-04-20 14:30:00)  10430.000000   492499.0  \n",
       "[2022-04-20 14:30:00, 2022-04-20 15:30:00)  10460.000000   209706.0  \n",
       "[2022-04-20 15:30:00, 2022-04-20 16:30:00)  10468.000000   644968.0  \n",
       "[2022-04-20 16:30:00, 2022-04-20 17:30:00)           NaN        NaN  \n",
       "[2022-04-20 17:30:00, 2022-04-20 18:30:00)           NaN        NaN  \n",
       "[2022-04-20 18:30:00, 2022-04-20 19:30:00)           NaN        NaN  \n",
       "[2022-04-20 19:30:00, 2022-04-20 20:30:00)           NaN        NaN  \n",
       "[2022-04-20 20:30:00, 2022-04-20 21:30:00)           NaN        NaN  "
      ]
     },
     "execution_count": 62,
     "metadata": {},
     "output_type": "execute_result"
    }
   ],
   "source": [
    "df = prices_us_lon.get(\n",
    "    \"1H\", start_session, end_session, lead_symbol=\"MSFT\", tzout=xlon.tz\n",
    ")\n",
    "df"
   ]
  },
  {
   "cell_type": "markdown",
   "metadata": {},
   "source": [
    "NB `tzout` was passed as the London timezone to provide for comparison with the earlier table. Also, as \"MSFT\" is now the lead symbol all indices prior to the New York open of the `start_session` are not included.\n",
    "\n",
    "All indices now start at half-past an hour, aligned with the New York opens. Of note, the 08:00 London open of the second session now falls in the 07:30 - 08:30 indice, i.e. to maintain the interval based on the NYSE open, it's necessary to introduce a non-trading period, from 07:30 - 08:00, prior to the London open."
   ]
  },
  {
   "cell_type": "code",
   "execution_count": 63,
   "metadata": {},
   "outputs": [
    {
     "data": {
      "text/plain": [
       "{Interval('2022-04-20 07:30:00', '2022-04-20 08:30:00', closed='left'): IntervalIndex([[2022-04-20 07:30:00, 2022-04-20 08:00:00)], dtype='interval[datetime64[ns, Europe/London], left]')}"
      ]
     },
     "execution_count": 63,
     "metadata": {},
     "output_type": "execute_result"
    }
   ],
   "source": [
    "df.pt.indices_partial_trading_info(xlon)"
   ]
  },
  {
   "cell_type": "markdown",
   "metadata": {},
   "source": [
    "`force` can be passed to force the left side of such indices to the first time that any symbol traded, in this case to the London 08:00 open."
   ]
  },
  {
   "cell_type": "code",
   "execution_count": 64,
   "metadata": {},
   "outputs": [
    {
     "data": {
      "text/html": [
       "<div>\n",
       "<style scoped>\n",
       "    .dataframe tbody tr th:only-of-type {\n",
       "        vertical-align: middle;\n",
       "    }\n",
       "\n",
       "    .dataframe tbody tr th {\n",
       "        vertical-align: top;\n",
       "    }\n",
       "\n",
       "    .dataframe thead tr th {\n",
       "        text-align: left;\n",
       "    }\n",
       "</style>\n",
       "<table border=\"1\" class=\"dataframe\">\n",
       "  <thead>\n",
       "    <tr>\n",
       "      <th>symbol</th>\n",
       "      <th colspan=\"5\" halign=\"left\">MSFT</th>\n",
       "      <th colspan=\"5\" halign=\"left\">AZN.L</th>\n",
       "    </tr>\n",
       "    <tr>\n",
       "      <th></th>\n",
       "      <th>open</th>\n",
       "      <th>high</th>\n",
       "      <th>low</th>\n",
       "      <th>close</th>\n",
       "      <th>volume</th>\n",
       "      <th>open</th>\n",
       "      <th>high</th>\n",
       "      <th>low</th>\n",
       "      <th>close</th>\n",
       "      <th>volume</th>\n",
       "    </tr>\n",
       "  </thead>\n",
       "  <tbody>\n",
       "    <tr>\n",
       "      <th>[2022-04-19 20:30:00, 2022-04-19 21:00:00)</th>\n",
       "      <td>285.279999</td>\n",
       "      <td>286.170013</td>\n",
       "      <td>284.5</td>\n",
       "      <td>285.380005</td>\n",
       "      <td>3282886.0</td>\n",
       "      <td>NaN</td>\n",
       "      <td>NaN</td>\n",
       "      <td>NaN</td>\n",
       "      <td>NaN</td>\n",
       "      <td>NaN</td>\n",
       "    </tr>\n",
       "    <tr>\n",
       "      <th>[2022-04-20 08:00:00, 2022-04-20 08:30:00)</th>\n",
       "      <td>NaN</td>\n",
       "      <td>NaN</td>\n",
       "      <td>NaN</td>\n",
       "      <td>NaN</td>\n",
       "      <td>NaN</td>\n",
       "      <td>10394.0</td>\n",
       "      <td>10482.0</td>\n",
       "      <td>10392.0</td>\n",
       "      <td>10418.0</td>\n",
       "      <td>61124.0</td>\n",
       "    </tr>\n",
       "    <tr>\n",
       "      <th>[2022-04-20 08:30:00, 2022-04-20 09:30:00)</th>\n",
       "      <td>NaN</td>\n",
       "      <td>NaN</td>\n",
       "      <td>NaN</td>\n",
       "      <td>NaN</td>\n",
       "      <td>NaN</td>\n",
       "      <td>10416.0</td>\n",
       "      <td>10480.0</td>\n",
       "      <td>10410.0</td>\n",
       "      <td>10474.0</td>\n",
       "      <td>104366.0</td>\n",
       "    </tr>\n",
       "  </tbody>\n",
       "</table>\n",
       "</div>"
      ],
      "text/plain": [
       "symbol                                            MSFT                     \\\n",
       "                                                  open        high    low   \n",
       "[2022-04-19 20:30:00, 2022-04-19 21:00:00)  285.279999  286.170013  284.5   \n",
       "[2022-04-20 08:00:00, 2022-04-20 08:30:00)         NaN         NaN    NaN   \n",
       "[2022-04-20 08:30:00, 2022-04-20 09:30:00)         NaN         NaN    NaN   \n",
       "\n",
       "symbol                                                               AZN.L  \\\n",
       "                                                 close     volume     open   \n",
       "[2022-04-19 20:30:00, 2022-04-19 21:00:00)  285.380005  3282886.0      NaN   \n",
       "[2022-04-20 08:00:00, 2022-04-20 08:30:00)         NaN        NaN  10394.0   \n",
       "[2022-04-20 08:30:00, 2022-04-20 09:30:00)         NaN        NaN  10416.0   \n",
       "\n",
       "symbol                                                                 \\\n",
       "                                               high      low    close   \n",
       "[2022-04-19 20:30:00, 2022-04-19 21:00:00)      NaN      NaN      NaN   \n",
       "[2022-04-20 08:00:00, 2022-04-20 08:30:00)  10482.0  10392.0  10418.0   \n",
       "[2022-04-20 08:30:00, 2022-04-20 09:30:00)  10480.0  10410.0  10474.0   \n",
       "\n",
       "symbol                                                \n",
       "                                              volume  \n",
       "[2022-04-19 20:30:00, 2022-04-19 21:00:00)       NaN  \n",
       "[2022-04-20 08:00:00, 2022-04-20 08:30:00)   61124.0  \n",
       "[2022-04-20 08:30:00, 2022-04-20 09:30:00)  104366.0  "
      ]
     },
     "execution_count": 64,
     "metadata": {},
     "output_type": "execute_result"
    }
   ],
   "source": [
    "prices_us_lon.get(\n",
    "    \"1H\", start_session, end_session, lead_symbol=\"MSFT\", tzout=xlon.tz, force=True,\n",
    ").iloc[6:9]  # showing only relevant rows..."
   ]
  },
  {
   "cell_type": "markdown",
   "metadata": {},
   "source": [
    "#### `.pt` accessor methods\n",
    "\n",
    "This subsection looks at how `.pt` accessor methods can be used to interogate indices of prices tables for symbols that are not all associated with the same calendar.\n",
    "\n",
    "Some `.pt` accessor methods take an argument to define the calendar against which to evaluate the return. This is demonstrated below using the 'unforced' example that has MSFT as the lead symbol."
   ]
  },
  {
   "cell_type": "code",
   "execution_count": 65,
   "metadata": {},
   "outputs": [
    {
     "data": {
      "text/plain": [
       "IntervalIndex([[2022-04-20 07:30:00, 2022-04-20 08:30:00)], dtype='interval[datetime64[ns, Europe/London], left]')"
      ]
     },
     "execution_count": 65,
     "metadata": {},
     "output_type": "execute_result"
    }
   ],
   "source": [
    "df.pt.indices_partial_trading(xlon)"
   ]
  },
  {
   "cell_type": "markdown",
   "metadata": {},
   "source": [
    "Passing `.pt.indices_partial_trading` the London calendar (xlon) associated with AstraZeneca returns the single indice that covers the 08:00 xlon open of the second session. Of all the table's indices this is the only one that, when evaluated against the London calendar, partly covers a non-trading period and partly covers a trading period (all other indices cover periods during all of which the London exchange was either open or closed).\n",
    "\n",
    "In contrast, if the method is passed the New York calendar associated with Microsoft (xnys)..."
   ]
  },
  {
   "cell_type": "code",
   "execution_count": 66,
   "metadata": {},
   "outputs": [
    {
     "data": {
      "text/plain": [
       "IntervalIndex([[2022-04-19 20:30:00, 2022-04-19 21:30:00), [2022-04-20 20:30:00, 2022-04-20 21:30:00)], dtype='interval[datetime64[ns, Europe/London], left]')"
      ]
     },
     "execution_count": 66,
     "metadata": {},
     "output_type": "execute_result"
    }
   ],
   "source": [
    "df.pt.indices_partial_trading(xnys)"
   ]
  },
  {
   "cell_type": "markdown",
   "metadata": {},
   "source": [
    "There are two partial indices. These represent the unaligned New York closes. The actual close times for these sessions are (in London time)..."
   ]
  },
  {
   "cell_type": "code",
   "execution_count": 67,
   "metadata": {},
   "outputs": [
    {
     "data": {
      "text/plain": [
       "(Timestamp('2022-04-19 21:00:00+0100', tz='Europe/London'),\n",
       " Timestamp('2022-04-20 21:00:00+0100', tz='Europe/London'))"
      ]
     },
     "execution_count": 67,
     "metadata": {},
     "output_type": "execute_result"
    }
   ],
   "source": [
    "(\n",
    "    xnys.session_close(start_session).astimezone(xlon.tz),\n",
    "    xnys.session_close(end_session).astimezone(xlon.tz),\n",
    ")"
   ]
  },
  {
   "cell_type": "markdown",
   "metadata": {},
   "source": [
    "All other indices cover periods during all of which New York was either open or closed.\n",
    "\n",
    "`.pt.indices_non_trading` can be used to query those indices covering periods during all of which the New York exchange was closed."
   ]
  },
  {
   "cell_type": "code",
   "execution_count": 68,
   "metadata": {},
   "outputs": [
    {
     "data": {
      "text/plain": [
       "IntervalIndex([[2022-04-20 07:30:00, 2022-04-20 08:30:00), [2022-04-20 08:30:00, 2022-04-20 09:30:00), [2022-04-20 09:30:00, 2022-04-20 10:30:00), [2022-04-20 10:30:00, 2022-04-20 11:30:00), [2022-04-20 11:30:00, 2022-04-20 12:30:00), [2022-04-20 12:30:00, 2022-04-20 13:30:00), [2022-04-20 13:30:00, 2022-04-20 14:30:00)], dtype='interval[datetime64[ns, Europe/London], left]')"
      ]
     },
     "execution_count": 68,
     "metadata": {},
     "output_type": "execute_result"
    }
   ],
   "source": [
    "df.pt.indices_non_trading(xnys)"
   ]
  },
  {
   "cell_type": "markdown",
   "metadata": {},
   "source": [
    "Similarly, to get those indices covering periods during which London was closed..."
   ]
  },
  {
   "cell_type": "code",
   "execution_count": 69,
   "metadata": {},
   "outputs": [
    {
     "data": {
      "text/plain": [
       "IntervalIndex([[2022-04-19 16:30:00, 2022-04-19 17:30:00), [2022-04-19 17:30:00, 2022-04-19 18:30:00), [2022-04-19 18:30:00, 2022-04-19 19:30:00), [2022-04-19 19:30:00, 2022-04-19 20:30:00), [2022-04-19 20:30:00, 2022-04-19 21:30:00), [2022-04-20 16:30:00, 2022-04-20 17:30:00), [2022-04-20 17:30:00, 2022-04-20 18:30:00), [2022-04-20 18:30:00, 2022-04-20 19:30:00), [2022-04-20 19:30:00, 2022-04-20 20:30:00), [2022-04-20 20:30:00, 2022-04-20 21:30:00)], dtype='interval[datetime64[ns, Europe/London], left]')"
      ]
     },
     "execution_count": 69,
     "metadata": {},
     "output_type": "execute_result"
    }
   ],
   "source": [
    "df.pt.indices_non_trading(xlon)"
   ]
  },
  {
   "cell_type": "markdown",
   "metadata": {},
   "source": [
    "`.pt.indices_trading` will query those indices that cover periods during all of which the passed calendar is open.\n",
    "\n",
    "The following returns those indices during all of which both xlon and xnys were open."
   ]
  },
  {
   "cell_type": "code",
   "execution_count": 70,
   "metadata": {},
   "outputs": [
    {
     "data": {
      "text/plain": [
       "IntervalIndex([[2022-04-19 14:30:00, 2022-04-19 15:30:00), [2022-04-19 15:30:00, 2022-04-19 16:30:00), [2022-04-20 14:30:00, 2022-04-20 15:30:00), [2022-04-20 15:30:00, 2022-04-20 16:30:00)], dtype='interval[datetime64[ns, Europe/London], left]')"
      ]
     },
     "execution_count": 70,
     "metadata": {},
     "output_type": "execute_result"
    }
   ],
   "source": [
    "df.pt.indices_trading(xnys).intersection(df.pt.indices_trading(xlon))"
   ]
  },
  {
   "cell_type": "markdown",
   "metadata": {},
   "source": [
    "During all other periods either one of the calendars was closed either all or some of the time.\n",
    "\n",
    "`.pt.indices_trading_status` can be used to get a snapshot of the trading status of each indice. This was shown in earlier examples for a single symbol. The method's particularly useful for multiple symbols (associated with different calendars) as False indicates those indices during which the passed calendar was always closed."
   ]
  },
  {
   "cell_type": "code",
   "execution_count": 71,
   "metadata": {},
   "outputs": [
    {
     "data": {
      "text/plain": [
       "[2022-04-19 14:30:00, 2022-04-19 15:30:00)     True\n",
       "[2022-04-19 15:30:00, 2022-04-19 16:30:00)     True\n",
       "[2022-04-19 16:30:00, 2022-04-19 17:30:00)     True\n",
       "[2022-04-19 17:30:00, 2022-04-19 18:30:00)     True\n",
       "[2022-04-19 18:30:00, 2022-04-19 19:30:00)     True\n",
       "[2022-04-19 19:30:00, 2022-04-19 20:30:00)     True\n",
       "[2022-04-19 20:30:00, 2022-04-19 21:30:00)      NaN\n",
       "[2022-04-20 07:30:00, 2022-04-20 08:30:00)    False\n",
       "[2022-04-20 08:30:00, 2022-04-20 09:30:00)    False\n",
       "[2022-04-20 09:30:00, 2022-04-20 10:30:00)    False\n",
       "[2022-04-20 10:30:00, 2022-04-20 11:30:00)    False\n",
       "[2022-04-20 11:30:00, 2022-04-20 12:30:00)    False\n",
       "[2022-04-20 12:30:00, 2022-04-20 13:30:00)    False\n",
       "[2022-04-20 13:30:00, 2022-04-20 14:30:00)    False\n",
       "[2022-04-20 14:30:00, 2022-04-20 15:30:00)     True\n",
       "[2022-04-20 15:30:00, 2022-04-20 16:30:00)     True\n",
       "[2022-04-20 16:30:00, 2022-04-20 17:30:00)     True\n",
       "[2022-04-20 17:30:00, 2022-04-20 18:30:00)     True\n",
       "[2022-04-20 18:30:00, 2022-04-20 19:30:00)     True\n",
       "[2022-04-20 19:30:00, 2022-04-20 20:30:00)     True\n",
       "[2022-04-20 20:30:00, 2022-04-20 21:30:00)      NaN\n",
       "dtype: object"
      ]
     },
     "execution_count": 71,
     "metadata": {},
     "output_type": "execute_result"
    }
   ],
   "source": [
    "df.pt.indices_trading_status(xnys)"
   ]
  },
  {
   "cell_type": "markdown",
   "metadata": {},
   "source": [
    "Recall that True indicates those indices that cover periods during all of which the passed calendar was open and a missing value (NaN) represents partial trading indices that cover periods during which the calendar was both open and closed. In the above example the False indices are therefore those that cover periods during which only the London market was open.\n",
    "\n",
    "`.pt.indices_trading_minutes` will show the number of trading minutes that each indices represents, with those trading minutes evaluated against the passed calendar."
   ]
  },
  {
   "cell_type": "code",
   "execution_count": 72,
   "metadata": {},
   "outputs": [
    {
     "data": {
      "text/plain": [
       "[2022-04-19 14:30:00, 2022-04-19 15:30:00)    60\n",
       "[2022-04-19 15:30:00, 2022-04-19 16:30:00)    60\n",
       "[2022-04-19 16:30:00, 2022-04-19 17:30:00)    60\n",
       "[2022-04-19 17:30:00, 2022-04-19 18:30:00)    60\n",
       "[2022-04-19 18:30:00, 2022-04-19 19:30:00)    60\n",
       "[2022-04-19 19:30:00, 2022-04-19 20:30:00)    60\n",
       "[2022-04-19 20:30:00, 2022-04-19 21:30:00)    30\n",
       "[2022-04-20 07:30:00, 2022-04-20 08:30:00)     0\n",
       "[2022-04-20 08:30:00, 2022-04-20 09:30:00)     0\n",
       "[2022-04-20 09:30:00, 2022-04-20 10:30:00)     0\n",
       "[2022-04-20 10:30:00, 2022-04-20 11:30:00)     0\n",
       "[2022-04-20 11:30:00, 2022-04-20 12:30:00)     0\n",
       "[2022-04-20 12:30:00, 2022-04-20 13:30:00)     0\n",
       "[2022-04-20 13:30:00, 2022-04-20 14:30:00)     0\n",
       "[2022-04-20 14:30:00, 2022-04-20 15:30:00)    60\n",
       "[2022-04-20 15:30:00, 2022-04-20 16:30:00)    60\n",
       "[2022-04-20 16:30:00, 2022-04-20 17:30:00)    60\n",
       "[2022-04-20 17:30:00, 2022-04-20 18:30:00)    60\n",
       "[2022-04-20 18:30:00, 2022-04-20 19:30:00)    60\n",
       "[2022-04-20 19:30:00, 2022-04-20 20:30:00)    60\n",
       "[2022-04-20 20:30:00, 2022-04-20 21:30:00)    30\n",
       "Name: trading_mins, dtype: int64"
      ]
     },
     "execution_count": 72,
     "metadata": {},
     "output_type": "execute_result"
    }
   ],
   "source": [
    "df.pt.indices_trading_minutes(xnys)"
   ]
  },
  {
   "cell_type": "code",
   "execution_count": 73,
   "metadata": {},
   "outputs": [
    {
     "data": {
      "text/plain": [
       "[2022-04-19 14:30:00, 2022-04-19 15:30:00)    60\n",
       "[2022-04-19 15:30:00, 2022-04-19 16:30:00)    60\n",
       "[2022-04-19 16:30:00, 2022-04-19 17:30:00)     0\n",
       "[2022-04-19 17:30:00, 2022-04-19 18:30:00)     0\n",
       "[2022-04-19 18:30:00, 2022-04-19 19:30:00)     0\n",
       "[2022-04-19 19:30:00, 2022-04-19 20:30:00)     0\n",
       "[2022-04-19 20:30:00, 2022-04-19 21:30:00)     0\n",
       "[2022-04-20 07:30:00, 2022-04-20 08:30:00)    30\n",
       "[2022-04-20 08:30:00, 2022-04-20 09:30:00)    60\n",
       "[2022-04-20 09:30:00, 2022-04-20 10:30:00)    60\n",
       "[2022-04-20 10:30:00, 2022-04-20 11:30:00)    60\n",
       "[2022-04-20 11:30:00, 2022-04-20 12:30:00)    60\n",
       "[2022-04-20 12:30:00, 2022-04-20 13:30:00)    60\n",
       "[2022-04-20 13:30:00, 2022-04-20 14:30:00)    60\n",
       "[2022-04-20 14:30:00, 2022-04-20 15:30:00)    60\n",
       "[2022-04-20 15:30:00, 2022-04-20 16:30:00)    60\n",
       "[2022-04-20 16:30:00, 2022-04-20 17:30:00)     0\n",
       "[2022-04-20 17:30:00, 2022-04-20 18:30:00)     0\n",
       "[2022-04-20 18:30:00, 2022-04-20 19:30:00)     0\n",
       "[2022-04-20 19:30:00, 2022-04-20 20:30:00)     0\n",
       "[2022-04-20 20:30:00, 2022-04-20 21:30:00)     0\n",
       "Name: trading_mins, dtype: int64"
      ]
     },
     "execution_count": 73,
     "metadata": {},
     "output_type": "execute_result"
    }
   ],
   "source": [
    "df.pt.indices_trading_minutes(xlon)"
   ]
  },
  {
   "cell_type": "markdown",
   "metadata": {},
   "source": [
    "#### Calendars with breaks\n",
    "\n",
    "Towards the start of this tutorial it was stated that where an exchange has a break the indices for the morning session are anchored on the morning subsession open and indices for the afternoon session are anchored on the afternoon subsession open. This was shown with the example of Alibaba's Hong Kong listing, where the market observes a lunch break from 12:00 - 13:00."
   ]
  },
  {
   "cell_type": "code",
   "execution_count": 74,
   "metadata": {},
   "outputs": [
    {
     "data": {
      "text/html": [
       "<div>\n",
       "<style scoped>\n",
       "    .dataframe tbody tr th:only-of-type {\n",
       "        vertical-align: middle;\n",
       "    }\n",
       "\n",
       "    .dataframe tbody tr th {\n",
       "        vertical-align: top;\n",
       "    }\n",
       "\n",
       "    .dataframe thead tr th {\n",
       "        text-align: left;\n",
       "    }\n",
       "</style>\n",
       "<table border=\"1\" class=\"dataframe\">\n",
       "  <thead>\n",
       "    <tr>\n",
       "      <th>symbol</th>\n",
       "      <th colspan=\"5\" halign=\"left\">9988.HK</th>\n",
       "    </tr>\n",
       "    <tr>\n",
       "      <th></th>\n",
       "      <th>open</th>\n",
       "      <th>high</th>\n",
       "      <th>low</th>\n",
       "      <th>close</th>\n",
       "      <th>volume</th>\n",
       "    </tr>\n",
       "  </thead>\n",
       "  <tbody>\n",
       "    <tr>\n",
       "      <th>[2022-04-20 09:30:00, 2022-04-20 10:30:00)</th>\n",
       "      <td>91.199997</td>\n",
       "      <td>91.900002</td>\n",
       "      <td>90.599998</td>\n",
       "      <td>90.800003</td>\n",
       "      <td>3261815.0</td>\n",
       "    </tr>\n",
       "    <tr>\n",
       "      <th>[2022-04-20 10:30:00, 2022-04-20 11:30:00)</th>\n",
       "      <td>90.800003</td>\n",
       "      <td>92.199997</td>\n",
       "      <td>90.500000</td>\n",
       "      <td>92.000000</td>\n",
       "      <td>3225833.0</td>\n",
       "    </tr>\n",
       "    <tr>\n",
       "      <th>[2022-04-20 11:30:00, 2022-04-20 12:30:00)</th>\n",
       "      <td>92.000000</td>\n",
       "      <td>92.949997</td>\n",
       "      <td>91.949997</td>\n",
       "      <td>92.599998</td>\n",
       "      <td>1359203.0</td>\n",
       "    </tr>\n",
       "    <tr>\n",
       "      <th>[2022-04-20 13:00:00, 2022-04-20 14:00:00)</th>\n",
       "      <td>92.650002</td>\n",
       "      <td>92.750000</td>\n",
       "      <td>91.050003</td>\n",
       "      <td>91.150002</td>\n",
       "      <td>2424843.0</td>\n",
       "    </tr>\n",
       "    <tr>\n",
       "      <th>[2022-04-20 14:00:00, 2022-04-20 15:00:00)</th>\n",
       "      <td>91.150002</td>\n",
       "      <td>91.349998</td>\n",
       "      <td>90.300003</td>\n",
       "      <td>90.650002</td>\n",
       "      <td>2740490.0</td>\n",
       "    </tr>\n",
       "    <tr>\n",
       "      <th>[2022-04-20 15:00:00, 2022-04-20 16:00:00)</th>\n",
       "      <td>90.650002</td>\n",
       "      <td>91.300003</td>\n",
       "      <td>90.550003</td>\n",
       "      <td>90.650002</td>\n",
       "      <td>4127142.0</td>\n",
       "    </tr>\n",
       "  </tbody>\n",
       "</table>\n",
       "</div>"
      ],
      "text/plain": [
       "symbol                                        9988.HK                        \\\n",
       "                                                 open       high        low   \n",
       "[2022-04-20 09:30:00, 2022-04-20 10:30:00)  91.199997  91.900002  90.599998   \n",
       "[2022-04-20 10:30:00, 2022-04-20 11:30:00)  90.800003  92.199997  90.500000   \n",
       "[2022-04-20 11:30:00, 2022-04-20 12:30:00)  92.000000  92.949997  91.949997   \n",
       "[2022-04-20 13:00:00, 2022-04-20 14:00:00)  92.650002  92.750000  91.050003   \n",
       "[2022-04-20 14:00:00, 2022-04-20 15:00:00)  91.150002  91.349998  90.300003   \n",
       "[2022-04-20 15:00:00, 2022-04-20 16:00:00)  90.650002  91.300003  90.550003   \n",
       "\n",
       "symbol                                                            \n",
       "                                                close     volume  \n",
       "[2022-04-20 09:30:00, 2022-04-20 10:30:00)  90.800003  3261815.0  \n",
       "[2022-04-20 10:30:00, 2022-04-20 11:30:00)  92.000000  3225833.0  \n",
       "[2022-04-20 11:30:00, 2022-04-20 12:30:00)  92.599998  1359203.0  \n",
       "[2022-04-20 13:00:00, 2022-04-20 14:00:00)  91.150002  2424843.0  \n",
       "[2022-04-20 14:00:00, 2022-04-20 15:00:00)  90.650002  2740490.0  \n",
       "[2022-04-20 15:00:00, 2022-04-20 16:00:00)  90.650002  4127142.0  "
      ]
     },
     "execution_count": 74,
     "metadata": {},
     "output_type": "execute_result"
    }
   ],
   "source": [
    "df = prices_hk.get(\"1H\", session, session, anchor=\"open\")\n",
    "df"
   ]
  },
  {
   "cell_type": "markdown",
   "metadata": {},
   "source": [
    "Notice that at this one hour interval the last indice of the am subsession is unaligned with the morning session's 12:00 close."
   ]
  },
  {
   "cell_type": "code",
   "execution_count": 75,
   "metadata": {},
   "outputs": [
    {
     "data": {
      "text/plain": [
       "{Interval('2022-04-20 11:30:00', '2022-04-20 12:30:00', closed='left'): IntervalIndex([[2022-04-20 12:00:00, 2022-04-20 12:30:00)], dtype='interval[datetime64[ns, Asia/Hong_Kong], left]')}"
      ]
     },
     "execution_count": 75,
     "metadata": {},
     "output_type": "execute_result"
    }
   ],
   "source": [
    "df.pt.indices_partial_trading_info(xhkg)"
   ]
  },
  {
   "cell_type": "markdown",
   "metadata": {},
   "source": [
    "The afternoon session then opens at 13:00.\n",
    "\n",
    "It's not always the case that indices of an afternoon subsession will be anchored on the afternoon open. In the following cases **all** indices may be anchored on the morning subsession open.\n",
    "\n",
    "* Prices from the data source do not recognise the break (rather, all prices for a session are anchored on the morning open).\n",
    "\n",
    "* An indice of a trading index evaluated against the calendar that observes the break *partially* overlaps an indice of a trading index evaluated against another calendar."
   ]
  },
  {
   "cell_type": "markdown",
   "metadata": {},
   "source": [
    "##### **Data source does not observe the break**\n",
    "\n",
    "Yahoo, the default data provider, does not recognise the Hong Kong break. Rather data at one hour looks like this..."
   ]
  },
  {
   "cell_type": "code",
   "execution_count": 76,
   "metadata": {},
   "outputs": [
    {
     "name": "stdout",
     "output_type": "stream",
     "text": [
      "2020-05-15 00:00:00\n"
     ]
    },
    {
     "data": {
      "text/html": [
       "<div>\n",
       "<style scoped>\n",
       "    .dataframe tbody tr th:only-of-type {\n",
       "        vertical-align: middle;\n",
       "    }\n",
       "\n",
       "    .dataframe tbody tr th {\n",
       "        vertical-align: top;\n",
       "    }\n",
       "\n",
       "    .dataframe thead tr th {\n",
       "        text-align: left;\n",
       "    }\n",
       "</style>\n",
       "<table border=\"1\" class=\"dataframe\">\n",
       "  <thead>\n",
       "    <tr>\n",
       "      <th>symbol</th>\n",
       "      <th colspan=\"5\" halign=\"left\">9988.HK</th>\n",
       "    </tr>\n",
       "    <tr>\n",
       "      <th></th>\n",
       "      <th>open</th>\n",
       "      <th>high</th>\n",
       "      <th>low</th>\n",
       "      <th>close</th>\n",
       "      <th>volume</th>\n",
       "    </tr>\n",
       "  </thead>\n",
       "  <tbody>\n",
       "    <tr>\n",
       "      <th>[2020-05-15 09:30:00, 2020-05-15 10:30:00)</th>\n",
       "      <td>195.399994</td>\n",
       "      <td>196.100006</td>\n",
       "      <td>194.100006</td>\n",
       "      <td>194.500000</td>\n",
       "      <td>0</td>\n",
       "    </tr>\n",
       "    <tr>\n",
       "      <th>[2020-05-15 10:30:00, 2020-05-15 11:30:00)</th>\n",
       "      <td>194.500000</td>\n",
       "      <td>195.800003</td>\n",
       "      <td>194.300003</td>\n",
       "      <td>195.800003</td>\n",
       "      <td>1430128</td>\n",
       "    </tr>\n",
       "    <tr>\n",
       "      <th>[2020-05-15 11:30:00, 2020-05-15 12:30:00)</th>\n",
       "      <td>195.800003</td>\n",
       "      <td>196.000000</td>\n",
       "      <td>195.399994</td>\n",
       "      <td>196.000000</td>\n",
       "      <td>663560</td>\n",
       "    </tr>\n",
       "    <tr>\n",
       "      <th>[2020-05-15 12:30:00, 2020-05-15 13:30:00)</th>\n",
       "      <td>196.000000</td>\n",
       "      <td>196.699997</td>\n",
       "      <td>195.899994</td>\n",
       "      <td>196.500000</td>\n",
       "      <td>3349692</td>\n",
       "    </tr>\n",
       "    <tr>\n",
       "      <th>[2020-05-15 13:30:00, 2020-05-15 14:30:00)</th>\n",
       "      <td>196.500000</td>\n",
       "      <td>196.699997</td>\n",
       "      <td>196.000000</td>\n",
       "      <td>196.500000</td>\n",
       "      <td>4604192</td>\n",
       "    </tr>\n",
       "    <tr>\n",
       "      <th>[2020-05-15 14:30:00, 2020-05-15 15:30:00)</th>\n",
       "      <td>196.500000</td>\n",
       "      <td>197.100006</td>\n",
       "      <td>196.199997</td>\n",
       "      <td>196.800003</td>\n",
       "      <td>5395882</td>\n",
       "    </tr>\n",
       "    <tr>\n",
       "      <th>[2020-05-15 15:30:00, 2020-05-15 16:30:00)</th>\n",
       "      <td>196.800003</td>\n",
       "      <td>197.300003</td>\n",
       "      <td>196.600006</td>\n",
       "      <td>196.899994</td>\n",
       "      <td>6117562</td>\n",
       "    </tr>\n",
       "  </tbody>\n",
       "</table>\n",
       "</div>"
      ],
      "text/plain": [
       "symbol                                         9988.HK              \\\n",
       "                                                  open        high   \n",
       "[2020-05-15 09:30:00, 2020-05-15 10:30:00)  195.399994  196.100006   \n",
       "[2020-05-15 10:30:00, 2020-05-15 11:30:00)  194.500000  195.800003   \n",
       "[2020-05-15 11:30:00, 2020-05-15 12:30:00)  195.800003  196.000000   \n",
       "[2020-05-15 12:30:00, 2020-05-15 13:30:00)  196.000000  196.699997   \n",
       "[2020-05-15 13:30:00, 2020-05-15 14:30:00)  196.500000  196.699997   \n",
       "[2020-05-15 14:30:00, 2020-05-15 15:30:00)  196.500000  197.100006   \n",
       "[2020-05-15 15:30:00, 2020-05-15 16:30:00)  196.800003  197.300003   \n",
       "\n",
       "symbol                                                                       \n",
       "                                                   low       close   volume  \n",
       "[2020-05-15 09:30:00, 2020-05-15 10:30:00)  194.100006  194.500000        0  \n",
       "[2020-05-15 10:30:00, 2020-05-15 11:30:00)  194.300003  195.800003  1430128  \n",
       "[2020-05-15 11:30:00, 2020-05-15 12:30:00)  195.399994  196.000000   663560  \n",
       "[2020-05-15 12:30:00, 2020-05-15 13:30:00)  195.899994  196.500000  3349692  \n",
       "[2020-05-15 13:30:00, 2020-05-15 14:30:00)  196.000000  196.500000  4604192  \n",
       "[2020-05-15 14:30:00, 2020-05-15 15:30:00)  196.199997  196.800003  5395882  \n",
       "[2020-05-15 15:30:00, 2020-05-15 16:30:00)  196.600006  196.899994  6117562  "
      ]
     },
     "execution_count": 76,
     "metadata": {},
     "output_type": "execute_result"
    }
   ],
   "source": [
    "print(session_h1)\n",
    "prices_hk.get(\"1H\", session_h1, session_h1, anchor=\"open\")"
   ]
  },
  {
   "cell_type": "markdown",
   "metadata": {},
   "source": [
    "Notice how the prices just plough through the 12:00 - 13:00 break as if it weren't there. But hold on, what's different between this example and the one further above that recognised the break with the same 1H interval! The difference is that the earlier example is for a session for which price data is available at 5 minute intervals. If the available data allows, `market_prices` will downsample data at a lower interval in order to maintain the break. The example here however is requesting data for `session_h1` which is a session for which intraday data is only available at hourly intervals.\n",
    "\n",
    "Although the indices aren't anchored on the afternoon open, forcing will still curtail the indices such that they only cover trading periods."
   ]
  },
  {
   "cell_type": "code",
   "execution_count": 77,
   "metadata": {},
   "outputs": [
    {
     "data": {
      "text/html": [
       "<div>\n",
       "<style scoped>\n",
       "    .dataframe tbody tr th:only-of-type {\n",
       "        vertical-align: middle;\n",
       "    }\n",
       "\n",
       "    .dataframe tbody tr th {\n",
       "        vertical-align: top;\n",
       "    }\n",
       "\n",
       "    .dataframe thead tr th {\n",
       "        text-align: left;\n",
       "    }\n",
       "</style>\n",
       "<table border=\"1\" class=\"dataframe\">\n",
       "  <thead>\n",
       "    <tr>\n",
       "      <th>symbol</th>\n",
       "      <th colspan=\"5\" halign=\"left\">9988.HK</th>\n",
       "    </tr>\n",
       "    <tr>\n",
       "      <th></th>\n",
       "      <th>open</th>\n",
       "      <th>high</th>\n",
       "      <th>low</th>\n",
       "      <th>close</th>\n",
       "      <th>volume</th>\n",
       "    </tr>\n",
       "  </thead>\n",
       "  <tbody>\n",
       "    <tr>\n",
       "      <th>[2020-05-15 09:30:00, 2020-05-15 10:30:00)</th>\n",
       "      <td>195.399994</td>\n",
       "      <td>196.100006</td>\n",
       "      <td>194.100006</td>\n",
       "      <td>194.500000</td>\n",
       "      <td>0</td>\n",
       "    </tr>\n",
       "    <tr>\n",
       "      <th>[2020-05-15 10:30:00, 2020-05-15 11:30:00)</th>\n",
       "      <td>194.500000</td>\n",
       "      <td>195.800003</td>\n",
       "      <td>194.300003</td>\n",
       "      <td>195.800003</td>\n",
       "      <td>1430128</td>\n",
       "    </tr>\n",
       "    <tr>\n",
       "      <th>[2020-05-15 11:30:00, 2020-05-15 12:00:00)</th>\n",
       "      <td>195.800003</td>\n",
       "      <td>196.000000</td>\n",
       "      <td>195.399994</td>\n",
       "      <td>196.000000</td>\n",
       "      <td>663560</td>\n",
       "    </tr>\n",
       "    <tr>\n",
       "      <th>[2020-05-15 13:00:00, 2020-05-15 13:30:00)</th>\n",
       "      <td>196.000000</td>\n",
       "      <td>196.699997</td>\n",
       "      <td>195.899994</td>\n",
       "      <td>196.500000</td>\n",
       "      <td>3349692</td>\n",
       "    </tr>\n",
       "    <tr>\n",
       "      <th>[2020-05-15 13:30:00, 2020-05-15 14:30:00)</th>\n",
       "      <td>196.500000</td>\n",
       "      <td>196.699997</td>\n",
       "      <td>196.000000</td>\n",
       "      <td>196.500000</td>\n",
       "      <td>4604192</td>\n",
       "    </tr>\n",
       "    <tr>\n",
       "      <th>[2020-05-15 14:30:00, 2020-05-15 15:30:00)</th>\n",
       "      <td>196.500000</td>\n",
       "      <td>197.100006</td>\n",
       "      <td>196.199997</td>\n",
       "      <td>196.800003</td>\n",
       "      <td>5395882</td>\n",
       "    </tr>\n",
       "    <tr>\n",
       "      <th>[2020-05-15 15:30:00, 2020-05-15 16:00:00)</th>\n",
       "      <td>196.800003</td>\n",
       "      <td>197.300003</td>\n",
       "      <td>196.600006</td>\n",
       "      <td>196.899994</td>\n",
       "      <td>6117562</td>\n",
       "    </tr>\n",
       "  </tbody>\n",
       "</table>\n",
       "</div>"
      ],
      "text/plain": [
       "symbol                                         9988.HK              \\\n",
       "                                                  open        high   \n",
       "[2020-05-15 09:30:00, 2020-05-15 10:30:00)  195.399994  196.100006   \n",
       "[2020-05-15 10:30:00, 2020-05-15 11:30:00)  194.500000  195.800003   \n",
       "[2020-05-15 11:30:00, 2020-05-15 12:00:00)  195.800003  196.000000   \n",
       "[2020-05-15 13:00:00, 2020-05-15 13:30:00)  196.000000  196.699997   \n",
       "[2020-05-15 13:30:00, 2020-05-15 14:30:00)  196.500000  196.699997   \n",
       "[2020-05-15 14:30:00, 2020-05-15 15:30:00)  196.500000  197.100006   \n",
       "[2020-05-15 15:30:00, 2020-05-15 16:00:00)  196.800003  197.300003   \n",
       "\n",
       "symbol                                                                       \n",
       "                                                   low       close   volume  \n",
       "[2020-05-15 09:30:00, 2020-05-15 10:30:00)  194.100006  194.500000        0  \n",
       "[2020-05-15 10:30:00, 2020-05-15 11:30:00)  194.300003  195.800003  1430128  \n",
       "[2020-05-15 11:30:00, 2020-05-15 12:00:00)  195.399994  196.000000   663560  \n",
       "[2020-05-15 13:00:00, 2020-05-15 13:30:00)  195.899994  196.500000  3349692  \n",
       "[2020-05-15 13:30:00, 2020-05-15 14:30:00)  196.000000  196.500000  4604192  \n",
       "[2020-05-15 14:30:00, 2020-05-15 15:30:00)  196.199997  196.800003  5395882  \n",
       "[2020-05-15 15:30:00, 2020-05-15 16:00:00)  196.600006  196.899994  6117562  "
      ]
     },
     "execution_count": 77,
     "metadata": {},
     "output_type": "execute_result"
    }
   ],
   "source": [
    "prices_hk.get(\"1H\", session_h1, session_h1, anchor=\"open\", force=True)"
   ]
  },
  {
   "cell_type": "markdown",
   "metadata": {},
   "source": [
    "Notice that the first indice of the afternoon session now only covers half an hour rather than the hour interval requested, i.e. forcing simply alters the indices that are there. The afternoon indices are still anchored on the morning open, not the afternoon open."
   ]
  },
  {
   "cell_type": "markdown",
   "metadata": {},
   "source": [
    "##### **Indices of trading indexes of different calendars overlap**\n",
    "\n",
    "The short version is that if the union of trading indexes of each associated calendar has at least one indice that partially overlaps another then any breaks will be ignored and all indices will all be anchored on the sessions' opens.\n",
    "\n",
    "The longer version follows (the rest of this cell can be safely ignored if you're not interested in what's going on under-the-bonnet)...\n",
    "\n",
    "`market_prices` gets prices from the data provider at intervals defined as `base intervals`. Collectively these base intervals provide for requesting all data that the provider makes available. Usually requests for prices at a base interval will be met by simply serving the data as provided by the source. For all other intervals, price data at a suitable base interval is downsampled to the requested interval. There are two ways that `market_prices` downsamples intraday data. The preference is to do this:-\n",
    "* For each calendar associated with the symbols a trading index is created at the request interval. A union of these indexes is then evaluated and its indices treated as 'bins'. Data from the base interval is then binned to the corresponding downsampled indice. It's quick and accurate, but only works if the union of the indexes contains no indice that partially overlaps another. Accordingly, it will always work when the trading indexes do not overlap (such as Hong Kong stocks and US stocks), and when the indexes do overlap although the indices fully align. Indices usually fully align for low regular intervals like 10T, 15T, 20T, 30T. Less regular intervals such as 7T, 25T, 40T are more likely to result in the indices of different indexes partially overlapping, as are high regular intervals such as 1H and higher.\n",
    "\n",
    "If the above approach is not possible (because indices of the unified index partially overlap) then `market_prices` 'simply' downsamples the base data and for each assumed session evaluates indices that are anchored to the open of the lead calendar (this is implemented by calling `.pt.downsample` on a subset of the base data). The downsampled data has no awareness of any breaks."
   ]
  },
  {
   "cell_type": "markdown",
   "metadata": {},
   "source": [
    "The following offers an example using prices that include stocks trading in London and Hong Kong. Unifiying the trading indexes for the xlon and xhkg calendars results in partial overlaps at certain intervals.\n",
    "\n",
    "During the summer, whilst DST is observed in London, London opens one hour prior to the Hong Kong close. During the winter London opens at the same time that Hong Kong closes. However, even when the Hong Kong close and London open align the trading indexes for the two exchanges can conflict - whenever the interval is such that the last Hong Kong indice of a session does not align with the Hong Kong close it will overlap with the first indice of the London session.\n",
    "\n",
    "Indices of the trading indexes for xlon and xhkg overlap at a 40 minute interval..."
   ]
  },
  {
   "cell_type": "code",
   "execution_count": 78,
   "metadata": {},
   "outputs": [
    {
     "data": {
      "text/html": [
       "<div>\n",
       "<style scoped>\n",
       "    .dataframe tbody tr th:only-of-type {\n",
       "        vertical-align: middle;\n",
       "    }\n",
       "\n",
       "    .dataframe tbody tr th {\n",
       "        vertical-align: top;\n",
       "    }\n",
       "\n",
       "    .dataframe thead tr th {\n",
       "        text-align: left;\n",
       "    }\n",
       "</style>\n",
       "<table border=\"1\" class=\"dataframe\">\n",
       "  <thead>\n",
       "    <tr>\n",
       "      <th>symbol</th>\n",
       "      <th colspan=\"5\" halign=\"left\">9988.HK</th>\n",
       "      <th colspan=\"5\" halign=\"left\">AZN.L</th>\n",
       "    </tr>\n",
       "    <tr>\n",
       "      <th></th>\n",
       "      <th>open</th>\n",
       "      <th>high</th>\n",
       "      <th>low</th>\n",
       "      <th>close</th>\n",
       "      <th>volume</th>\n",
       "      <th>open</th>\n",
       "      <th>high</th>\n",
       "      <th>low</th>\n",
       "      <th>close</th>\n",
       "      <th>volume</th>\n",
       "    </tr>\n",
       "  </thead>\n",
       "  <tbody>\n",
       "    <tr>\n",
       "      <th>[2022-04-19 09:30:00, 2022-04-19 10:20:00)</th>\n",
       "      <td>92.650002</td>\n",
       "      <td>93.449997</td>\n",
       "      <td>91.349998</td>\n",
       "      <td>91.800003</td>\n",
       "      <td>6318190.0</td>\n",
       "      <td>NaN</td>\n",
       "      <td>NaN</td>\n",
       "      <td>NaN</td>\n",
       "      <td>NaN</td>\n",
       "      <td>NaN</td>\n",
       "    </tr>\n",
       "    <tr>\n",
       "      <th>[2022-04-19 10:20:00, 2022-04-19 11:10:00)</th>\n",
       "      <td>91.800003</td>\n",
       "      <td>91.949997</td>\n",
       "      <td>91.199997</td>\n",
       "      <td>91.599998</td>\n",
       "      <td>3464268.0</td>\n",
       "      <td>NaN</td>\n",
       "      <td>NaN</td>\n",
       "      <td>NaN</td>\n",
       "      <td>NaN</td>\n",
       "      <td>NaN</td>\n",
       "    </tr>\n",
       "    <tr>\n",
       "      <th>[2022-04-19 11:10:00, 2022-04-19 12:00:00)</th>\n",
       "      <td>91.650002</td>\n",
       "      <td>92.699997</td>\n",
       "      <td>91.599998</td>\n",
       "      <td>92.150002</td>\n",
       "      <td>3243483.0</td>\n",
       "      <td>NaN</td>\n",
       "      <td>NaN</td>\n",
       "      <td>NaN</td>\n",
       "      <td>NaN</td>\n",
       "      <td>NaN</td>\n",
       "    </tr>\n",
       "    <tr>\n",
       "      <th>[2022-04-19 12:50:00, 2022-04-19 13:40:00)</th>\n",
       "      <td>92.150002</td>\n",
       "      <td>92.750000</td>\n",
       "      <td>91.949997</td>\n",
       "      <td>92.199997</td>\n",
       "      <td>2180445.0</td>\n",
       "      <td>NaN</td>\n",
       "      <td>NaN</td>\n",
       "      <td>NaN</td>\n",
       "      <td>NaN</td>\n",
       "      <td>NaN</td>\n",
       "    </tr>\n",
       "    <tr>\n",
       "      <th>[2022-04-19 13:40:00, 2022-04-19 14:30:00)</th>\n",
       "      <td>92.150002</td>\n",
       "      <td>92.150002</td>\n",
       "      <td>91.250000</td>\n",
       "      <td>91.550003</td>\n",
       "      <td>3792521.0</td>\n",
       "      <td>NaN</td>\n",
       "      <td>NaN</td>\n",
       "      <td>NaN</td>\n",
       "      <td>NaN</td>\n",
       "      <td>NaN</td>\n",
       "    </tr>\n",
       "    <tr>\n",
       "      <th>[2022-04-19 14:30:00, 2022-04-19 15:20:00)</th>\n",
       "      <td>91.550003</td>\n",
       "      <td>91.900002</td>\n",
       "      <td>91.099998</td>\n",
       "      <td>91.300003</td>\n",
       "      <td>3923523.0</td>\n",
       "      <td>10452.000000</td>\n",
       "      <td>10550.00000</td>\n",
       "      <td>10430.0</td>\n",
       "      <td>10502.780273</td>\n",
       "      <td>50548.0</td>\n",
       "    </tr>\n",
       "    <tr>\n",
       "      <th>[2022-04-19 15:20:00, 2022-04-19 16:10:00)</th>\n",
       "      <td>91.300003</td>\n",
       "      <td>91.849998</td>\n",
       "      <td>90.900002</td>\n",
       "      <td>91.400002</td>\n",
       "      <td>5742434.0</td>\n",
       "      <td>10502.000000</td>\n",
       "      <td>10534.00000</td>\n",
       "      <td>10478.0</td>\n",
       "      <td>10512.000000</td>\n",
       "      <td>93459.0</td>\n",
       "    </tr>\n",
       "    <tr>\n",
       "      <th>[2022-04-19 16:10:00, 2022-04-19 17:00:00)</th>\n",
       "      <td>NaN</td>\n",
       "      <td>NaN</td>\n",
       "      <td>NaN</td>\n",
       "      <td>NaN</td>\n",
       "      <td>NaN</td>\n",
       "      <td>10503.099609</td>\n",
       "      <td>10519.78418</td>\n",
       "      <td>10454.0</td>\n",
       "      <td>10458.839844</td>\n",
       "      <td>51744.0</td>\n",
       "    </tr>\n",
       "    <tr>\n",
       "      <th>[2022-04-19 17:00:00, 2022-04-19 17:50:00)</th>\n",
       "      <td>NaN</td>\n",
       "      <td>NaN</td>\n",
       "      <td>NaN</td>\n",
       "      <td>NaN</td>\n",
       "      <td>NaN</td>\n",
       "      <td>10458.000000</td>\n",
       "      <td>10490.00000</td>\n",
       "      <td>10428.0</td>\n",
       "      <td>10454.000000</td>\n",
       "      <td>77563.0</td>\n",
       "    </tr>\n",
       "    <tr>\n",
       "      <th>[2022-04-19 17:50:00, 2022-04-19 18:40:00)</th>\n",
       "      <td>NaN</td>\n",
       "      <td>NaN</td>\n",
       "      <td>NaN</td>\n",
       "      <td>NaN</td>\n",
       "      <td>NaN</td>\n",
       "      <td>10456.000000</td>\n",
       "      <td>10530.00000</td>\n",
       "      <td>10450.0</td>\n",
       "      <td>10522.200195</td>\n",
       "      <td>71477.0</td>\n",
       "    </tr>\n",
       "    <tr>\n",
       "      <th>[2022-04-19 18:40:00, 2022-04-19 19:30:00)</th>\n",
       "      <td>NaN</td>\n",
       "      <td>NaN</td>\n",
       "      <td>NaN</td>\n",
       "      <td>NaN</td>\n",
       "      <td>NaN</td>\n",
       "      <td>10522.000000</td>\n",
       "      <td>10526.00000</td>\n",
       "      <td>10478.0</td>\n",
       "      <td>10512.000000</td>\n",
       "      <td>538050.0</td>\n",
       "    </tr>\n",
       "  </tbody>\n",
       "</table>\n",
       "</div>"
      ],
      "text/plain": [
       "symbol                                        9988.HK                        \\\n",
       "                                                 open       high        low   \n",
       "[2022-04-19 09:30:00, 2022-04-19 10:20:00)  92.650002  93.449997  91.349998   \n",
       "[2022-04-19 10:20:00, 2022-04-19 11:10:00)  91.800003  91.949997  91.199997   \n",
       "[2022-04-19 11:10:00, 2022-04-19 12:00:00)  91.650002  92.699997  91.599998   \n",
       "[2022-04-19 12:50:00, 2022-04-19 13:40:00)  92.150002  92.750000  91.949997   \n",
       "[2022-04-19 13:40:00, 2022-04-19 14:30:00)  92.150002  92.150002  91.250000   \n",
       "[2022-04-19 14:30:00, 2022-04-19 15:20:00)  91.550003  91.900002  91.099998   \n",
       "[2022-04-19 15:20:00, 2022-04-19 16:10:00)  91.300003  91.849998  90.900002   \n",
       "[2022-04-19 16:10:00, 2022-04-19 17:00:00)        NaN        NaN        NaN   \n",
       "[2022-04-19 17:00:00, 2022-04-19 17:50:00)        NaN        NaN        NaN   \n",
       "[2022-04-19 17:50:00, 2022-04-19 18:40:00)        NaN        NaN        NaN   \n",
       "[2022-04-19 18:40:00, 2022-04-19 19:30:00)        NaN        NaN        NaN   \n",
       "\n",
       "symbol                                                            \\\n",
       "                                                close     volume   \n",
       "[2022-04-19 09:30:00, 2022-04-19 10:20:00)  91.800003  6318190.0   \n",
       "[2022-04-19 10:20:00, 2022-04-19 11:10:00)  91.599998  3464268.0   \n",
       "[2022-04-19 11:10:00, 2022-04-19 12:00:00)  92.150002  3243483.0   \n",
       "[2022-04-19 12:50:00, 2022-04-19 13:40:00)  92.199997  2180445.0   \n",
       "[2022-04-19 13:40:00, 2022-04-19 14:30:00)  91.550003  3792521.0   \n",
       "[2022-04-19 14:30:00, 2022-04-19 15:20:00)  91.300003  3923523.0   \n",
       "[2022-04-19 15:20:00, 2022-04-19 16:10:00)  91.400002  5742434.0   \n",
       "[2022-04-19 16:10:00, 2022-04-19 17:00:00)        NaN        NaN   \n",
       "[2022-04-19 17:00:00, 2022-04-19 17:50:00)        NaN        NaN   \n",
       "[2022-04-19 17:50:00, 2022-04-19 18:40:00)        NaN        NaN   \n",
       "[2022-04-19 18:40:00, 2022-04-19 19:30:00)        NaN        NaN   \n",
       "\n",
       "symbol                                             AZN.L               \\\n",
       "                                                    open         high   \n",
       "[2022-04-19 09:30:00, 2022-04-19 10:20:00)           NaN          NaN   \n",
       "[2022-04-19 10:20:00, 2022-04-19 11:10:00)           NaN          NaN   \n",
       "[2022-04-19 11:10:00, 2022-04-19 12:00:00)           NaN          NaN   \n",
       "[2022-04-19 12:50:00, 2022-04-19 13:40:00)           NaN          NaN   \n",
       "[2022-04-19 13:40:00, 2022-04-19 14:30:00)           NaN          NaN   \n",
       "[2022-04-19 14:30:00, 2022-04-19 15:20:00)  10452.000000  10550.00000   \n",
       "[2022-04-19 15:20:00, 2022-04-19 16:10:00)  10502.000000  10534.00000   \n",
       "[2022-04-19 16:10:00, 2022-04-19 17:00:00)  10503.099609  10519.78418   \n",
       "[2022-04-19 17:00:00, 2022-04-19 17:50:00)  10458.000000  10490.00000   \n",
       "[2022-04-19 17:50:00, 2022-04-19 18:40:00)  10456.000000  10530.00000   \n",
       "[2022-04-19 18:40:00, 2022-04-19 19:30:00)  10522.000000  10526.00000   \n",
       "\n",
       "symbol                                                                       \n",
       "                                                low         close    volume  \n",
       "[2022-04-19 09:30:00, 2022-04-19 10:20:00)      NaN           NaN       NaN  \n",
       "[2022-04-19 10:20:00, 2022-04-19 11:10:00)      NaN           NaN       NaN  \n",
       "[2022-04-19 11:10:00, 2022-04-19 12:00:00)      NaN           NaN       NaN  \n",
       "[2022-04-19 12:50:00, 2022-04-19 13:40:00)      NaN           NaN       NaN  \n",
       "[2022-04-19 13:40:00, 2022-04-19 14:30:00)      NaN           NaN       NaN  \n",
       "[2022-04-19 14:30:00, 2022-04-19 15:20:00)  10430.0  10502.780273   50548.0  \n",
       "[2022-04-19 15:20:00, 2022-04-19 16:10:00)  10478.0  10512.000000   93459.0  \n",
       "[2022-04-19 16:10:00, 2022-04-19 17:00:00)  10454.0  10458.839844   51744.0  \n",
       "[2022-04-19 17:00:00, 2022-04-19 17:50:00)  10428.0  10454.000000   77563.0  \n",
       "[2022-04-19 17:50:00, 2022-04-19 18:40:00)  10450.0  10522.200195   71477.0  \n",
       "[2022-04-19 18:40:00, 2022-04-19 19:30:00)  10478.0  10512.000000  538050.0  "
      ]
     },
     "execution_count": 78,
     "metadata": {},
     "output_type": "execute_result"
    }
   ],
   "source": [
    "prices_hk_lon = PricesYahoo(\"9988.HK, AZN.L\")\n",
    "df = prices_hk_lon.get(\"50T\", start_session, end_session, lead_symbol=\"9988.HK\", anchor=\"open\")\n",
    "df.iloc[:11]  # only show up to the most relevant part"
   ]
  },
  {
   "cell_type": "markdown",
   "metadata": {},
   "source": [
    "The first indice of the afternoon session starts at 12:50, i.e. 10 minutes before the afternoon open. This is because the indice is anchored on the morning open. The indice from 12:00 - 12:50 is excluded simply because there would be no price data for this indice (neither exchange is open during this period).\n",
    "\n",
    "As with the example for the data source not observing the break, `force` could be passed so that the first indice of the afternoon session starts at 13:00, although this indice would only cover 40 minutes (albeit all of which would be trading minutes)."
   ]
  },
  {
   "cell_type": "markdown",
   "metadata": {},
   "source": [
    "### `anchor` \"workback\" with multiple calendars"
   ]
  },
  {
   "cell_type": "markdown",
   "metadata": {},
   "source": [
    "Anchoring as \"workback\" is pretty much the same for symbols associated with different calendars as it is for [symbols associated with a single calendars](#anchor-\"workback\"). The indices are still evaluated based on a regular number of trading minutes, the only difference being that the 'trading minutes' are evaluted as trading minutes of **any** of the associated calendars."
   ]
  },
  {
   "cell_type": "code",
   "execution_count": 79,
   "metadata": {},
   "outputs": [
    {
     "data": {
      "text/html": [
       "<div>\n",
       "<style scoped>\n",
       "    .dataframe tbody tr th:only-of-type {\n",
       "        vertical-align: middle;\n",
       "    }\n",
       "\n",
       "    .dataframe tbody tr th {\n",
       "        vertical-align: top;\n",
       "    }\n",
       "\n",
       "    .dataframe thead tr th {\n",
       "        text-align: left;\n",
       "    }\n",
       "</style>\n",
       "<table border=\"1\" class=\"dataframe\">\n",
       "  <thead>\n",
       "    <tr>\n",
       "      <th>symbol</th>\n",
       "      <th colspan=\"5\" halign=\"left\">MSFT</th>\n",
       "      <th colspan=\"5\" halign=\"left\">AZN.L</th>\n",
       "    </tr>\n",
       "    <tr>\n",
       "      <th></th>\n",
       "      <th>open</th>\n",
       "      <th>high</th>\n",
       "      <th>low</th>\n",
       "      <th>close</th>\n",
       "      <th>volume</th>\n",
       "      <th>open</th>\n",
       "      <th>high</th>\n",
       "      <th>low</th>\n",
       "      <th>close</th>\n",
       "      <th>volume</th>\n",
       "    </tr>\n",
       "  </thead>\n",
       "  <tbody>\n",
       "    <tr>\n",
       "      <th>[2022-04-19 11:00:00, 2022-04-19 13:00:00)</th>\n",
       "      <td>283.880005</td>\n",
       "      <td>284.820007</td>\n",
       "      <td>283.290009</td>\n",
       "      <td>283.809998</td>\n",
       "      <td>3584194.0</td>\n",
       "      <td>10520.0</td>\n",
       "      <td>10530.0</td>\n",
       "      <td>10502.0</td>\n",
       "      <td>10506.000000</td>\n",
       "      <td>100242.0</td>\n",
       "    </tr>\n",
       "    <tr>\n",
       "      <th>[2022-04-19 13:00:00, 2022-04-19 15:00:00)</th>\n",
       "      <td>283.780304</td>\n",
       "      <td>284.359985</td>\n",
       "      <td>282.910004</td>\n",
       "      <td>284.260010</td>\n",
       "      <td>3642416.0</td>\n",
       "      <td>NaN</td>\n",
       "      <td>NaN</td>\n",
       "      <td>NaN</td>\n",
       "      <td>NaN</td>\n",
       "      <td>NaN</td>\n",
       "    </tr>\n",
       "    <tr>\n",
       "      <th>[2022-04-19 15:00:00, 2022-04-20 04:00:00)</th>\n",
       "      <td>284.279999</td>\n",
       "      <td>286.170013</td>\n",
       "      <td>284.049988</td>\n",
       "      <td>285.380005</td>\n",
       "      <td>4564482.0</td>\n",
       "      <td>10394.0</td>\n",
       "      <td>10482.0</td>\n",
       "      <td>10392.0</td>\n",
       "      <td>10444.000000</td>\n",
       "      <td>119879.0</td>\n",
       "    </tr>\n",
       "    <tr>\n",
       "      <th>[2022-04-20 04:00:00, 2022-04-20 06:00:00)</th>\n",
       "      <td>NaN</td>\n",
       "      <td>NaN</td>\n",
       "      <td>NaN</td>\n",
       "      <td>NaN</td>\n",
       "      <td>NaN</td>\n",
       "      <td>10448.0</td>\n",
       "      <td>10496.0</td>\n",
       "      <td>10394.0</td>\n",
       "      <td>10488.000000</td>\n",
       "      <td>1177311.0</td>\n",
       "    </tr>\n",
       "    <tr>\n",
       "      <th>[2022-04-20 06:00:00, 2022-04-20 08:00:00)</th>\n",
       "      <td>NaN</td>\n",
       "      <td>NaN</td>\n",
       "      <td>NaN</td>\n",
       "      <td>NaN</td>\n",
       "      <td>NaN</td>\n",
       "      <td>10488.0</td>\n",
       "      <td>10494.0</td>\n",
       "      <td>10394.0</td>\n",
       "      <td>10436.900391</td>\n",
       "      <td>152432.0</td>\n",
       "    </tr>\n",
       "    <tr>\n",
       "      <th>[2022-04-20 08:00:00, 2022-04-20 10:00:00)</th>\n",
       "      <td>289.399994</td>\n",
       "      <td>289.700012</td>\n",
       "      <td>285.980011</td>\n",
       "      <td>286.399994</td>\n",
       "      <td>3810859.0</td>\n",
       "      <td>10436.0</td>\n",
       "      <td>10450.0</td>\n",
       "      <td>10392.0</td>\n",
       "      <td>10418.000000</td>\n",
       "      <td>650291.0</td>\n",
       "    </tr>\n",
       "    <tr>\n",
       "      <th>[2022-04-20 10:00:00, 2022-04-20 12:00:00)</th>\n",
       "      <td>286.380005</td>\n",
       "      <td>288.890015</td>\n",
       "      <td>285.799988</td>\n",
       "      <td>287.170013</td>\n",
       "      <td>5632208.0</td>\n",
       "      <td>10416.0</td>\n",
       "      <td>10490.0</td>\n",
       "      <td>10394.0</td>\n",
       "      <td>10468.000000</td>\n",
       "      <td>723708.0</td>\n",
       "    </tr>\n",
       "    <tr>\n",
       "      <th>[2022-04-20 12:00:00, 2022-04-20 14:00:00)</th>\n",
       "      <td>287.209991</td>\n",
       "      <td>288.010010</td>\n",
       "      <td>285.370209</td>\n",
       "      <td>287.570007</td>\n",
       "      <td>3479485.0</td>\n",
       "      <td>NaN</td>\n",
       "      <td>NaN</td>\n",
       "      <td>NaN</td>\n",
       "      <td>NaN</td>\n",
       "      <td>NaN</td>\n",
       "    </tr>\n",
       "    <tr>\n",
       "      <th>[2022-04-20 14:00:00, 2022-04-20 16:00:00)</th>\n",
       "      <td>287.549988</td>\n",
       "      <td>288.119904</td>\n",
       "      <td>285.519989</td>\n",
       "      <td>286.309998</td>\n",
       "      <td>6419743.0</td>\n",
       "      <td>NaN</td>\n",
       "      <td>NaN</td>\n",
       "      <td>NaN</td>\n",
       "      <td>NaN</td>\n",
       "      <td>NaN</td>\n",
       "    </tr>\n",
       "  </tbody>\n",
       "</table>\n",
       "</div>"
      ],
      "text/plain": [
       "symbol                                            MSFT              \\\n",
       "                                                  open        high   \n",
       "[2022-04-19 11:00:00, 2022-04-19 13:00:00)  283.880005  284.820007   \n",
       "[2022-04-19 13:00:00, 2022-04-19 15:00:00)  283.780304  284.359985   \n",
       "[2022-04-19 15:00:00, 2022-04-20 04:00:00)  284.279999  286.170013   \n",
       "[2022-04-20 04:00:00, 2022-04-20 06:00:00)         NaN         NaN   \n",
       "[2022-04-20 06:00:00, 2022-04-20 08:00:00)         NaN         NaN   \n",
       "[2022-04-20 08:00:00, 2022-04-20 10:00:00)  289.399994  289.700012   \n",
       "[2022-04-20 10:00:00, 2022-04-20 12:00:00)  286.380005  288.890015   \n",
       "[2022-04-20 12:00:00, 2022-04-20 14:00:00)  287.209991  288.010010   \n",
       "[2022-04-20 14:00:00, 2022-04-20 16:00:00)  287.549988  288.119904   \n",
       "\n",
       "symbol                                                                         \\\n",
       "                                                   low       close     volume   \n",
       "[2022-04-19 11:00:00, 2022-04-19 13:00:00)  283.290009  283.809998  3584194.0   \n",
       "[2022-04-19 13:00:00, 2022-04-19 15:00:00)  282.910004  284.260010  3642416.0   \n",
       "[2022-04-19 15:00:00, 2022-04-20 04:00:00)  284.049988  285.380005  4564482.0   \n",
       "[2022-04-20 04:00:00, 2022-04-20 06:00:00)         NaN         NaN        NaN   \n",
       "[2022-04-20 06:00:00, 2022-04-20 08:00:00)         NaN         NaN        NaN   \n",
       "[2022-04-20 08:00:00, 2022-04-20 10:00:00)  285.980011  286.399994  3810859.0   \n",
       "[2022-04-20 10:00:00, 2022-04-20 12:00:00)  285.799988  287.170013  5632208.0   \n",
       "[2022-04-20 12:00:00, 2022-04-20 14:00:00)  285.370209  287.570007  3479485.0   \n",
       "[2022-04-20 14:00:00, 2022-04-20 16:00:00)  285.519989  286.309998  6419743.0   \n",
       "\n",
       "symbol                                        AZN.L                    \\\n",
       "                                               open     high      low   \n",
       "[2022-04-19 11:00:00, 2022-04-19 13:00:00)  10520.0  10530.0  10502.0   \n",
       "[2022-04-19 13:00:00, 2022-04-19 15:00:00)      NaN      NaN      NaN   \n",
       "[2022-04-19 15:00:00, 2022-04-20 04:00:00)  10394.0  10482.0  10392.0   \n",
       "[2022-04-20 04:00:00, 2022-04-20 06:00:00)  10448.0  10496.0  10394.0   \n",
       "[2022-04-20 06:00:00, 2022-04-20 08:00:00)  10488.0  10494.0  10394.0   \n",
       "[2022-04-20 08:00:00, 2022-04-20 10:00:00)  10436.0  10450.0  10392.0   \n",
       "[2022-04-20 10:00:00, 2022-04-20 12:00:00)  10416.0  10490.0  10394.0   \n",
       "[2022-04-20 12:00:00, 2022-04-20 14:00:00)      NaN      NaN      NaN   \n",
       "[2022-04-20 14:00:00, 2022-04-20 16:00:00)      NaN      NaN      NaN   \n",
       "\n",
       "symbol                                                               \n",
       "                                                   close     volume  \n",
       "[2022-04-19 11:00:00, 2022-04-19 13:00:00)  10506.000000   100242.0  \n",
       "[2022-04-19 13:00:00, 2022-04-19 15:00:00)           NaN        NaN  \n",
       "[2022-04-19 15:00:00, 2022-04-20 04:00:00)  10444.000000   119879.0  \n",
       "[2022-04-20 04:00:00, 2022-04-20 06:00:00)  10488.000000  1177311.0  \n",
       "[2022-04-20 06:00:00, 2022-04-20 08:00:00)  10436.900391   152432.0  \n",
       "[2022-04-20 08:00:00, 2022-04-20 10:00:00)  10418.000000   650291.0  \n",
       "[2022-04-20 10:00:00, 2022-04-20 12:00:00)  10468.000000   723708.0  \n",
       "[2022-04-20 12:00:00, 2022-04-20 14:00:00)           NaN        NaN  \n",
       "[2022-04-20 14:00:00, 2022-04-20 16:00:00)           NaN        NaN  "
      ]
     },
     "execution_count": 79,
     "metadata": {},
     "output_type": "execute_result"
    }
   ],
   "source": [
    "df = prices_us_lon.get(\"2H\", start_session, end_session, lead_symbol=\"MSFT\", anchor=\"workback\")\n",
    "df"
   ]
  },
  {
   "cell_type": "markdown",
   "metadata": {},
   "source": [
    "The right of the last indice is anchored to the evaluated period end (end of the second MSFT session) from where indices are evaluated backwards such that they each comprise 2 hours of trading minutes, regardless of whether those minutes relate to a period when the London market was open, when the New York market was open, or when both markets were open."
   ]
  },
  {
   "cell_type": "code",
   "execution_count": 80,
   "metadata": {},
   "outputs": [
    {
     "data": {
      "text/plain": [
       "[2022-04-19 11:00:00, 2022-04-19 13:00:00)     30\n",
       "[2022-04-19 13:00:00, 2022-04-19 15:00:00)      0\n",
       "[2022-04-19 15:00:00, 2022-04-20 04:00:00)     60\n",
       "[2022-04-20 04:00:00, 2022-04-20 06:00:00)    120\n",
       "[2022-04-20 06:00:00, 2022-04-20 08:00:00)    120\n",
       "[2022-04-20 08:00:00, 2022-04-20 10:00:00)    120\n",
       "[2022-04-20 10:00:00, 2022-04-20 12:00:00)     90\n",
       "[2022-04-20 12:00:00, 2022-04-20 14:00:00)      0\n",
       "[2022-04-20 14:00:00, 2022-04-20 16:00:00)      0\n",
       "Name: trading_mins, dtype: int64"
      ]
     },
     "execution_count": 80,
     "metadata": {},
     "output_type": "execute_result"
    }
   ],
   "source": [
    "df.pt.indices_trading_minutes(xlon)"
   ]
  },
  {
   "cell_type": "code",
   "execution_count": 81,
   "metadata": {},
   "outputs": [
    {
     "data": {
      "text/plain": [
       "[2022-04-19 11:00:00, 2022-04-19 13:00:00)    120\n",
       "[2022-04-19 13:00:00, 2022-04-19 15:00:00)    120\n",
       "[2022-04-19 15:00:00, 2022-04-20 04:00:00)     60\n",
       "[2022-04-20 04:00:00, 2022-04-20 06:00:00)      0\n",
       "[2022-04-20 06:00:00, 2022-04-20 08:00:00)      0\n",
       "[2022-04-20 08:00:00, 2022-04-20 10:00:00)     30\n",
       "[2022-04-20 10:00:00, 2022-04-20 12:00:00)    120\n",
       "[2022-04-20 12:00:00, 2022-04-20 14:00:00)    120\n",
       "[2022-04-20 14:00:00, 2022-04-20 16:00:00)    120\n",
       "Name: trading_mins, dtype: int64"
      ]
     },
     "execution_count": 81,
     "metadata": {},
     "output_type": "execute_result"
    }
   ],
   "source": [
    "df.pt.indices_trading_minutes(xnys)"
   ]
  },
  {
   "cell_type": "markdown",
   "metadata": {},
   "source": [
    "### `openend`"
   ]
  },
  {
   "cell_type": "markdown",
   "metadata": {},
   "source": [
    "The `opened` parameter was introduced [earlier in this tutorial](#Force-to-period-end-with-openend). The option is further explored here in the context of symbols associated with multiple calendars, specifically Bitcoin and the UK listing of the equity AstraZeneca."
   ]
  },
  {
   "cell_type": "code",
   "execution_count": 82,
   "metadata": {},
   "outputs": [],
   "source": [
    "prices_uk_247 = PricesYahoo([\"AZN.L\", \"BTC-USD\"], lead_symbol=\"AZN.L\")"
   ]
  },
  {
   "cell_type": "markdown",
   "metadata": {},
   "source": [
    "Bitcoin trades continuously 24/7 whilst AstraZeneca trades on the London Stock Exchange. The following cell shows the local open and close for a specific session of the LSE."
   ]
  },
  {
   "cell_type": "code",
   "execution_count": 83,
   "metadata": {},
   "outputs": [
    {
     "data": {
      "text/plain": [
       "(Timestamp('2022-04-20 08:00:00+0100', tz='Europe/London'),\n",
       " Timestamp('2022-04-20 16:30:00+0100', tz='Europe/London'))"
      ]
     },
     "execution_count": 83,
     "metadata": {},
     "output_type": "execute_result"
    }
   ],
   "source": [
    "start, end = xlon.session_open_close(session)\n",
    "# put in terms of local tz for ease of reference\n",
    "start = start.astimezone(prices_uk_247.tz_default)\n",
    "end = end.astimezone(prices_uk_247.tz_default)\n",
    "# for reference\n",
    "start, end"
   ]
  },
  {
   "cell_type": "markdown",
   "metadata": {},
   "source": [
    "Let's get prices at a 2 hour interval between these session bounds..."
   ]
  },
  {
   "cell_type": "code",
   "execution_count": 84,
   "metadata": {},
   "outputs": [
    {
     "data": {
      "text/html": [
       "<div>\n",
       "<style scoped>\n",
       "    .dataframe tbody tr th:only-of-type {\n",
       "        vertical-align: middle;\n",
       "    }\n",
       "\n",
       "    .dataframe tbody tr th {\n",
       "        vertical-align: top;\n",
       "    }\n",
       "\n",
       "    .dataframe thead tr th {\n",
       "        text-align: left;\n",
       "    }\n",
       "</style>\n",
       "<table border=\"1\" class=\"dataframe\">\n",
       "  <thead>\n",
       "    <tr>\n",
       "      <th>symbol</th>\n",
       "      <th colspan=\"5\" halign=\"left\">AZN.L</th>\n",
       "      <th colspan=\"5\" halign=\"left\">BTC-USD</th>\n",
       "    </tr>\n",
       "    <tr>\n",
       "      <th></th>\n",
       "      <th>open</th>\n",
       "      <th>high</th>\n",
       "      <th>low</th>\n",
       "      <th>close</th>\n",
       "      <th>volume</th>\n",
       "      <th>open</th>\n",
       "      <th>high</th>\n",
       "      <th>low</th>\n",
       "      <th>close</th>\n",
       "      <th>volume</th>\n",
       "    </tr>\n",
       "  </thead>\n",
       "  <tbody>\n",
       "    <tr>\n",
       "      <th>[2022-04-20 08:00:00, 2022-04-20 10:00:00)</th>\n",
       "      <td>10394.000000</td>\n",
       "      <td>10482.0</td>\n",
       "      <td>10392.0</td>\n",
       "      <td>10448.0</td>\n",
       "      <td>97362.0</td>\n",
       "      <td>41444.296875</td>\n",
       "      <td>41526.152344</td>\n",
       "      <td>41332.937500</td>\n",
       "      <td>41476.156250</td>\n",
       "      <td>4.894884e+08</td>\n",
       "    </tr>\n",
       "    <tr>\n",
       "      <th>[2022-04-20 10:00:00, 2022-04-20 12:00:00)</th>\n",
       "      <td>10450.000000</td>\n",
       "      <td>10496.0</td>\n",
       "      <td>10394.0</td>\n",
       "      <td>10456.0</td>\n",
       "      <td>1171999.0</td>\n",
       "      <td>41489.980469</td>\n",
       "      <td>41822.742188</td>\n",
       "      <td>41473.695312</td>\n",
       "      <td>41795.542969</td>\n",
       "      <td>1.266676e+09</td>\n",
       "    </tr>\n",
       "    <tr>\n",
       "      <th>[2022-04-20 12:00:00, 2022-04-20 14:00:00)</th>\n",
       "      <td>10456.908203</td>\n",
       "      <td>10458.0</td>\n",
       "      <td>10412.0</td>\n",
       "      <td>10442.0</td>\n",
       "      <td>112627.0</td>\n",
       "      <td>41801.343750</td>\n",
       "      <td>42126.300781</td>\n",
       "      <td>41745.746094</td>\n",
       "      <td>42119.339844</td>\n",
       "      <td>1.451430e+09</td>\n",
       "    </tr>\n",
       "    <tr>\n",
       "      <th>[2022-04-20 14:00:00, 2022-04-20 16:00:00)</th>\n",
       "      <td>10444.000000</td>\n",
       "      <td>10490.0</td>\n",
       "      <td>10392.0</td>\n",
       "      <td>10458.0</td>\n",
       "      <td>1240866.0</td>\n",
       "      <td>42117.835938</td>\n",
       "      <td>42118.371094</td>\n",
       "      <td>41571.230469</td>\n",
       "      <td>41581.796875</td>\n",
       "      <td>0.000000e+00</td>\n",
       "    </tr>\n",
       "  </tbody>\n",
       "</table>\n",
       "</div>"
      ],
      "text/plain": [
       "symbol                                             AZN.L                    \\\n",
       "                                                    open     high      low   \n",
       "[2022-04-20 08:00:00, 2022-04-20 10:00:00)  10394.000000  10482.0  10392.0   \n",
       "[2022-04-20 10:00:00, 2022-04-20 12:00:00)  10450.000000  10496.0  10394.0   \n",
       "[2022-04-20 12:00:00, 2022-04-20 14:00:00)  10456.908203  10458.0  10412.0   \n",
       "[2022-04-20 14:00:00, 2022-04-20 16:00:00)  10444.000000  10490.0  10392.0   \n",
       "\n",
       "symbol                                                               BTC-USD  \\\n",
       "                                              close     volume          open   \n",
       "[2022-04-20 08:00:00, 2022-04-20 10:00:00)  10448.0    97362.0  41444.296875   \n",
       "[2022-04-20 10:00:00, 2022-04-20 12:00:00)  10456.0  1171999.0  41489.980469   \n",
       "[2022-04-20 12:00:00, 2022-04-20 14:00:00)  10442.0   112627.0  41801.343750   \n",
       "[2022-04-20 14:00:00, 2022-04-20 16:00:00)  10458.0  1240866.0  42117.835938   \n",
       "\n",
       "symbol                                                                  \\\n",
       "                                                    high           low   \n",
       "[2022-04-20 08:00:00, 2022-04-20 10:00:00)  41526.152344  41332.937500   \n",
       "[2022-04-20 10:00:00, 2022-04-20 12:00:00)  41822.742188  41473.695312   \n",
       "[2022-04-20 12:00:00, 2022-04-20 14:00:00)  42126.300781  41745.746094   \n",
       "[2022-04-20 14:00:00, 2022-04-20 16:00:00)  42118.371094  41571.230469   \n",
       "\n",
       "symbol                                                                  \n",
       "                                                   close        volume  \n",
       "[2022-04-20 08:00:00, 2022-04-20 10:00:00)  41476.156250  4.894884e+08  \n",
       "[2022-04-20 10:00:00, 2022-04-20 12:00:00)  41795.542969  1.266676e+09  \n",
       "[2022-04-20 12:00:00, 2022-04-20 14:00:00)  42119.339844  1.451430e+09  \n",
       "[2022-04-20 14:00:00, 2022-04-20 16:00:00)  41581.796875  0.000000e+00  "
      ]
     },
     "execution_count": 84,
     "metadata": {},
     "output_type": "execute_result"
    }
   ],
   "source": [
    "prices_uk_247.get(\"2H\", start, end)"
   ]
  },
  {
   "cell_type": "markdown",
   "metadata": {},
   "source": [
    "Although the session closes at 16.30, the last indice only offers prices through to 16:00, i.e. prices for the last half hour of the trading day are not included.\n",
    "\n",
    "As in the [earlier example]((#Force-to-period-end-with-openend), the period end is an unaligned session close. Although unlike the earlier example, where the right side of the last indice fell after the session close, here the right side of the last indice falls before the session close. The reason for the difference is that including a further indice here, from 16:00 through 18:00, would result in the inclusion of prices for Bitcoin from 16.30 through 18.00, and in accordance with the Golden Rule, no prices are ever included before the period start or after the period end.\n",
    "\n",
    "Both examples show how the default `openend` option, **\"maintain\"**, ensures **the interval is maintained when the period end is an unaligned session close**. The difference in the two examples is whether the right side of the final indice fell after or before the session close.\n",
    "* If no symbol trades in the period betweeen the unaligned session close and the right of the indice that contains the session close then the right side of the final indice will fall after the session close (as in the earlier example for the single symbol \"MSFT\").\n",
    "* If any symbol trades in the period betweeen the unaligned session close and the right of the indice that contains the session close then the final indice will be the latest indice with a right side that preceeds the session close, i.e. the right of the final indice will fall to the left of the session close, as in the example above.\n",
    "\n",
    "As in the earlier example, if reflecting the period end is more important than maintaining the interval then `openend` can be passed as **\"shorten\"** to shorten the final indice so that it runs to the period end."
   ]
  },
  {
   "cell_type": "code",
   "execution_count": 85,
   "metadata": {},
   "outputs": [
    {
     "data": {
      "text/html": [
       "<div>\n",
       "<style scoped>\n",
       "    .dataframe tbody tr th:only-of-type {\n",
       "        vertical-align: middle;\n",
       "    }\n",
       "\n",
       "    .dataframe tbody tr th {\n",
       "        vertical-align: top;\n",
       "    }\n",
       "\n",
       "    .dataframe thead tr th {\n",
       "        text-align: left;\n",
       "    }\n",
       "</style>\n",
       "<table border=\"1\" class=\"dataframe\">\n",
       "  <thead>\n",
       "    <tr>\n",
       "      <th>symbol</th>\n",
       "      <th colspan=\"5\" halign=\"left\">AZN.L</th>\n",
       "      <th colspan=\"5\" halign=\"left\">BTC-USD</th>\n",
       "    </tr>\n",
       "    <tr>\n",
       "      <th></th>\n",
       "      <th>open</th>\n",
       "      <th>high</th>\n",
       "      <th>low</th>\n",
       "      <th>close</th>\n",
       "      <th>volume</th>\n",
       "      <th>open</th>\n",
       "      <th>high</th>\n",
       "      <th>low</th>\n",
       "      <th>close</th>\n",
       "      <th>volume</th>\n",
       "    </tr>\n",
       "  </thead>\n",
       "  <tbody>\n",
       "    <tr>\n",
       "      <th>[2022-04-20 08:00:00, 2022-04-20 10:00:00)</th>\n",
       "      <td>10394.000000</td>\n",
       "      <td>10482.0</td>\n",
       "      <td>10392.0</td>\n",
       "      <td>10448.0</td>\n",
       "      <td>217241.0</td>\n",
       "      <td>41444.296875</td>\n",
       "      <td>41526.152344</td>\n",
       "      <td>41332.937500</td>\n",
       "      <td>41476.156250</td>\n",
       "      <td>5.860311e+08</td>\n",
       "    </tr>\n",
       "    <tr>\n",
       "      <th>[2022-04-20 10:00:00, 2022-04-20 12:00:00)</th>\n",
       "      <td>10450.000000</td>\n",
       "      <td>10496.0</td>\n",
       "      <td>10394.0</td>\n",
       "      <td>10456.0</td>\n",
       "      <td>1171999.0</td>\n",
       "      <td>41489.980469</td>\n",
       "      <td>41822.742188</td>\n",
       "      <td>41473.695312</td>\n",
       "      <td>41795.542969</td>\n",
       "      <td>1.366741e+09</td>\n",
       "    </tr>\n",
       "    <tr>\n",
       "      <th>[2022-04-20 12:00:00, 2022-04-20 14:00:00)</th>\n",
       "      <td>10456.908203</td>\n",
       "      <td>10458.0</td>\n",
       "      <td>10412.0</td>\n",
       "      <td>10442.0</td>\n",
       "      <td>112627.0</td>\n",
       "      <td>41801.343750</td>\n",
       "      <td>42126.300781</td>\n",
       "      <td>41745.746094</td>\n",
       "      <td>42119.339844</td>\n",
       "      <td>1.510134e+09</td>\n",
       "    </tr>\n",
       "    <tr>\n",
       "      <th>[2022-04-20 14:00:00, 2022-04-20 16:00:00)</th>\n",
       "      <td>10444.000000</td>\n",
       "      <td>10490.0</td>\n",
       "      <td>10392.0</td>\n",
       "      <td>10458.0</td>\n",
       "      <td>1240866.0</td>\n",
       "      <td>42117.835938</td>\n",
       "      <td>42118.371094</td>\n",
       "      <td>41571.230469</td>\n",
       "      <td>41581.796875</td>\n",
       "      <td>3.350876e+08</td>\n",
       "    </tr>\n",
       "    <tr>\n",
       "      <th>[2022-04-20 16:00:00, 2022-04-20 16:30:00)</th>\n",
       "      <td>10458.242188</td>\n",
       "      <td>10470.0</td>\n",
       "      <td>10436.0</td>\n",
       "      <td>10468.0</td>\n",
       "      <td>80888.0</td>\n",
       "      <td>41577.878906</td>\n",
       "      <td>41577.878906</td>\n",
       "      <td>41141.402344</td>\n",
       "      <td>41158.550781</td>\n",
       "      <td>3.353395e+08</td>\n",
       "    </tr>\n",
       "  </tbody>\n",
       "</table>\n",
       "</div>"
      ],
      "text/plain": [
       "symbol                                             AZN.L                    \\\n",
       "                                                    open     high      low   \n",
       "[2022-04-20 08:00:00, 2022-04-20 10:00:00)  10394.000000  10482.0  10392.0   \n",
       "[2022-04-20 10:00:00, 2022-04-20 12:00:00)  10450.000000  10496.0  10394.0   \n",
       "[2022-04-20 12:00:00, 2022-04-20 14:00:00)  10456.908203  10458.0  10412.0   \n",
       "[2022-04-20 14:00:00, 2022-04-20 16:00:00)  10444.000000  10490.0  10392.0   \n",
       "[2022-04-20 16:00:00, 2022-04-20 16:30:00)  10458.242188  10470.0  10436.0   \n",
       "\n",
       "symbol                                                               BTC-USD  \\\n",
       "                                              close     volume          open   \n",
       "[2022-04-20 08:00:00, 2022-04-20 10:00:00)  10448.0   217241.0  41444.296875   \n",
       "[2022-04-20 10:00:00, 2022-04-20 12:00:00)  10456.0  1171999.0  41489.980469   \n",
       "[2022-04-20 12:00:00, 2022-04-20 14:00:00)  10442.0   112627.0  41801.343750   \n",
       "[2022-04-20 14:00:00, 2022-04-20 16:00:00)  10458.0  1240866.0  42117.835938   \n",
       "[2022-04-20 16:00:00, 2022-04-20 16:30:00)  10468.0    80888.0  41577.878906   \n",
       "\n",
       "symbol                                                                  \\\n",
       "                                                    high           low   \n",
       "[2022-04-20 08:00:00, 2022-04-20 10:00:00)  41526.152344  41332.937500   \n",
       "[2022-04-20 10:00:00, 2022-04-20 12:00:00)  41822.742188  41473.695312   \n",
       "[2022-04-20 12:00:00, 2022-04-20 14:00:00)  42126.300781  41745.746094   \n",
       "[2022-04-20 14:00:00, 2022-04-20 16:00:00)  42118.371094  41571.230469   \n",
       "[2022-04-20 16:00:00, 2022-04-20 16:30:00)  41577.878906  41141.402344   \n",
       "\n",
       "symbol                                                                  \n",
       "                                                   close        volume  \n",
       "[2022-04-20 08:00:00, 2022-04-20 10:00:00)  41476.156250  5.860311e+08  \n",
       "[2022-04-20 10:00:00, 2022-04-20 12:00:00)  41795.542969  1.366741e+09  \n",
       "[2022-04-20 12:00:00, 2022-04-20 14:00:00)  42119.339844  1.510134e+09  \n",
       "[2022-04-20 14:00:00, 2022-04-20 16:00:00)  41581.796875  3.350876e+08  \n",
       "[2022-04-20 16:00:00, 2022-04-20 16:30:00)  41158.550781  3.353395e+08  "
      ]
     },
     "execution_count": 85,
     "metadata": {},
     "output_type": "execute_result"
    }
   ],
   "source": [
    "df = prices_uk_247.get(\"2H\", start, end, openend=\"shorten\")\n",
    "df"
   ]
  },
  {
   "cell_type": "code",
   "execution_count": 86,
   "metadata": {},
   "outputs": [
    {
     "data": {
      "text/plain": [
       "0 days 02:00:00    4\n",
       "0 days 00:30:00    1\n",
       "dtype: int64"
      ]
     },
     "execution_count": 86,
     "metadata": {},
     "output_type": "execute_result"
    }
   ],
   "source": [
    "df.pt.indices_length"
   ]
  },
  {
   "cell_type": "markdown",
   "metadata": {},
   "source": [
    "However, defining a shorter final interval is only possible if underlying base data is available at an interval that's sufficiently granular to evalaute that shorter indice. In the above example the underlying data, from which the table is evaluated, has a 5 minute interval. Look at what happens if the example is repeated for a session that's far enough back that the only base data available has a 1 hour interval."
   ]
  },
  {
   "cell_type": "code",
   "execution_count": 87,
   "metadata": {},
   "outputs": [
    {
     "data": {
      "text/plain": [
       "(Timestamp('2020-05-15 08:00:00+0100', tz='Europe/London'),\n",
       " Timestamp('2020-05-15 16:30:00+0100', tz='Europe/London'))"
      ]
     },
     "execution_count": 87,
     "metadata": {},
     "output_type": "execute_result"
    }
   ],
   "source": [
    "start, end = xlon.session_open_close(session_h1)\n",
    "# put in terms of local tz for ease of reference\n",
    "start = start.astimezone(prices_uk_247.tz_default)\n",
    "end = end.astimezone(prices_uk_247.tz_default)\n",
    "# for reference\n",
    "start, end"
   ]
  },
  {
   "cell_type": "code",
   "execution_count": 88,
   "metadata": {},
   "outputs": [
    {
     "data": {
      "text/html": [
       "<div>\n",
       "<style scoped>\n",
       "    .dataframe tbody tr th:only-of-type {\n",
       "        vertical-align: middle;\n",
       "    }\n",
       "\n",
       "    .dataframe tbody tr th {\n",
       "        vertical-align: top;\n",
       "    }\n",
       "\n",
       "    .dataframe thead tr th {\n",
       "        text-align: left;\n",
       "    }\n",
       "</style>\n",
       "<table border=\"1\" class=\"dataframe\">\n",
       "  <thead>\n",
       "    <tr>\n",
       "      <th>symbol</th>\n",
       "      <th colspan=\"5\" halign=\"left\">AZN.L</th>\n",
       "      <th colspan=\"5\" halign=\"left\">BTC-USD</th>\n",
       "    </tr>\n",
       "    <tr>\n",
       "      <th></th>\n",
       "      <th>open</th>\n",
       "      <th>high</th>\n",
       "      <th>low</th>\n",
       "      <th>close</th>\n",
       "      <th>volume</th>\n",
       "      <th>open</th>\n",
       "      <th>high</th>\n",
       "      <th>low</th>\n",
       "      <th>close</th>\n",
       "      <th>volume</th>\n",
       "    </tr>\n",
       "  </thead>\n",
       "  <tbody>\n",
       "    <tr>\n",
       "      <th>[2020-05-15 08:00:00, 2020-05-15 10:00:00)</th>\n",
       "      <td>8740.0</td>\n",
       "      <td>8796.0</td>\n",
       "      <td>8625.0</td>\n",
       "      <td>8641.0</td>\n",
       "      <td>489577.0</td>\n",
       "      <td>9611.995117</td>\n",
       "      <td>9638.321289</td>\n",
       "      <td>9549.190430</td>\n",
       "      <td>9608.022461</td>\n",
       "      <td>0.0</td>\n",
       "    </tr>\n",
       "    <tr>\n",
       "      <th>[2020-05-15 10:00:00, 2020-05-15 12:00:00)</th>\n",
       "      <td>8638.0</td>\n",
       "      <td>8659.0</td>\n",
       "      <td>8603.0</td>\n",
       "      <td>8637.0</td>\n",
       "      <td>711982.0</td>\n",
       "      <td>9607.218750</td>\n",
       "      <td>9632.041992</td>\n",
       "      <td>9565.952148</td>\n",
       "      <td>9614.637695</td>\n",
       "      <td>0.0</td>\n",
       "    </tr>\n",
       "    <tr>\n",
       "      <th>[2020-05-15 12:00:00, 2020-05-15 14:00:00)</th>\n",
       "      <td>8612.0</td>\n",
       "      <td>8676.0</td>\n",
       "      <td>8536.0</td>\n",
       "      <td>8601.0</td>\n",
       "      <td>556623.0</td>\n",
       "      <td>9615.511719</td>\n",
       "      <td>9631.281250</td>\n",
       "      <td>9543.962891</td>\n",
       "      <td>9563.033203</td>\n",
       "      <td>0.0</td>\n",
       "    </tr>\n",
       "    <tr>\n",
       "      <th>[2020-05-15 14:00:00, 2020-05-15 16:00:00)</th>\n",
       "      <td>8665.0</td>\n",
       "      <td>8732.0</td>\n",
       "      <td>8536.0</td>\n",
       "      <td>8660.0</td>\n",
       "      <td>796204.0</td>\n",
       "      <td>9561.266602</td>\n",
       "      <td>9607.120117</td>\n",
       "      <td>9542.396484</td>\n",
       "      <td>9585.613281</td>\n",
       "      <td>0.0</td>\n",
       "    </tr>\n",
       "  </tbody>\n",
       "</table>\n",
       "</div>"
      ],
      "text/plain": [
       "symbol                                       AZN.L                          \\\n",
       "                                              open    high     low   close   \n",
       "[2020-05-15 08:00:00, 2020-05-15 10:00:00)  8740.0  8796.0  8625.0  8641.0   \n",
       "[2020-05-15 10:00:00, 2020-05-15 12:00:00)  8638.0  8659.0  8603.0  8637.0   \n",
       "[2020-05-15 12:00:00, 2020-05-15 14:00:00)  8612.0  8676.0  8536.0  8601.0   \n",
       "[2020-05-15 14:00:00, 2020-05-15 16:00:00)  8665.0  8732.0  8536.0  8660.0   \n",
       "\n",
       "symbol                                                    BTC-USD  \\\n",
       "                                              volume         open   \n",
       "[2020-05-15 08:00:00, 2020-05-15 10:00:00)  489577.0  9611.995117   \n",
       "[2020-05-15 10:00:00, 2020-05-15 12:00:00)  711982.0  9607.218750   \n",
       "[2020-05-15 12:00:00, 2020-05-15 14:00:00)  556623.0  9615.511719   \n",
       "[2020-05-15 14:00:00, 2020-05-15 16:00:00)  796204.0  9561.266602   \n",
       "\n",
       "symbol                                                                \\\n",
       "                                                   high          low   \n",
       "[2020-05-15 08:00:00, 2020-05-15 10:00:00)  9638.321289  9549.190430   \n",
       "[2020-05-15 10:00:00, 2020-05-15 12:00:00)  9632.041992  9565.952148   \n",
       "[2020-05-15 12:00:00, 2020-05-15 14:00:00)  9631.281250  9543.962891   \n",
       "[2020-05-15 14:00:00, 2020-05-15 16:00:00)  9607.120117  9542.396484   \n",
       "\n",
       "symbol                                                          \n",
       "                                                  close volume  \n",
       "[2020-05-15 08:00:00, 2020-05-15 10:00:00)  9608.022461    0.0  \n",
       "[2020-05-15 10:00:00, 2020-05-15 12:00:00)  9614.637695    0.0  \n",
       "[2020-05-15 12:00:00, 2020-05-15 14:00:00)  9563.033203    0.0  \n",
       "[2020-05-15 14:00:00, 2020-05-15 16:00:00)  9585.613281    0.0  "
      ]
     },
     "execution_count": 88,
     "metadata": {},
     "output_type": "execute_result"
    }
   ],
   "source": [
    "prices_uk_247.get(\"2H\", start, end, openend=\"shorten\")"
   ]
  },
  {
   "cell_type": "markdown",
   "metadata": {},
   "source": [
    "Although `openend` was passed as \"shorten\" a shorter final interval was not included as it wasn't possible to evalute a half hour indice from the hourly data that's available.\n",
    "\n",
    "**The \"shortern\" option is only implemented if sufficiently granular base data is available to evaluate the shorter indice.** To the contrary, the table will be returned as if `openend` were \"maintain\". **NOTE: No warning is raised** if `openend` is passed as \"shorter\" although it is not possible to evalute a shorter final indice.\n",
    "\n",
    "(The [data availability tutorial](./data_availability.ipynb) offers a fuller explanation of data availability.)"
   ]
  },
  {
   "cell_type": "markdown",
   "metadata": {},
   "source": [
    "## Daily prices\n",
    "\n",
    "The `anchor` parameter is not relevant if `interval` is passed as a daily or monthly interval.\n",
    "\n",
    "Indices for **intervals of multiple days** are always evaluated on a 'workback' basis, with the last session of the last indice representing the evaluated period end (recall that indices are closed \"left\", such that the right side of the last indice is not included to the period).\n",
    "\n",
    "All indices contain the number of sessions represented by the `interval`. **If the number of sessions that the period covers is not a factor of the interval then the 'remainder' of sessions are lost from the start of the period**, not the end.\n",
    "\n",
    "The following examples all request the last 4 weeks of data at various daily intervals.\n",
    "Notice how the the last session is the same for all of them although the left side of the first indice varies to exclude any 'remainder'."
   ]
  },
  {
   "cell_type": "code",
   "execution_count": 89,
   "metadata": {},
   "outputs": [
    {
     "data": {
      "text/html": [
       "<div>\n",
       "<style scoped>\n",
       "    .dataframe tbody tr th:only-of-type {\n",
       "        vertical-align: middle;\n",
       "    }\n",
       "\n",
       "    .dataframe tbody tr th {\n",
       "        vertical-align: top;\n",
       "    }\n",
       "\n",
       "    .dataframe thead tr th {\n",
       "        text-align: left;\n",
       "    }\n",
       "</style>\n",
       "<table border=\"1\" class=\"dataframe\">\n",
       "  <thead>\n",
       "    <tr>\n",
       "      <th>symbol</th>\n",
       "      <th colspan=\"5\" halign=\"left\">MSFT</th>\n",
       "    </tr>\n",
       "    <tr>\n",
       "      <th></th>\n",
       "      <th>open</th>\n",
       "      <th>high</th>\n",
       "      <th>low</th>\n",
       "      <th>close</th>\n",
       "      <th>volume</th>\n",
       "    </tr>\n",
       "  </thead>\n",
       "  <tbody>\n",
       "    <tr>\n",
       "      <th>[2022-04-21, 2022-05-03)</th>\n",
       "      <td>288.579987</td>\n",
       "      <td>293.299988</td>\n",
       "      <td>270.000000</td>\n",
       "      <td>284.470001</td>\n",
       "      <td>310358100.0</td>\n",
       "    </tr>\n",
       "    <tr>\n",
       "      <th>[2022-05-03, 2022-05-13)</th>\n",
       "      <td>283.959991</td>\n",
       "      <td>290.880005</td>\n",
       "      <td>250.020004</td>\n",
       "      <td>255.350006</td>\n",
       "      <td>327595600.0</td>\n",
       "    </tr>\n",
       "  </tbody>\n",
       "</table>\n",
       "</div>"
      ],
      "text/plain": [
       "symbol                          MSFT                                      \\\n",
       "                                open        high         low       close   \n",
       "[2022-04-21, 2022-05-03)  288.579987  293.299988  270.000000  284.470001   \n",
       "[2022-05-03, 2022-05-13)  283.959991  290.880005  250.020004  255.350006   \n",
       "\n",
       "symbol                                 \n",
       "                               volume  \n",
       "[2022-04-21, 2022-05-03)  310358100.0  \n",
       "[2022-05-03, 2022-05-13)  327595600.0  "
      ]
     },
     "execution_count": 89,
     "metadata": {},
     "output_type": "execute_result"
    }
   ],
   "source": [
    "prices.get(\"8D\", weeks=4)"
   ]
  },
  {
   "cell_type": "code",
   "execution_count": 90,
   "metadata": {},
   "outputs": [
    {
     "data": {
      "text/html": [
       "<div>\n",
       "<style scoped>\n",
       "    .dataframe tbody tr th:only-of-type {\n",
       "        vertical-align: middle;\n",
       "    }\n",
       "\n",
       "    .dataframe tbody tr th {\n",
       "        vertical-align: top;\n",
       "    }\n",
       "\n",
       "    .dataframe thead tr th {\n",
       "        text-align: left;\n",
       "    }\n",
       "</style>\n",
       "<table border=\"1\" class=\"dataframe\">\n",
       "  <thead>\n",
       "    <tr>\n",
       "      <th>symbol</th>\n",
       "      <th colspan=\"5\" halign=\"left\">MSFT</th>\n",
       "    </tr>\n",
       "    <tr>\n",
       "      <th></th>\n",
       "      <th>open</th>\n",
       "      <th>high</th>\n",
       "      <th>low</th>\n",
       "      <th>close</th>\n",
       "      <th>volume</th>\n",
       "    </tr>\n",
       "  </thead>\n",
       "  <tbody>\n",
       "    <tr>\n",
       "      <th>[2022-04-22, 2022-04-29)</th>\n",
       "      <td>281.679993</td>\n",
       "      <td>290.980011</td>\n",
       "      <td>270.000000</td>\n",
       "      <td>289.630005</td>\n",
       "      <td>208727400.0</td>\n",
       "    </tr>\n",
       "    <tr>\n",
       "      <th>[2022-04-29, 2022-05-06)</th>\n",
       "      <td>288.609985</td>\n",
       "      <td>290.880005</td>\n",
       "      <td>274.339996</td>\n",
       "      <td>277.350006</td>\n",
       "      <td>175014400.0</td>\n",
       "    </tr>\n",
       "    <tr>\n",
       "      <th>[2022-05-06, 2022-05-13)</th>\n",
       "      <td>274.809998</td>\n",
       "      <td>279.250000</td>\n",
       "      <td>250.020004</td>\n",
       "      <td>255.350006</td>\n",
       "      <td>224757300.0</td>\n",
       "    </tr>\n",
       "  </tbody>\n",
       "</table>\n",
       "</div>"
      ],
      "text/plain": [
       "symbol                          MSFT                                      \\\n",
       "                                open        high         low       close   \n",
       "[2022-04-22, 2022-04-29)  281.679993  290.980011  270.000000  289.630005   \n",
       "[2022-04-29, 2022-05-06)  288.609985  290.880005  274.339996  277.350006   \n",
       "[2022-05-06, 2022-05-13)  274.809998  279.250000  250.020004  255.350006   \n",
       "\n",
       "symbol                                 \n",
       "                               volume  \n",
       "[2022-04-22, 2022-04-29)  208727400.0  \n",
       "[2022-04-29, 2022-05-06)  175014400.0  \n",
       "[2022-05-06, 2022-05-13)  224757300.0  "
      ]
     },
     "execution_count": 90,
     "metadata": {},
     "output_type": "execute_result"
    }
   ],
   "source": [
    "prices.get(\"5D\", weeks=4)"
   ]
  },
  {
   "cell_type": "code",
   "execution_count": 91,
   "metadata": {},
   "outputs": [
    {
     "data": {
      "text/html": [
       "<div>\n",
       "<style scoped>\n",
       "    .dataframe tbody tr th:only-of-type {\n",
       "        vertical-align: middle;\n",
       "    }\n",
       "\n",
       "    .dataframe tbody tr th {\n",
       "        vertical-align: top;\n",
       "    }\n",
       "\n",
       "    .dataframe thead tr th {\n",
       "        text-align: left;\n",
       "    }\n",
       "</style>\n",
       "<table border=\"1\" class=\"dataframe\">\n",
       "  <thead>\n",
       "    <tr>\n",
       "      <th>symbol</th>\n",
       "      <th colspan=\"5\" halign=\"left\">MSFT</th>\n",
       "    </tr>\n",
       "    <tr>\n",
       "      <th></th>\n",
       "      <th>open</th>\n",
       "      <th>high</th>\n",
       "      <th>low</th>\n",
       "      <th>close</th>\n",
       "      <th>volume</th>\n",
       "    </tr>\n",
       "  </thead>\n",
       "  <tbody>\n",
       "    <tr>\n",
       "      <th>[2022-04-21, 2022-04-27)</th>\n",
       "      <td>288.579987</td>\n",
       "      <td>293.299988</td>\n",
       "      <td>270.000000</td>\n",
       "      <td>270.220001</td>\n",
       "      <td>141057700.0</td>\n",
       "    </tr>\n",
       "    <tr>\n",
       "      <th>[2022-04-27, 2022-05-03)</th>\n",
       "      <td>282.100006</td>\n",
       "      <td>290.980011</td>\n",
       "      <td>276.220001</td>\n",
       "      <td>284.470001</td>\n",
       "      <td>169300400.0</td>\n",
       "    </tr>\n",
       "    <tr>\n",
       "      <th>[2022-05-03, 2022-05-09)</th>\n",
       "      <td>283.959991</td>\n",
       "      <td>290.880005</td>\n",
       "      <td>271.269989</td>\n",
       "      <td>274.730011</td>\n",
       "      <td>140586600.0</td>\n",
       "    </tr>\n",
       "    <tr>\n",
       "      <th>[2022-05-09, 2022-05-13)</th>\n",
       "      <td>270.059998</td>\n",
       "      <td>273.750000</td>\n",
       "      <td>250.020004</td>\n",
       "      <td>255.350006</td>\n",
       "      <td>187009000.0</td>\n",
       "    </tr>\n",
       "  </tbody>\n",
       "</table>\n",
       "</div>"
      ],
      "text/plain": [
       "symbol                          MSFT                                      \\\n",
       "                                open        high         low       close   \n",
       "[2022-04-21, 2022-04-27)  288.579987  293.299988  270.000000  270.220001   \n",
       "[2022-04-27, 2022-05-03)  282.100006  290.980011  276.220001  284.470001   \n",
       "[2022-05-03, 2022-05-09)  283.959991  290.880005  271.269989  274.730011   \n",
       "[2022-05-09, 2022-05-13)  270.059998  273.750000  250.020004  255.350006   \n",
       "\n",
       "symbol                                 \n",
       "                               volume  \n",
       "[2022-04-21, 2022-04-27)  141057700.0  \n",
       "[2022-04-27, 2022-05-03)  169300400.0  \n",
       "[2022-05-03, 2022-05-09)  140586600.0  \n",
       "[2022-05-09, 2022-05-13)  187009000.0  "
      ]
     },
     "execution_count": 91,
     "metadata": {},
     "output_type": "execute_result"
    }
   ],
   "source": [
    "prices.get(\"4D\", weeks=4)"
   ]
  },
  {
   "cell_type": "code",
   "execution_count": 92,
   "metadata": {},
   "outputs": [
    {
     "data": {
      "text/html": [
       "<div>\n",
       "<style scoped>\n",
       "    .dataframe tbody tr th:only-of-type {\n",
       "        vertical-align: middle;\n",
       "    }\n",
       "\n",
       "    .dataframe tbody tr th {\n",
       "        vertical-align: top;\n",
       "    }\n",
       "\n",
       "    .dataframe thead tr th {\n",
       "        text-align: left;\n",
       "    }\n",
       "</style>\n",
       "<table border=\"1\" class=\"dataframe\">\n",
       "  <thead>\n",
       "    <tr>\n",
       "      <th>symbol</th>\n",
       "      <th colspan=\"5\" halign=\"left\">MSFT</th>\n",
       "    </tr>\n",
       "    <tr>\n",
       "      <th></th>\n",
       "      <th>open</th>\n",
       "      <th>high</th>\n",
       "      <th>low</th>\n",
       "      <th>close</th>\n",
       "      <th>volume</th>\n",
       "    </tr>\n",
       "  </thead>\n",
       "  <tbody>\n",
       "    <tr>\n",
       "      <th>[2022-04-19, 2022-04-22)</th>\n",
       "      <td>279.380005</td>\n",
       "      <td>293.299988</td>\n",
       "      <td>278.410004</td>\n",
       "      <td>280.809998</td>\n",
       "      <td>74659000.0</td>\n",
       "    </tr>\n",
       "    <tr>\n",
       "      <th>[2022-04-22, 2022-04-27)</th>\n",
       "      <td>281.679993</td>\n",
       "      <td>283.200012</td>\n",
       "      <td>270.000000</td>\n",
       "      <td>270.220001</td>\n",
       "      <td>111603100.0</td>\n",
       "    </tr>\n",
       "    <tr>\n",
       "      <th>[2022-04-27, 2022-05-02)</th>\n",
       "      <td>282.100006</td>\n",
       "      <td>290.980011</td>\n",
       "      <td>276.500000</td>\n",
       "      <td>277.519989</td>\n",
       "      <td>134149300.0</td>\n",
       "    </tr>\n",
       "    <tr>\n",
       "      <th>[2022-05-02, 2022-05-05)</th>\n",
       "      <td>277.709991</td>\n",
       "      <td>290.880005</td>\n",
       "      <td>276.220001</td>\n",
       "      <td>289.980011</td>\n",
       "      <td>94729000.0</td>\n",
       "    </tr>\n",
       "    <tr>\n",
       "      <th>[2022-05-05, 2022-05-10)</th>\n",
       "      <td>285.540009</td>\n",
       "      <td>286.350006</td>\n",
       "      <td>263.320007</td>\n",
       "      <td>264.579987</td>\n",
       "      <td>128734700.0</td>\n",
       "    </tr>\n",
       "    <tr>\n",
       "      <th>[2022-05-10, 2022-05-13)</th>\n",
       "      <td>271.690002</td>\n",
       "      <td>273.750000</td>\n",
       "      <td>250.020004</td>\n",
       "      <td>255.350006</td>\n",
       "      <td>139283000.0</td>\n",
       "    </tr>\n",
       "  </tbody>\n",
       "</table>\n",
       "</div>"
      ],
      "text/plain": [
       "symbol                          MSFT                                      \\\n",
       "                                open        high         low       close   \n",
       "[2022-04-19, 2022-04-22)  279.380005  293.299988  278.410004  280.809998   \n",
       "[2022-04-22, 2022-04-27)  281.679993  283.200012  270.000000  270.220001   \n",
       "[2022-04-27, 2022-05-02)  282.100006  290.980011  276.500000  277.519989   \n",
       "[2022-05-02, 2022-05-05)  277.709991  290.880005  276.220001  289.980011   \n",
       "[2022-05-05, 2022-05-10)  285.540009  286.350006  263.320007  264.579987   \n",
       "[2022-05-10, 2022-05-13)  271.690002  273.750000  250.020004  255.350006   \n",
       "\n",
       "symbol                                 \n",
       "                               volume  \n",
       "[2022-04-19, 2022-04-22)   74659000.0  \n",
       "[2022-04-22, 2022-04-27)  111603100.0  \n",
       "[2022-04-27, 2022-05-02)  134149300.0  \n",
       "[2022-05-02, 2022-05-05)   94729000.0  \n",
       "[2022-05-05, 2022-05-10)  128734700.0  \n",
       "[2022-05-10, 2022-05-13)  139283000.0  "
      ]
     },
     "execution_count": 92,
     "metadata": {},
     "output_type": "execute_result"
    }
   ],
   "source": [
    "df = prices.get(\"3D\", weeks=4)\n",
    "df"
   ]
  },
  {
   "cell_type": "markdown",
   "metadata": {},
   "source": [
    "Many of the **`pt` accessor methods** are also available for daily data.\n",
    "\n",
    "`pt.indices_trading` queries those indices which contain only sessions, as opposed to a mix of sessions and non-session dates."
   ]
  },
  {
   "cell_type": "code",
   "execution_count": 93,
   "metadata": {},
   "outputs": [
    {
     "data": {
      "text/plain": [
       "IntervalIndex([[2022-04-19, 2022-04-22), [2022-05-02, 2022-05-05), [2022-05-10, 2022-05-13)], dtype='interval[datetime64[ns], left]')"
      ]
     },
     "execution_count": 93,
     "metadata": {},
     "output_type": "execute_result"
    }
   ],
   "source": [
    "df.pt.indices_trading(xnys)"
   ]
  },
  {
   "cell_type": "markdown",
   "metadata": {},
   "source": [
    "`pt.indices_partial_trading` queries those indices which contain a mix of sessions and non-session dates."
   ]
  },
  {
   "cell_type": "code",
   "execution_count": 94,
   "metadata": {},
   "outputs": [
    {
     "data": {
      "text/plain": [
       "IntervalIndex([[2022-04-22, 2022-04-27), [2022-04-27, 2022-05-02), [2022-05-05, 2022-05-10)], dtype='interval[datetime64[ns], left]')"
      ]
     },
     "execution_count": 94,
     "metadata": {},
     "output_type": "execute_result"
    }
   ],
   "source": [
    "df.pt.indices_partial_trading(xnys)"
   ]
  },
  {
   "cell_type": "markdown",
   "metadata": {},
   "source": [
    "`pt.indices_non_trading` queries those indices which do not contain any sessions when evaluated against the passed calendar. It will always be empty when all symbols are associated with the same calendar (although not necessarily when this is not the case). "
   ]
  },
  {
   "cell_type": "code",
   "execution_count": 95,
   "metadata": {},
   "outputs": [
    {
     "data": {
      "text/plain": [
       "True"
      ]
     },
     "execution_count": 95,
     "metadata": {},
     "output_type": "execute_result"
    }
   ],
   "source": [
    "df.pt.indices_non_trading(xnys).empty"
   ]
  },
  {
   "cell_type": "markdown",
   "metadata": {},
   "source": [
    "When **`interval` is a multiple of months** each indice will cover that multiple of calendar months.\n",
    "\n",
    "**If the period end evaluates to 'now'** then the last indice will be considered a 'live interval' that runs to the end of the current month. The period start in this case is evaluated by working back from the period end."
   ]
  },
  {
   "cell_type": "code",
   "execution_count": 96,
   "metadata": {},
   "outputs": [
    {
     "data": {
      "text/html": [
       "<div>\n",
       "<style scoped>\n",
       "    .dataframe tbody tr th:only-of-type {\n",
       "        vertical-align: middle;\n",
       "    }\n",
       "\n",
       "    .dataframe tbody tr th {\n",
       "        vertical-align: top;\n",
       "    }\n",
       "\n",
       "    .dataframe thead tr th {\n",
       "        text-align: left;\n",
       "    }\n",
       "</style>\n",
       "<table border=\"1\" class=\"dataframe\">\n",
       "  <thead>\n",
       "    <tr>\n",
       "      <th>symbol</th>\n",
       "      <th colspan=\"5\" halign=\"left\">MSFT</th>\n",
       "    </tr>\n",
       "    <tr>\n",
       "      <th></th>\n",
       "      <th>open</th>\n",
       "      <th>high</th>\n",
       "      <th>low</th>\n",
       "      <th>close</th>\n",
       "      <th>volume</th>\n",
       "    </tr>\n",
       "  </thead>\n",
       "  <tbody>\n",
       "    <tr>\n",
       "      <th>[2021-06-01, 2021-09-01)</th>\n",
       "      <td>251.229996</td>\n",
       "      <td>305.839996</td>\n",
       "      <td>243.000000</td>\n",
       "      <td>301.880005</td>\n",
       "      <td>1.472554e+09</td>\n",
       "    </tr>\n",
       "    <tr>\n",
       "      <th>[2021-09-01, 2021-12-01)</th>\n",
       "      <td>302.869995</td>\n",
       "      <td>349.670013</td>\n",
       "      <td>280.250000</td>\n",
       "      <td>330.589996</td>\n",
       "      <td>1.529320e+09</td>\n",
       "    </tr>\n",
       "    <tr>\n",
       "      <th>[2021-12-01, 2022-03-01)</th>\n",
       "      <td>335.130005</td>\n",
       "      <td>344.299988</td>\n",
       "      <td>271.519989</td>\n",
       "      <td>298.790009</td>\n",
       "      <td>2.270257e+09</td>\n",
       "    </tr>\n",
       "    <tr>\n",
       "      <th>[2022-03-01, 2022-06-01)</th>\n",
       "      <td>296.399994</td>\n",
       "      <td>315.950012</td>\n",
       "      <td>250.020004</td>\n",
       "      <td>255.350006</td>\n",
       "      <td>1.724375e+09</td>\n",
       "    </tr>\n",
       "  </tbody>\n",
       "</table>\n",
       "</div>"
      ],
      "text/plain": [
       "symbol                          MSFT                                      \\\n",
       "                                open        high         low       close   \n",
       "[2021-06-01, 2021-09-01)  251.229996  305.839996  243.000000  301.880005   \n",
       "[2021-09-01, 2021-12-01)  302.869995  349.670013  280.250000  330.589996   \n",
       "[2021-12-01, 2022-03-01)  335.130005  344.299988  271.519989  298.790009   \n",
       "[2022-03-01, 2022-06-01)  296.399994  315.950012  250.020004  255.350006   \n",
       "\n",
       "symbol                                  \n",
       "                                volume  \n",
       "[2021-06-01, 2021-09-01)  1.472554e+09  \n",
       "[2021-09-01, 2021-12-01)  1.529320e+09  \n",
       "[2021-12-01, 2022-03-01)  2.270257e+09  \n",
       "[2022-03-01, 2022-06-01)  1.724375e+09  "
      ]
     },
     "execution_count": 96,
     "metadata": {},
     "output_type": "execute_result"
    }
   ],
   "source": [
    "prices.get(\"3M\", years=1)"
   ]
  },
  {
   "cell_type": "markdown",
   "metadata": {},
   "source": [
    "If `end` is passed as the end of a month then the period end will be `end` as passed."
   ]
  },
  {
   "cell_type": "code",
   "execution_count": 97,
   "metadata": {},
   "outputs": [
    {
     "data": {
      "text/html": [
       "<div>\n",
       "<style scoped>\n",
       "    .dataframe tbody tr th:only-of-type {\n",
       "        vertical-align: middle;\n",
       "    }\n",
       "\n",
       "    .dataframe tbody tr th {\n",
       "        vertical-align: top;\n",
       "    }\n",
       "\n",
       "    .dataframe thead tr th {\n",
       "        text-align: left;\n",
       "    }\n",
       "</style>\n",
       "<table border=\"1\" class=\"dataframe\">\n",
       "  <thead>\n",
       "    <tr>\n",
       "      <th>symbol</th>\n",
       "      <th colspan=\"5\" halign=\"left\">MSFT</th>\n",
       "    </tr>\n",
       "    <tr>\n",
       "      <th></th>\n",
       "      <th>open</th>\n",
       "      <th>high</th>\n",
       "      <th>low</th>\n",
       "      <th>close</th>\n",
       "      <th>volume</th>\n",
       "    </tr>\n",
       "  </thead>\n",
       "  <tbody>\n",
       "    <tr>\n",
       "      <th>[2021-07-01, 2021-09-01)</th>\n",
       "      <td>269.609985</td>\n",
       "      <td>305.839996</td>\n",
       "      <td>269.600006</td>\n",
       "      <td>301.880005</td>\n",
       "      <td>9.639816e+08</td>\n",
       "    </tr>\n",
       "    <tr>\n",
       "      <th>[2021-09-01, 2021-11-01)</th>\n",
       "      <td>302.869995</td>\n",
       "      <td>332.000000</td>\n",
       "      <td>280.250000</td>\n",
       "      <td>331.619995</td>\n",
       "      <td>1.019434e+09</td>\n",
       "    </tr>\n",
       "    <tr>\n",
       "      <th>[2021-11-01, 2022-01-01)</th>\n",
       "      <td>331.359985</td>\n",
       "      <td>349.670013</td>\n",
       "      <td>317.250000</td>\n",
       "      <td>336.320007</td>\n",
       "      <td>1.135560e+09</td>\n",
       "    </tr>\n",
       "  </tbody>\n",
       "</table>\n",
       "</div>"
      ],
      "text/plain": [
       "symbol                          MSFT                                      \\\n",
       "                                open        high         low       close   \n",
       "[2021-07-01, 2021-09-01)  269.609985  305.839996  269.600006  301.880005   \n",
       "[2021-09-01, 2021-11-01)  302.869995  332.000000  280.250000  331.619995   \n",
       "[2021-11-01, 2022-01-01)  331.359985  349.670013  317.250000  336.320007   \n",
       "\n",
       "symbol                                  \n",
       "                                volume  \n",
       "[2021-07-01, 2021-09-01)  9.639816e+08  \n",
       "[2021-09-01, 2021-11-01)  1.019434e+09  \n",
       "[2021-11-01, 2022-01-01)  1.135560e+09  "
      ]
     },
     "execution_count": 97,
     "metadata": {},
     "output_type": "execute_result"
    }
   ],
   "source": [
    "prices.get(\"2M\", end=\"2021-12-31\", months=6)"
   ]
  },
  {
   "cell_type": "markdown",
   "metadata": {},
   "source": [
    "If `end` is passed as any other date then the period end will be the end of the month that preceeds `end`."
   ]
  },
  {
   "cell_type": "code",
   "execution_count": 98,
   "metadata": {},
   "outputs": [
    {
     "data": {
      "text/html": [
       "<div>\n",
       "<style scoped>\n",
       "    .dataframe tbody tr th:only-of-type {\n",
       "        vertical-align: middle;\n",
       "    }\n",
       "\n",
       "    .dataframe tbody tr th {\n",
       "        vertical-align: top;\n",
       "    }\n",
       "\n",
       "    .dataframe thead tr th {\n",
       "        text-align: left;\n",
       "    }\n",
       "</style>\n",
       "<table border=\"1\" class=\"dataframe\">\n",
       "  <thead>\n",
       "    <tr>\n",
       "      <th>symbol</th>\n",
       "      <th colspan=\"5\" halign=\"left\">MSFT</th>\n",
       "    </tr>\n",
       "    <tr>\n",
       "      <th></th>\n",
       "      <th>open</th>\n",
       "      <th>high</th>\n",
       "      <th>low</th>\n",
       "      <th>close</th>\n",
       "      <th>volume</th>\n",
       "    </tr>\n",
       "  </thead>\n",
       "  <tbody>\n",
       "    <tr>\n",
       "      <th>[2021-06-01, 2021-08-01)</th>\n",
       "      <td>251.229996</td>\n",
       "      <td>290.149994</td>\n",
       "      <td>243.000000</td>\n",
       "      <td>284.910004</td>\n",
       "      <td>1.031245e+09</td>\n",
       "    </tr>\n",
       "    <tr>\n",
       "      <th>[2021-08-01, 2021-10-01)</th>\n",
       "      <td>286.359985</td>\n",
       "      <td>305.839996</td>\n",
       "      <td>281.619995</td>\n",
       "      <td>281.920013</td>\n",
       "      <td>9.442276e+08</td>\n",
       "    </tr>\n",
       "    <tr>\n",
       "      <th>[2021-10-01, 2021-12-01)</th>\n",
       "      <td>282.119995</td>\n",
       "      <td>349.670013</td>\n",
       "      <td>280.250000</td>\n",
       "      <td>330.589996</td>\n",
       "      <td>1.026401e+09</td>\n",
       "    </tr>\n",
       "  </tbody>\n",
       "</table>\n",
       "</div>"
      ],
      "text/plain": [
       "symbol                          MSFT                                      \\\n",
       "                                open        high         low       close   \n",
       "[2021-06-01, 2021-08-01)  251.229996  290.149994  243.000000  284.910004   \n",
       "[2021-08-01, 2021-10-01)  286.359985  305.839996  281.619995  281.920013   \n",
       "[2021-10-01, 2021-12-01)  282.119995  349.670013  280.250000  330.589996   \n",
       "\n",
       "symbol                                  \n",
       "                                volume  \n",
       "[2021-06-01, 2021-08-01)  1.031245e+09  \n",
       "[2021-08-01, 2021-10-01)  9.442276e+08  \n",
       "[2021-10-01, 2021-12-01)  1.026401e+09  "
      ]
     },
     "execution_count": 98,
     "metadata": {},
     "output_type": "execute_result"
    }
   ],
   "source": [
    "prices.get(\"2M\", end=\"2021-12-30\", months=6)"
   ]
  },
  {
   "cell_type": "markdown",
   "metadata": {},
   "source": [
    "If `start` is passed (and `end` is not) and `start` is the first day of a month then the period start will evaluate to `start`."
   ]
  },
  {
   "cell_type": "code",
   "execution_count": 99,
   "metadata": {},
   "outputs": [
    {
     "data": {
      "text/html": [
       "<div>\n",
       "<style scoped>\n",
       "    .dataframe tbody tr th:only-of-type {\n",
       "        vertical-align: middle;\n",
       "    }\n",
       "\n",
       "    .dataframe tbody tr th {\n",
       "        vertical-align: top;\n",
       "    }\n",
       "\n",
       "    .dataframe thead tr th {\n",
       "        text-align: left;\n",
       "    }\n",
       "</style>\n",
       "<table border=\"1\" class=\"dataframe\">\n",
       "  <thead>\n",
       "    <tr>\n",
       "      <th>symbol</th>\n",
       "      <th colspan=\"5\" halign=\"left\">MSFT</th>\n",
       "    </tr>\n",
       "    <tr>\n",
       "      <th></th>\n",
       "      <th>open</th>\n",
       "      <th>high</th>\n",
       "      <th>low</th>\n",
       "      <th>close</th>\n",
       "      <th>volume</th>\n",
       "    </tr>\n",
       "  </thead>\n",
       "  <tbody>\n",
       "    <tr>\n",
       "      <th>[2021-03-01, 2021-05-01)</th>\n",
       "      <td>235.899994</td>\n",
       "      <td>263.190002</td>\n",
       "      <td>224.259995</td>\n",
       "      <td>252.179993</td>\n",
       "      <td>1.293607e+09</td>\n",
       "    </tr>\n",
       "    <tr>\n",
       "      <th>[2021-05-01, 2021-07-01)</th>\n",
       "      <td>253.399994</td>\n",
       "      <td>271.649994</td>\n",
       "      <td>238.070007</td>\n",
       "      <td>270.899994</td>\n",
       "      <td>1.003657e+09</td>\n",
       "    </tr>\n",
       "    <tr>\n",
       "      <th>[2021-07-01, 2021-09-01)</th>\n",
       "      <td>269.609985</td>\n",
       "      <td>305.839996</td>\n",
       "      <td>269.600006</td>\n",
       "      <td>301.880005</td>\n",
       "      <td>9.639816e+08</td>\n",
       "    </tr>\n",
       "  </tbody>\n",
       "</table>\n",
       "</div>"
      ],
      "text/plain": [
       "symbol                          MSFT                                      \\\n",
       "                                open        high         low       close   \n",
       "[2021-03-01, 2021-05-01)  235.899994  263.190002  224.259995  252.179993   \n",
       "[2021-05-01, 2021-07-01)  253.399994  271.649994  238.070007  270.899994   \n",
       "[2021-07-01, 2021-09-01)  269.609985  305.839996  269.600006  301.880005   \n",
       "\n",
       "symbol                                  \n",
       "                                volume  \n",
       "[2021-03-01, 2021-05-01)  1.293607e+09  \n",
       "[2021-05-01, 2021-07-01)  1.003657e+09  \n",
       "[2021-07-01, 2021-09-01)  9.639816e+08  "
      ]
     },
     "execution_count": 99,
     "metadata": {},
     "output_type": "execute_result"
    }
   ],
   "source": [
    "prices.get(\"2M\", start=\"2021-03-01\", months=6)"
   ]
  },
  {
   "cell_type": "markdown",
   "metadata": {},
   "source": [
    "If `start` is passed (and `end` is not) and `start` is not the first day of a month then the period start will evaluate to the start of the month that follows `start`."
   ]
  },
  {
   "cell_type": "code",
   "execution_count": 100,
   "metadata": {},
   "outputs": [
    {
     "data": {
      "text/html": [
       "<div>\n",
       "<style scoped>\n",
       "    .dataframe tbody tr th:only-of-type {\n",
       "        vertical-align: middle;\n",
       "    }\n",
       "\n",
       "    .dataframe tbody tr th {\n",
       "        vertical-align: top;\n",
       "    }\n",
       "\n",
       "    .dataframe thead tr th {\n",
       "        text-align: left;\n",
       "    }\n",
       "</style>\n",
       "<table border=\"1\" class=\"dataframe\">\n",
       "  <thead>\n",
       "    <tr>\n",
       "      <th>symbol</th>\n",
       "      <th colspan=\"5\" halign=\"left\">MSFT</th>\n",
       "    </tr>\n",
       "    <tr>\n",
       "      <th></th>\n",
       "      <th>open</th>\n",
       "      <th>high</th>\n",
       "      <th>low</th>\n",
       "      <th>close</th>\n",
       "      <th>volume</th>\n",
       "    </tr>\n",
       "  </thead>\n",
       "  <tbody>\n",
       "    <tr>\n",
       "      <th>[2021-04-01, 2021-06-01)</th>\n",
       "      <td>238.470001</td>\n",
       "      <td>263.190002</td>\n",
       "      <td>238.050003</td>\n",
       "      <td>249.679993</td>\n",
       "      <td>1.063746e+09</td>\n",
       "    </tr>\n",
       "    <tr>\n",
       "      <th>[2021-06-01, 2021-08-01)</th>\n",
       "      <td>251.229996</td>\n",
       "      <td>290.149994</td>\n",
       "      <td>243.000000</td>\n",
       "      <td>284.910004</td>\n",
       "      <td>1.031245e+09</td>\n",
       "    </tr>\n",
       "    <tr>\n",
       "      <th>[2021-08-01, 2021-10-01)</th>\n",
       "      <td>286.359985</td>\n",
       "      <td>305.839996</td>\n",
       "      <td>281.619995</td>\n",
       "      <td>281.920013</td>\n",
       "      <td>9.442276e+08</td>\n",
       "    </tr>\n",
       "  </tbody>\n",
       "</table>\n",
       "</div>"
      ],
      "text/plain": [
       "symbol                          MSFT                                      \\\n",
       "                                open        high         low       close   \n",
       "[2021-04-01, 2021-06-01)  238.470001  263.190002  238.050003  249.679993   \n",
       "[2021-06-01, 2021-08-01)  251.229996  290.149994  243.000000  284.910004   \n",
       "[2021-08-01, 2021-10-01)  286.359985  305.839996  281.619995  281.920013   \n",
       "\n",
       "symbol                                  \n",
       "                                volume  \n",
       "[2021-04-01, 2021-06-01)  1.063746e+09  \n",
       "[2021-06-01, 2021-08-01)  1.031245e+09  \n",
       "[2021-08-01, 2021-10-01)  9.442276e+08  "
      ]
     },
     "execution_count": 100,
     "metadata": {},
     "output_type": "execute_result"
    }
   ],
   "source": [
    "prices.get(\"2M\", start=\"2021-03-02\", months=6)"
   ]
  },
  {
   "cell_type": "markdown",
   "metadata": {},
   "source": [
    "Whenever `end` is passed, `end` determines the period end and the period start is then evaluated by working back from that period end. However, if `start` is passed, and `end` is not, then the period start is determined by `start` and the period end is evaluated by working forwards from that period start. This is shown by the following examples where the `interval` is not a factor of the period requested."
   ]
  },
  {
   "cell_type": "code",
   "execution_count": 101,
   "metadata": {},
   "outputs": [
    {
     "data": {
      "text/html": [
       "<div>\n",
       "<style scoped>\n",
       "    .dataframe tbody tr th:only-of-type {\n",
       "        vertical-align: middle;\n",
       "    }\n",
       "\n",
       "    .dataframe tbody tr th {\n",
       "        vertical-align: top;\n",
       "    }\n",
       "\n",
       "    .dataframe thead tr th {\n",
       "        text-align: left;\n",
       "    }\n",
       "</style>\n",
       "<table border=\"1\" class=\"dataframe\">\n",
       "  <thead>\n",
       "    <tr>\n",
       "      <th>symbol</th>\n",
       "      <th colspan=\"5\" halign=\"left\">MSFT</th>\n",
       "    </tr>\n",
       "    <tr>\n",
       "      <th></th>\n",
       "      <th>open</th>\n",
       "      <th>high</th>\n",
       "      <th>low</th>\n",
       "      <th>close</th>\n",
       "      <th>volume</th>\n",
       "    </tr>\n",
       "  </thead>\n",
       "  <tbody>\n",
       "    <tr>\n",
       "      <th>[2021-03-01, 2021-05-01)</th>\n",
       "      <td>235.899994</td>\n",
       "      <td>263.190002</td>\n",
       "      <td>224.259995</td>\n",
       "      <td>252.179993</td>\n",
       "      <td>1.293607e+09</td>\n",
       "    </tr>\n",
       "    <tr>\n",
       "      <th>[2021-05-01, 2021-07-01)</th>\n",
       "      <td>253.399994</td>\n",
       "      <td>271.649994</td>\n",
       "      <td>238.070007</td>\n",
       "      <td>270.899994</td>\n",
       "      <td>1.003657e+09</td>\n",
       "    </tr>\n",
       "    <tr>\n",
       "      <th>[2021-07-01, 2021-09-01)</th>\n",
       "      <td>269.609985</td>\n",
       "      <td>305.839996</td>\n",
       "      <td>269.600006</td>\n",
       "      <td>301.880005</td>\n",
       "      <td>9.639816e+08</td>\n",
       "    </tr>\n",
       "  </tbody>\n",
       "</table>\n",
       "</div>"
      ],
      "text/plain": [
       "symbol                          MSFT                                      \\\n",
       "                                open        high         low       close   \n",
       "[2021-03-01, 2021-05-01)  235.899994  263.190002  224.259995  252.179993   \n",
       "[2021-05-01, 2021-07-01)  253.399994  271.649994  238.070007  270.899994   \n",
       "[2021-07-01, 2021-09-01)  269.609985  305.839996  269.600006  301.880005   \n",
       "\n",
       "symbol                                  \n",
       "                                volume  \n",
       "[2021-03-01, 2021-05-01)  1.293607e+09  \n",
       "[2021-05-01, 2021-07-01)  1.003657e+09  \n",
       "[2021-07-01, 2021-09-01)  9.639816e+08  "
      ]
     },
     "execution_count": 101,
     "metadata": {},
     "output_type": "execute_result"
    }
   ],
   "source": [
    "prices.get(\"2M\", end=\"2021-09-13\", months=7)"
   ]
  },
  {
   "cell_type": "markdown",
   "metadata": {},
   "source": [
    "Above the period end is evaluated as the end of the month preceeding `end` and the indices are then evaluated by working backwards. The period only covers 6 months and the excess month is excluded from the start of the data.\n",
    "\n",
    "When `start` is passed instead of `end`..."
   ]
  },
  {
   "cell_type": "code",
   "execution_count": 102,
   "metadata": {},
   "outputs": [
    {
     "data": {
      "text/html": [
       "<div>\n",
       "<style scoped>\n",
       "    .dataframe tbody tr th:only-of-type {\n",
       "        vertical-align: middle;\n",
       "    }\n",
       "\n",
       "    .dataframe tbody tr th {\n",
       "        vertical-align: top;\n",
       "    }\n",
       "\n",
       "    .dataframe thead tr th {\n",
       "        text-align: left;\n",
       "    }\n",
       "</style>\n",
       "<table border=\"1\" class=\"dataframe\">\n",
       "  <thead>\n",
       "    <tr>\n",
       "      <th>symbol</th>\n",
       "      <th colspan=\"5\" halign=\"left\">MSFT</th>\n",
       "    </tr>\n",
       "    <tr>\n",
       "      <th></th>\n",
       "      <th>open</th>\n",
       "      <th>high</th>\n",
       "      <th>low</th>\n",
       "      <th>close</th>\n",
       "      <th>volume</th>\n",
       "    </tr>\n",
       "  </thead>\n",
       "  <tbody>\n",
       "    <tr>\n",
       "      <th>[2021-10-01, 2021-12-01)</th>\n",
       "      <td>282.119995</td>\n",
       "      <td>349.670013</td>\n",
       "      <td>280.250000</td>\n",
       "      <td>330.589996</td>\n",
       "      <td>1.026401e+09</td>\n",
       "    </tr>\n",
       "    <tr>\n",
       "      <th>[2021-12-01, 2022-02-01)</th>\n",
       "      <td>335.130005</td>\n",
       "      <td>344.299988</td>\n",
       "      <td>276.049988</td>\n",
       "      <td>310.980011</td>\n",
       "      <td>1.573206e+09</td>\n",
       "    </tr>\n",
       "    <tr>\n",
       "      <th>[2022-02-01, 2022-04-01)</th>\n",
       "      <td>310.410004</td>\n",
       "      <td>315.950012</td>\n",
       "      <td>270.000000</td>\n",
       "      <td>308.309998</td>\n",
       "      <td>1.431385e+09</td>\n",
       "    </tr>\n",
       "  </tbody>\n",
       "</table>\n",
       "</div>"
      ],
      "text/plain": [
       "symbol                          MSFT                                      \\\n",
       "                                open        high         low       close   \n",
       "[2021-10-01, 2021-12-01)  282.119995  349.670013  280.250000  330.589996   \n",
       "[2021-12-01, 2022-02-01)  335.130005  344.299988  276.049988  310.980011   \n",
       "[2022-02-01, 2022-04-01)  310.410004  315.950012  270.000000  308.309998   \n",
       "\n",
       "symbol                                  \n",
       "                                volume  \n",
       "[2021-10-01, 2021-12-01)  1.026401e+09  \n",
       "[2021-12-01, 2022-02-01)  1.573206e+09  \n",
       "[2022-02-01, 2022-04-01)  1.431385e+09  "
      ]
     },
     "execution_count": 102,
     "metadata": {},
     "output_type": "execute_result"
    }
   ],
   "source": [
    "prices.get(\"2M\", start=\"2021-09-13\", months=7)"
   ]
  },
  {
   "cell_type": "markdown",
   "metadata": {},
   "source": [
    "The period start evalutes as the start of the next month, i.e. \"2021-10-13\" and indices are evaluted forwards from here. The period only covers the 6 months and the extra month is excluded from the end of the data.\n",
    "\n",
    "When both `start` and `end` are passed, the period end is evaluated and indices evaluated by working back from there."
   ]
  },
  {
   "cell_type": "code",
   "execution_count": 103,
   "metadata": {},
   "outputs": [
    {
     "data": {
      "text/html": [
       "<div>\n",
       "<style scoped>\n",
       "    .dataframe tbody tr th:only-of-type {\n",
       "        vertical-align: middle;\n",
       "    }\n",
       "\n",
       "    .dataframe tbody tr th {\n",
       "        vertical-align: top;\n",
       "    }\n",
       "\n",
       "    .dataframe thead tr th {\n",
       "        text-align: left;\n",
       "    }\n",
       "</style>\n",
       "<table border=\"1\" class=\"dataframe\">\n",
       "  <thead>\n",
       "    <tr>\n",
       "      <th>symbol</th>\n",
       "      <th colspan=\"5\" halign=\"left\">MSFT</th>\n",
       "    </tr>\n",
       "    <tr>\n",
       "      <th></th>\n",
       "      <th>open</th>\n",
       "      <th>high</th>\n",
       "      <th>low</th>\n",
       "      <th>close</th>\n",
       "      <th>volume</th>\n",
       "    </tr>\n",
       "  </thead>\n",
       "  <tbody>\n",
       "    <tr>\n",
       "      <th>[2021-04-01, 2021-06-01)</th>\n",
       "      <td>238.470001</td>\n",
       "      <td>263.190002</td>\n",
       "      <td>238.050003</td>\n",
       "      <td>249.679993</td>\n",
       "      <td>1.063746e+09</td>\n",
       "    </tr>\n",
       "    <tr>\n",
       "      <th>[2021-06-01, 2021-08-01)</th>\n",
       "      <td>251.229996</td>\n",
       "      <td>290.149994</td>\n",
       "      <td>243.000000</td>\n",
       "      <td>284.910004</td>\n",
       "      <td>1.031245e+09</td>\n",
       "    </tr>\n",
       "    <tr>\n",
       "      <th>[2021-08-01, 2021-10-01)</th>\n",
       "      <td>286.359985</td>\n",
       "      <td>305.839996</td>\n",
       "      <td>281.619995</td>\n",
       "      <td>281.920013</td>\n",
       "      <td>9.442276e+08</td>\n",
       "    </tr>\n",
       "    <tr>\n",
       "      <th>[2021-10-01, 2021-12-01)</th>\n",
       "      <td>282.119995</td>\n",
       "      <td>349.670013</td>\n",
       "      <td>280.250000</td>\n",
       "      <td>330.589996</td>\n",
       "      <td>1.026401e+09</td>\n",
       "    </tr>\n",
       "  </tbody>\n",
       "</table>\n",
       "</div>"
      ],
      "text/plain": [
       "symbol                          MSFT                                      \\\n",
       "                                open        high         low       close   \n",
       "[2021-04-01, 2021-06-01)  238.470001  263.190002  238.050003  249.679993   \n",
       "[2021-06-01, 2021-08-01)  251.229996  290.149994  243.000000  284.910004   \n",
       "[2021-08-01, 2021-10-01)  286.359985  305.839996  281.619995  281.920013   \n",
       "[2021-10-01, 2021-12-01)  282.119995  349.670013  280.250000  330.589996   \n",
       "\n",
       "symbol                                  \n",
       "                                volume  \n",
       "[2021-04-01, 2021-06-01)  1.063746e+09  \n",
       "[2021-06-01, 2021-08-01)  1.031245e+09  \n",
       "[2021-08-01, 2021-10-01)  9.442276e+08  \n",
       "[2021-10-01, 2021-12-01)  1.026401e+09  "
      ]
     },
     "execution_count": 103,
     "metadata": {},
     "output_type": "execute_result"
    }
   ],
   "source": [
    "prices.get(\"2M\", \"2021-02-02\", \"2021-12-16\")"
   ]
  },
  {
   "cell_type": "markdown",
   "metadata": {},
   "source": [
    "Notice that `start` is nearly 2 months away from the actual period start. This shows how the period end is evalauted and indices are then evaluated working backwards. To include another interval at the start would result in 2021-02-01 being included, which goes against the Golden Rule that the evaluated period can not include any period before `start` or after `end`."
   ]
  },
  {
   "cell_type": "markdown",
   "metadata": {},
   "source": [
    "### Daily prices with multiple calendars\n",
    "\n",
    "**Intervals as a multiple of days** are evalauted in the same manner whether symbols are all associated with the same calendar or not. In both cases indices are evaluted to all contain the same number of sessions. When symbols are not all associated with the same calendar the sessions are evaluated in accordance with the calendar associated with the lead symbol.\n",
    "\n",
    "The difference can be illustrated by considering prices covering Microsoft, which usually trades Mon-Fri, and Bitcoin, which trades everyday."
   ]
  },
  {
   "cell_type": "code",
   "execution_count": 104,
   "metadata": {},
   "outputs": [
    {
     "data": {
      "text/html": [
       "<div>\n",
       "<style scoped>\n",
       "    .dataframe tbody tr th:only-of-type {\n",
       "        vertical-align: middle;\n",
       "    }\n",
       "\n",
       "    .dataframe tbody tr th {\n",
       "        vertical-align: top;\n",
       "    }\n",
       "\n",
       "    .dataframe thead tr th {\n",
       "        text-align: left;\n",
       "    }\n",
       "</style>\n",
       "<table border=\"1\" class=\"dataframe\">\n",
       "  <thead>\n",
       "    <tr>\n",
       "      <th>symbol</th>\n",
       "      <th colspan=\"5\" halign=\"left\">MSFT</th>\n",
       "      <th colspan=\"5\" halign=\"left\">BTC-USD</th>\n",
       "    </tr>\n",
       "    <tr>\n",
       "      <th></th>\n",
       "      <th>open</th>\n",
       "      <th>high</th>\n",
       "      <th>low</th>\n",
       "      <th>close</th>\n",
       "      <th>volume</th>\n",
       "      <th>open</th>\n",
       "      <th>high</th>\n",
       "      <th>low</th>\n",
       "      <th>close</th>\n",
       "      <th>volume</th>\n",
       "    </tr>\n",
       "  </thead>\n",
       "  <tbody>\n",
       "    <tr>\n",
       "      <th>[2022-04-19, 2022-04-22)</th>\n",
       "      <td>279.380005</td>\n",
       "      <td>293.299988</td>\n",
       "      <td>278.410004</td>\n",
       "      <td>280.809998</td>\n",
       "      <td>74659000.0</td>\n",
       "      <td>40828.175781</td>\n",
       "      <td>42893.582031</td>\n",
       "      <td>40063.828125</td>\n",
       "      <td>40527.363281</td>\n",
       "      <td>8.849553e+10</td>\n",
       "    </tr>\n",
       "    <tr>\n",
       "      <th>[2022-04-22, 2022-04-27)</th>\n",
       "      <td>281.679993</td>\n",
       "      <td>283.200012</td>\n",
       "      <td>270.000000</td>\n",
       "      <td>270.220001</td>\n",
       "      <td>111603100.0</td>\n",
       "      <td>40525.863281</td>\n",
       "      <td>40777.757812</td>\n",
       "      <td>37884.984375</td>\n",
       "      <td>38117.460938</td>\n",
       "      <td>1.321290e+11</td>\n",
       "    </tr>\n",
       "    <tr>\n",
       "      <th>[2022-04-27, 2022-05-02)</th>\n",
       "      <td>282.100006</td>\n",
       "      <td>290.980011</td>\n",
       "      <td>276.500000</td>\n",
       "      <td>277.519989</td>\n",
       "      <td>134149300.0</td>\n",
       "      <td>38120.300781</td>\n",
       "      <td>40269.464844</td>\n",
       "      <td>37585.789062</td>\n",
       "      <td>38469.093750</td>\n",
       "      <td>1.466662e+11</td>\n",
       "    </tr>\n",
       "    <tr>\n",
       "      <th>[2022-05-02, 2022-05-05)</th>\n",
       "      <td>277.709991</td>\n",
       "      <td>290.880005</td>\n",
       "      <td>276.220001</td>\n",
       "      <td>289.980011</td>\n",
       "      <td>94729000.0</td>\n",
       "      <td>38472.187500</td>\n",
       "      <td>39902.949219</td>\n",
       "      <td>37585.621094</td>\n",
       "      <td>39698.371094</td>\n",
       "      <td>9.700399e+10</td>\n",
       "    </tr>\n",
       "    <tr>\n",
       "      <th>[2022-05-05, 2022-05-10)</th>\n",
       "      <td>285.540009</td>\n",
       "      <td>286.350006</td>\n",
       "      <td>263.320007</td>\n",
       "      <td>264.579987</td>\n",
       "      <td>128734700.0</td>\n",
       "      <td>39695.746094</td>\n",
       "      <td>39789.281250</td>\n",
       "      <td>30296.953125</td>\n",
       "      <td>30296.953125</td>\n",
       "      <td>2.053963e+11</td>\n",
       "    </tr>\n",
       "    <tr>\n",
       "      <th>[2022-05-10, 2022-05-13)</th>\n",
       "      <td>271.690002</td>\n",
       "      <td>273.750000</td>\n",
       "      <td>250.020004</td>\n",
       "      <td>255.350006</td>\n",
       "      <td>139283000.0</td>\n",
       "      <td>30273.654297</td>\n",
       "      <td>32596.308594</td>\n",
       "      <td>26350.490234</td>\n",
       "      <td>29047.751953</td>\n",
       "      <td>1.971891e+11</td>\n",
       "    </tr>\n",
       "  </tbody>\n",
       "</table>\n",
       "</div>"
      ],
      "text/plain": [
       "symbol                          MSFT                                      \\\n",
       "                                open        high         low       close   \n",
       "[2022-04-19, 2022-04-22)  279.380005  293.299988  278.410004  280.809998   \n",
       "[2022-04-22, 2022-04-27)  281.679993  283.200012  270.000000  270.220001   \n",
       "[2022-04-27, 2022-05-02)  282.100006  290.980011  276.500000  277.519989   \n",
       "[2022-05-02, 2022-05-05)  277.709991  290.880005  276.220001  289.980011   \n",
       "[2022-05-05, 2022-05-10)  285.540009  286.350006  263.320007  264.579987   \n",
       "[2022-05-10, 2022-05-13)  271.690002  273.750000  250.020004  255.350006   \n",
       "\n",
       "symbol                                      BTC-USD                \\\n",
       "                               volume          open          high   \n",
       "[2022-04-19, 2022-04-22)   74659000.0  40828.175781  42893.582031   \n",
       "[2022-04-22, 2022-04-27)  111603100.0  40525.863281  40777.757812   \n",
       "[2022-04-27, 2022-05-02)  134149300.0  38120.300781  40269.464844   \n",
       "[2022-05-02, 2022-05-05)   94729000.0  38472.187500  39902.949219   \n",
       "[2022-05-05, 2022-05-10)  128734700.0  39695.746094  39789.281250   \n",
       "[2022-05-10, 2022-05-13)  139283000.0  30273.654297  32596.308594   \n",
       "\n",
       "symbol                                                              \n",
       "                                   low         close        volume  \n",
       "[2022-04-19, 2022-04-22)  40063.828125  40527.363281  8.849553e+10  \n",
       "[2022-04-22, 2022-04-27)  37884.984375  38117.460938  1.321290e+11  \n",
       "[2022-04-27, 2022-05-02)  37585.789062  38469.093750  1.466662e+11  \n",
       "[2022-05-02, 2022-05-05)  37585.621094  39698.371094  9.700399e+10  \n",
       "[2022-05-05, 2022-05-10)  30296.953125  30296.953125  2.053963e+11  \n",
       "[2022-05-10, 2022-05-13)  26350.490234  29047.751953  1.971891e+11  "
      ]
     },
     "execution_count": 104,
     "metadata": {},
     "output_type": "execute_result"
    }
   ],
   "source": [
    "prices_us_247 = PricesYahoo(\"MSFT, BTC-USD\")\n",
    "prices_us_247.get(\"3D\", weeks=4, lead_symbol=\"MSFT\")"
   ]
  },
  {
   "cell_type": "markdown",
   "metadata": {},
   "source": [
    "When MSFT is the lead symbol (above) the index is the same as for prices requested from the earlier Prices class that included only MSFT..."
   ]
  },
  {
   "cell_type": "code",
   "execution_count": 105,
   "metadata": {},
   "outputs": [
    {
     "data": {
      "text/html": [
       "<div>\n",
       "<style scoped>\n",
       "    .dataframe tbody tr th:only-of-type {\n",
       "        vertical-align: middle;\n",
       "    }\n",
       "\n",
       "    .dataframe tbody tr th {\n",
       "        vertical-align: top;\n",
       "    }\n",
       "\n",
       "    .dataframe thead tr th {\n",
       "        text-align: left;\n",
       "    }\n",
       "</style>\n",
       "<table border=\"1\" class=\"dataframe\">\n",
       "  <thead>\n",
       "    <tr>\n",
       "      <th>symbol</th>\n",
       "      <th colspan=\"5\" halign=\"left\">MSFT</th>\n",
       "    </tr>\n",
       "    <tr>\n",
       "      <th></th>\n",
       "      <th>open</th>\n",
       "      <th>high</th>\n",
       "      <th>low</th>\n",
       "      <th>close</th>\n",
       "      <th>volume</th>\n",
       "    </tr>\n",
       "  </thead>\n",
       "  <tbody>\n",
       "    <tr>\n",
       "      <th>[2022-04-19, 2022-04-22)</th>\n",
       "      <td>279.380005</td>\n",
       "      <td>293.299988</td>\n",
       "      <td>278.410004</td>\n",
       "      <td>280.809998</td>\n",
       "      <td>74659000.0</td>\n",
       "    </tr>\n",
       "    <tr>\n",
       "      <th>[2022-04-22, 2022-04-27)</th>\n",
       "      <td>281.679993</td>\n",
       "      <td>283.200012</td>\n",
       "      <td>270.000000</td>\n",
       "      <td>270.220001</td>\n",
       "      <td>111603100.0</td>\n",
       "    </tr>\n",
       "    <tr>\n",
       "      <th>[2022-04-27, 2022-05-02)</th>\n",
       "      <td>282.100006</td>\n",
       "      <td>290.980011</td>\n",
       "      <td>276.500000</td>\n",
       "      <td>277.519989</td>\n",
       "      <td>134149300.0</td>\n",
       "    </tr>\n",
       "    <tr>\n",
       "      <th>[2022-05-02, 2022-05-05)</th>\n",
       "      <td>277.709991</td>\n",
       "      <td>290.880005</td>\n",
       "      <td>276.220001</td>\n",
       "      <td>289.980011</td>\n",
       "      <td>94729000.0</td>\n",
       "    </tr>\n",
       "    <tr>\n",
       "      <th>[2022-05-05, 2022-05-10)</th>\n",
       "      <td>285.540009</td>\n",
       "      <td>286.350006</td>\n",
       "      <td>263.320007</td>\n",
       "      <td>264.579987</td>\n",
       "      <td>128734700.0</td>\n",
       "    </tr>\n",
       "    <tr>\n",
       "      <th>[2022-05-10, 2022-05-13)</th>\n",
       "      <td>271.690002</td>\n",
       "      <td>273.750000</td>\n",
       "      <td>250.020004</td>\n",
       "      <td>255.350006</td>\n",
       "      <td>139283000.0</td>\n",
       "    </tr>\n",
       "  </tbody>\n",
       "</table>\n",
       "</div>"
      ],
      "text/plain": [
       "symbol                          MSFT                                      \\\n",
       "                                open        high         low       close   \n",
       "[2022-04-19, 2022-04-22)  279.380005  293.299988  278.410004  280.809998   \n",
       "[2022-04-22, 2022-04-27)  281.679993  283.200012  270.000000  270.220001   \n",
       "[2022-04-27, 2022-05-02)  282.100006  290.980011  276.500000  277.519989   \n",
       "[2022-05-02, 2022-05-05)  277.709991  290.880005  276.220001  289.980011   \n",
       "[2022-05-05, 2022-05-10)  285.540009  286.350006  263.320007  264.579987   \n",
       "[2022-05-10, 2022-05-13)  271.690002  273.750000  250.020004  255.350006   \n",
       "\n",
       "symbol                                 \n",
       "                               volume  \n",
       "[2022-04-19, 2022-04-22)   74659000.0  \n",
       "[2022-04-22, 2022-04-27)  111603100.0  \n",
       "[2022-04-27, 2022-05-02)  134149300.0  \n",
       "[2022-05-02, 2022-05-05)   94729000.0  \n",
       "[2022-05-05, 2022-05-10)  128734700.0  \n",
       "[2022-05-10, 2022-05-13)  139283000.0  "
      ]
     },
     "execution_count": 105,
     "metadata": {},
     "output_type": "execute_result"
    }
   ],
   "source": [
    "prices.get(\"3D\", weeks=4)"
   ]
  },
  {
   "cell_type": "markdown",
   "metadata": {},
   "source": [
    "However, if the lead symbol is changed to BTC-USD then there will be more indices as weekend sessions will now contribute to the \"3D\" interval."
   ]
  },
  {
   "cell_type": "code",
   "execution_count": 106,
   "metadata": {},
   "outputs": [
    {
     "data": {
      "text/html": [
       "<div>\n",
       "<style scoped>\n",
       "    .dataframe tbody tr th:only-of-type {\n",
       "        vertical-align: middle;\n",
       "    }\n",
       "\n",
       "    .dataframe tbody tr th {\n",
       "        vertical-align: top;\n",
       "    }\n",
       "\n",
       "    .dataframe thead tr th {\n",
       "        text-align: left;\n",
       "    }\n",
       "</style>\n",
       "<table border=\"1\" class=\"dataframe\">\n",
       "  <thead>\n",
       "    <tr>\n",
       "      <th>symbol</th>\n",
       "      <th colspan=\"5\" halign=\"left\">MSFT</th>\n",
       "      <th colspan=\"5\" halign=\"left\">BTC-USD</th>\n",
       "    </tr>\n",
       "    <tr>\n",
       "      <th></th>\n",
       "      <th>open</th>\n",
       "      <th>high</th>\n",
       "      <th>low</th>\n",
       "      <th>close</th>\n",
       "      <th>volume</th>\n",
       "      <th>open</th>\n",
       "      <th>high</th>\n",
       "      <th>low</th>\n",
       "      <th>close</th>\n",
       "      <th>volume</th>\n",
       "    </tr>\n",
       "  </thead>\n",
       "  <tbody>\n",
       "    <tr>\n",
       "      <th>[2022-04-17, 2022-04-20)</th>\n",
       "      <td>278.910004</td>\n",
       "      <td>286.170013</td>\n",
       "      <td>278.339996</td>\n",
       "      <td>285.299988</td>\n",
       "      <td>43075700.0</td>\n",
       "      <td>40417.777344</td>\n",
       "      <td>41672.960938</td>\n",
       "      <td>38696.191406</td>\n",
       "      <td>41502.750000</td>\n",
       "      <td>7.809602e+10</td>\n",
       "    </tr>\n",
       "    <tr>\n",
       "      <th>[2022-04-20, 2022-04-23)</th>\n",
       "      <td>289.399994</td>\n",
       "      <td>293.299988</td>\n",
       "      <td>273.380005</td>\n",
       "      <td>274.029999</td>\n",
       "      <td>81767100.0</td>\n",
       "      <td>41501.746094</td>\n",
       "      <td>42893.582031</td>\n",
       "      <td>39315.417969</td>\n",
       "      <td>39740.320312</td>\n",
       "      <td>9.120404e+10</td>\n",
       "    </tr>\n",
       "    <tr>\n",
       "      <th>[2022-04-23, 2022-04-26)</th>\n",
       "      <td>273.290009</td>\n",
       "      <td>281.109985</td>\n",
       "      <td>270.769989</td>\n",
       "      <td>280.720001</td>\n",
       "      <td>35678900.0</td>\n",
       "      <td>39738.722656</td>\n",
       "      <td>40491.753906</td>\n",
       "      <td>38338.378906</td>\n",
       "      <td>40458.308594</td>\n",
       "      <td>6.954815e+10</td>\n",
       "    </tr>\n",
       "    <tr>\n",
       "      <th>[2022-04-26, 2022-04-29)</th>\n",
       "      <td>277.500000</td>\n",
       "      <td>290.980011</td>\n",
       "      <td>270.000000</td>\n",
       "      <td>289.630005</td>\n",
       "      <td>143642700.0</td>\n",
       "      <td>40448.421875</td>\n",
       "      <td>40713.890625</td>\n",
       "      <td>37884.984375</td>\n",
       "      <td>39773.828125</td>\n",
       "      <td>9.945381e+10</td>\n",
       "    </tr>\n",
       "    <tr>\n",
       "      <th>[2022-04-29, 2022-05-02)</th>\n",
       "      <td>288.609985</td>\n",
       "      <td>289.880005</td>\n",
       "      <td>276.500000</td>\n",
       "      <td>277.519989</td>\n",
       "      <td>37025000.0</td>\n",
       "      <td>39768.617188</td>\n",
       "      <td>39887.269531</td>\n",
       "      <td>37585.789062</td>\n",
       "      <td>38469.093750</td>\n",
       "      <td>8.178147e+10</td>\n",
       "    </tr>\n",
       "    <tr>\n",
       "      <th>[2022-05-02, 2022-05-05)</th>\n",
       "      <td>277.709991</td>\n",
       "      <td>290.880005</td>\n",
       "      <td>276.220001</td>\n",
       "      <td>289.980011</td>\n",
       "      <td>94729000.0</td>\n",
       "      <td>38472.187500</td>\n",
       "      <td>39902.949219</td>\n",
       "      <td>37585.621094</td>\n",
       "      <td>39698.371094</td>\n",
       "      <td>9.700399e+10</td>\n",
       "    </tr>\n",
       "    <tr>\n",
       "      <th>[2022-05-05, 2022-05-08)</th>\n",
       "      <td>285.540009</td>\n",
       "      <td>286.350006</td>\n",
       "      <td>271.269989</td>\n",
       "      <td>274.730011</td>\n",
       "      <td>81008700.0</td>\n",
       "      <td>39695.746094</td>\n",
       "      <td>39789.281250</td>\n",
       "      <td>34940.824219</td>\n",
       "      <td>35501.953125</td>\n",
       "      <td>1.052777e+11</td>\n",
       "    </tr>\n",
       "    <tr>\n",
       "      <th>[2022-05-08, 2022-05-11)</th>\n",
       "      <td>270.059998</td>\n",
       "      <td>273.750000</td>\n",
       "      <td>263.320007</td>\n",
       "      <td>269.500000</td>\n",
       "      <td>87062400.0</td>\n",
       "      <td>35502.941406</td>\n",
       "      <td>35502.941406</td>\n",
       "      <td>29944.802734</td>\n",
       "      <td>31022.906250</td>\n",
       "      <td>1.599296e+11</td>\n",
       "    </tr>\n",
       "    <tr>\n",
       "      <th>[2022-05-11, 2022-05-14)</th>\n",
       "      <td>265.679993</td>\n",
       "      <td>271.359985</td>\n",
       "      <td>250.020004</td>\n",
       "      <td>255.350006</td>\n",
       "      <td>99946600.0</td>\n",
       "      <td>31016.183594</td>\n",
       "      <td>32013.402344</td>\n",
       "      <td>26350.490234</td>\n",
       "      <td>30514.349609</td>\n",
       "      <td>1.922683e+11</td>\n",
       "    </tr>\n",
       "  </tbody>\n",
       "</table>\n",
       "</div>"
      ],
      "text/plain": [
       "symbol                          MSFT                                      \\\n",
       "                                open        high         low       close   \n",
       "[2022-04-17, 2022-04-20)  278.910004  286.170013  278.339996  285.299988   \n",
       "[2022-04-20, 2022-04-23)  289.399994  293.299988  273.380005  274.029999   \n",
       "[2022-04-23, 2022-04-26)  273.290009  281.109985  270.769989  280.720001   \n",
       "[2022-04-26, 2022-04-29)  277.500000  290.980011  270.000000  289.630005   \n",
       "[2022-04-29, 2022-05-02)  288.609985  289.880005  276.500000  277.519989   \n",
       "[2022-05-02, 2022-05-05)  277.709991  290.880005  276.220001  289.980011   \n",
       "[2022-05-05, 2022-05-08)  285.540009  286.350006  271.269989  274.730011   \n",
       "[2022-05-08, 2022-05-11)  270.059998  273.750000  263.320007  269.500000   \n",
       "[2022-05-11, 2022-05-14)  265.679993  271.359985  250.020004  255.350006   \n",
       "\n",
       "symbol                                      BTC-USD                \\\n",
       "                               volume          open          high   \n",
       "[2022-04-17, 2022-04-20)   43075700.0  40417.777344  41672.960938   \n",
       "[2022-04-20, 2022-04-23)   81767100.0  41501.746094  42893.582031   \n",
       "[2022-04-23, 2022-04-26)   35678900.0  39738.722656  40491.753906   \n",
       "[2022-04-26, 2022-04-29)  143642700.0  40448.421875  40713.890625   \n",
       "[2022-04-29, 2022-05-02)   37025000.0  39768.617188  39887.269531   \n",
       "[2022-05-02, 2022-05-05)   94729000.0  38472.187500  39902.949219   \n",
       "[2022-05-05, 2022-05-08)   81008700.0  39695.746094  39789.281250   \n",
       "[2022-05-08, 2022-05-11)   87062400.0  35502.941406  35502.941406   \n",
       "[2022-05-11, 2022-05-14)   99946600.0  31016.183594  32013.402344   \n",
       "\n",
       "symbol                                                              \n",
       "                                   low         close        volume  \n",
       "[2022-04-17, 2022-04-20)  38696.191406  41502.750000  7.809602e+10  \n",
       "[2022-04-20, 2022-04-23)  39315.417969  39740.320312  9.120404e+10  \n",
       "[2022-04-23, 2022-04-26)  38338.378906  40458.308594  6.954815e+10  \n",
       "[2022-04-26, 2022-04-29)  37884.984375  39773.828125  9.945381e+10  \n",
       "[2022-04-29, 2022-05-02)  37585.789062  38469.093750  8.178147e+10  \n",
       "[2022-05-02, 2022-05-05)  37585.621094  39698.371094  9.700399e+10  \n",
       "[2022-05-05, 2022-05-08)  34940.824219  35501.953125  1.052777e+11  \n",
       "[2022-05-08, 2022-05-11)  29944.802734  31022.906250  1.599296e+11  \n",
       "[2022-05-11, 2022-05-14)  26350.490234  30514.349609  1.922683e+11  "
      ]
     },
     "execution_count": 106,
     "metadata": {},
     "output_type": "execute_result"
    }
   ],
   "source": [
    "df = prices_us_247.get(\"3D\", weeks=4, lead_symbol=\"BTC-USD\")\n",
    "df"
   ]
  },
  {
   "cell_type": "markdown",
   "metadata": {},
   "source": [
    "The `.pt.indices_partial_trading` method shows that there are many indices that cover dates that were not xnys sessions."
   ]
  },
  {
   "cell_type": "code",
   "execution_count": 107,
   "metadata": {},
   "outputs": [
    {
     "data": {
      "text/plain": [
       "IntervalIndex([[2022-04-17, 2022-04-20), [2022-04-23, 2022-04-26), [2022-04-29, 2022-05-02), [2022-05-05, 2022-05-08), [2022-05-08, 2022-05-11)], dtype='interval[datetime64[ns], left]')"
      ]
     },
     "execution_count": 107,
     "metadata": {},
     "output_type": "execute_result"
    }
   ],
   "source": [
    "df.pt.indices_partial_trading(xnys)"
   ]
  },
  {
   "cell_type": "markdown",
   "metadata": {},
   "source": [
    "Although there are no such indices for the 24/7 trading bitcoin..."
   ]
  },
  {
   "cell_type": "code",
   "execution_count": 108,
   "metadata": {},
   "outputs": [
    {
     "data": {
      "text/plain": [
       "IntervalIndex([], dtype='interval[datetime64[ns], left]')"
      ]
     },
     "execution_count": 108,
     "metadata": {},
     "output_type": "execute_result"
    }
   ],
   "source": [
    "x247 = prices_us_247.calendars[\"BTC-USD\"]\n",
    "df.pt.indices_partial_trading(x247)"
   ]
  },
  {
   "cell_type": "markdown",
   "metadata": {},
   "source": [
    "Indices for **intervals that are a multiple of months** are evaluated in the same way whether symbols are all associated with the same calendar or not."
   ]
  },
  {
   "cell_type": "code",
   "execution_count": 109,
   "metadata": {},
   "outputs": [
    {
     "data": {
      "text/html": [
       "<div>\n",
       "<style scoped>\n",
       "    .dataframe tbody tr th:only-of-type {\n",
       "        vertical-align: middle;\n",
       "    }\n",
       "\n",
       "    .dataframe tbody tr th {\n",
       "        vertical-align: top;\n",
       "    }\n",
       "\n",
       "    .dataframe thead tr th {\n",
       "        text-align: left;\n",
       "    }\n",
       "</style>\n",
       "<table border=\"1\" class=\"dataframe\">\n",
       "  <thead>\n",
       "    <tr>\n",
       "      <th>symbol</th>\n",
       "      <th colspan=\"5\" halign=\"left\">MSFT</th>\n",
       "      <th colspan=\"5\" halign=\"left\">AZN.L</th>\n",
       "    </tr>\n",
       "    <tr>\n",
       "      <th></th>\n",
       "      <th>open</th>\n",
       "      <th>high</th>\n",
       "      <th>low</th>\n",
       "      <th>close</th>\n",
       "      <th>volume</th>\n",
       "      <th>open</th>\n",
       "      <th>high</th>\n",
       "      <th>low</th>\n",
       "      <th>close</th>\n",
       "      <th>volume</th>\n",
       "    </tr>\n",
       "  </thead>\n",
       "  <tbody>\n",
       "    <tr>\n",
       "      <th>[2021-06-01, 2021-09-01)</th>\n",
       "      <td>251.229996</td>\n",
       "      <td>305.839996</td>\n",
       "      <td>243.000000</td>\n",
       "      <td>301.880005</td>\n",
       "      <td>1.472554e+09</td>\n",
       "      <td>8095.0</td>\n",
       "      <td>8811.0</td>\n",
       "      <td>7870.000000</td>\n",
       "      <td>8514.0</td>\n",
       "      <td>223099794.0</td>\n",
       "    </tr>\n",
       "    <tr>\n",
       "      <th>[2021-09-01, 2021-12-01)</th>\n",
       "      <td>302.869995</td>\n",
       "      <td>349.670013</td>\n",
       "      <td>280.250000</td>\n",
       "      <td>330.589996</td>\n",
       "      <td>1.529320e+09</td>\n",
       "      <td>8535.0</td>\n",
       "      <td>9523.0</td>\n",
       "      <td>8029.000000</td>\n",
       "      <td>8276.0</td>\n",
       "      <td>134350339.0</td>\n",
       "    </tr>\n",
       "    <tr>\n",
       "      <th>[2021-12-01, 2022-03-01)</th>\n",
       "      <td>335.130005</td>\n",
       "      <td>344.299988</td>\n",
       "      <td>271.519989</td>\n",
       "      <td>298.790009</td>\n",
       "      <td>2.270257e+09</td>\n",
       "      <td>8303.0</td>\n",
       "      <td>9175.0</td>\n",
       "      <td>8090.319824</td>\n",
       "      <td>9059.0</td>\n",
       "      <td>140648946.0</td>\n",
       "    </tr>\n",
       "    <tr>\n",
       "      <th>[2022-03-01, 2022-06-01)</th>\n",
       "      <td>296.399994</td>\n",
       "      <td>315.950012</td>\n",
       "      <td>250.020004</td>\n",
       "      <td>255.350006</td>\n",
       "      <td>1.724375e+09</td>\n",
       "      <td>9195.0</td>\n",
       "      <td>11000.0</td>\n",
       "      <td>8326.000000</td>\n",
       "      <td>9965.0</td>\n",
       "      <td>144222024.0</td>\n",
       "    </tr>\n",
       "  </tbody>\n",
       "</table>\n",
       "</div>"
      ],
      "text/plain": [
       "symbol                          MSFT                                      \\\n",
       "                                open        high         low       close   \n",
       "[2021-06-01, 2021-09-01)  251.229996  305.839996  243.000000  301.880005   \n",
       "[2021-09-01, 2021-12-01)  302.869995  349.670013  280.250000  330.589996   \n",
       "[2021-12-01, 2022-03-01)  335.130005  344.299988  271.519989  298.790009   \n",
       "[2022-03-01, 2022-06-01)  296.399994  315.950012  250.020004  255.350006   \n",
       "\n",
       "symbol                                   AZN.L                                \\\n",
       "                                volume    open     high          low   close   \n",
       "[2021-06-01, 2021-09-01)  1.472554e+09  8095.0   8811.0  7870.000000  8514.0   \n",
       "[2021-09-01, 2021-12-01)  1.529320e+09  8535.0   9523.0  8029.000000  8276.0   \n",
       "[2021-12-01, 2022-03-01)  2.270257e+09  8303.0   9175.0  8090.319824  9059.0   \n",
       "[2022-03-01, 2022-06-01)  1.724375e+09  9195.0  11000.0  8326.000000  9965.0   \n",
       "\n",
       "symbol                                 \n",
       "                               volume  \n",
       "[2021-06-01, 2021-09-01)  223099794.0  \n",
       "[2021-09-01, 2021-12-01)  134350339.0  \n",
       "[2021-12-01, 2022-03-01)  140648946.0  \n",
       "[2022-03-01, 2022-06-01)  144222024.0  "
      ]
     },
     "execution_count": 109,
     "metadata": {},
     "output_type": "execute_result"
    }
   ],
   "source": [
    "prices_us_lon.get(\"3M\", years=1)"
   ]
  },
  {
   "cell_type": "markdown",
   "metadata": {},
   "source": [
    "## Takeaways\n",
    "\n",
    "If [`anchor` is **\"open\"**](#anchor-\"open\") (the default) then by default all indices will be of length `interval`.\n",
    "* If the last indice of a (sub)session does not align with the (sub)session close then that indice will include a non-trading period (unless calendar is 24h).\n",
    "* If the indice of a (sub)session [overlaps](#Indices-overlapping-next-session) the first indice of the next sub(session) then the right side of that indice will be curtailed to the left side of the next indice. In this case a Warning is raised to advise that the intervals are not regular.\n",
    "* The [`force` option](#force) will curtail indices that include a single non-trading period so that they only cover the period during which at least one symbol was trading. \n",
    "* If symbols are associated with [multiple calendars](#Multiple-calendars) prices will be anchored to the open of the `lead_symbol`.\n",
    "* There are [some cases](#Calendars-with-breaks) where indices associated with an afternoon subsession are necessarily anchored to the morning open.\n",
    "* The [`openend` option](#Force-to-period-end-with-openend) determines how the final indice should be defined when the period end is an unaligned session close.\n",
    "    * \"maintain\" ensures the final indice has length `interval`. The final indice will be the indice that contains the session close only if no symbol trades in the period between the session close and the right of this indice, to the contrary the final indice will be the prior indice.\n",
    "    * \"shorten\" will result in the final indice being shorter than `interval` and aligning with the session close (albeit [only if underlying data allows](#openend)).\n",
    "\n",
    "Passing [`anchor` as **\"workback\"**](#anchor-\"workback\") will anchor the right of the last indice on the evaluated period end. Indices are then evaluated by working back the number of minutes corresponding with `interval`.\n",
    "* All indices will cover `interval` number of trading minutes.\n",
    "* Non-trading periods between (sub)sessions will be included to indices whenever indices don't happen to neatly align with session opens.\n",
    "\n",
    "There are a host of [`.pt` accessor methods](#Interrogating-indices-with-.pt-accessor), to interrogate the likes of:\n",
    "* indices' trading status (trading, partial-trading, non-trading)\n",
    "* the number of trading minutes associated with indices\n",
    "* indices length\n",
    "\n",
    "Many [`.pt` accessor methods take a calendar argument](#.pt-accessor-methods) to evaluate the return for a specific calendar."
   ]
  }
 ],
 "metadata": {
  "kernelspec": {
   "display_name": "mkt_prices 3.8.2",
   "language": "python",
   "name": "mkt_prices"
  },
  "language_info": {
   "codemirror_mode": {
    "name": "ipython",
    "version": 3
   },
   "file_extension": ".py",
   "mimetype": "text/x-python",
   "name": "python",
   "nbconvert_exporter": "python",
   "pygments_lexer": "ipython3",
   "version": "3.8.2"
  },
  "widgets": {
   "application/vnd.jupyter.widget-state+json": {
    "state": {},
    "version_major": 2,
    "version_minor": 0
   }
  }
 },
 "nbformat": 4,
 "nbformat_minor": 4
}
